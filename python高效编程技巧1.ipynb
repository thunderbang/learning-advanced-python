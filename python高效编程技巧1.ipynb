{
 "cells": [
  {
   "cell_type": "markdown",
   "metadata": {},
   "source": [
    "# Python高效编程技巧1"
   ]
  },
  {
   "cell_type": "markdown",
   "metadata": {},
   "source": [
    "1. [如何在列表、字典、集合中根据条件筛选数据？](#1)\n",
    "2. [如何为元组中的每个元素命名，提高程序的可读性？](#2)\n",
    "3. [如何统计序列中元素的出现频率？](#3)\n",
    "4. [如何根据字典中值的大小，对字典中的项进行排序](#4)\n",
    "5. [如何快速找到多个字典中的公共键（key）](#5)\n",
    "6. [如何让字典保持有序](#6)\n",
    "7. [如何实现用户的历史记录功能（最多n条）](#7)\n",
    "8. [如何实现可迭代对象和迭代器对象？](#8)\n",
    "9. [如何使用生成器函数实现可迭代对象？](#9)"
   ]
  },
  {
   "cell_type": "markdown",
   "metadata": {},
   "source": [
    "## <span id='1'>1 如何在列表、字典、集合中根据条件筛选数据？</span>\n",
    "- 列表\n",
    " - filter函数 filter(lambda x : x>=0, data)\n",
    " - 列表解析 \\[x for x in data if x >= 0\\]\n",
    "- 字典 \n",
    " - 字典解析 \\{k : v for k, v in d.iteritems() if v > 90}\n",
    "- 集合\n",
    " - 集合解析 \\{x for x in s if x%3 == 0}"
   ]
  },
  {
   "cell_type": "code",
   "execution_count": 1,
   "metadata": {},
   "outputs": [],
   "source": [
    "from random import randint"
   ]
  },
  {
   "cell_type": "code",
   "execution_count": 3,
   "metadata": {},
   "outputs": [
    {
     "data": {
      "text/plain": [
       "[5, -10, 7, -2, -4, 9, -4, -5, -7, -10]"
      ]
     },
     "execution_count": 3,
     "metadata": {},
     "output_type": "execute_result"
    }
   ],
   "source": [
    "data = [randint(-10, 10) for _ in range(10)]\n",
    "data"
   ]
  },
  {
   "cell_type": "code",
   "execution_count": 4,
   "metadata": {},
   "outputs": [],
   "source": [
    "filter?"
   ]
  },
  {
   "cell_type": "code",
   "execution_count": 10,
   "metadata": {},
   "outputs": [
    {
     "data": {
      "text/plain": [
       "<filter at 0x106463a20>"
      ]
     },
     "execution_count": 10,
     "metadata": {},
     "output_type": "execute_result"
    }
   ],
   "source": [
    "filter(lambda x: x >= 0, data)"
   ]
  },
  {
   "cell_type": "code",
   "execution_count": 11,
   "metadata": {},
   "outputs": [
    {
     "data": {
      "text/plain": [
       "[5, 7, 9]"
      ]
     },
     "execution_count": 11,
     "metadata": {},
     "output_type": "execute_result"
    }
   ],
   "source": [
    "[x for x in data if x >= 0]"
   ]
  },
  {
   "cell_type": "code",
   "execution_count": 12,
   "metadata": {},
   "outputs": [
    {
     "name": "stdout",
     "output_type": "stream",
     "text": [
      "217 ns ± 3.21 ns per loop (mean ± std. dev. of 7 runs, 1000000 loops each)\n"
     ]
    }
   ],
   "source": [
    "timeit filter(lambda x: x >= 0, data)"
   ]
  },
  {
   "cell_type": "code",
   "execution_count": 13,
   "metadata": {},
   "outputs": [
    {
     "name": "stdout",
     "output_type": "stream",
     "text": [
      "532 ns ± 19.3 ns per loop (mean ± std. dev. of 7 runs, 1000000 loops each)\n"
     ]
    }
   ],
   "source": [
    "timeit [x for x in data if x >= 0]"
   ]
  },
  {
   "cell_type": "code",
   "execution_count": 14,
   "metadata": {},
   "outputs": [
    {
     "data": {
      "text/plain": [
       "{1: 87,\n",
       " 2: 78,\n",
       " 3: 63,\n",
       " 4: 75,\n",
       " 5: 82,\n",
       " 6: 88,\n",
       " 7: 61,\n",
       " 8: 69,\n",
       " 9: 88,\n",
       " 10: 97,\n",
       " 11: 69,\n",
       " 12: 85,\n",
       " 13: 91,\n",
       " 14: 62,\n",
       " 15: 70,\n",
       " 16: 71,\n",
       " 17: 70,\n",
       " 18: 89,\n",
       " 19: 82,\n",
       " 20: 85}"
      ]
     },
     "execution_count": 14,
     "metadata": {},
     "output_type": "execute_result"
    }
   ],
   "source": [
    "d = {x: randint(60, 100) for x in range(1, 21)}\n",
    "d"
   ]
  },
  {
   "cell_type": "code",
   "execution_count": 16,
   "metadata": {},
   "outputs": [
    {
     "data": {
      "text/plain": [
       "{10: 97, 13: 91}"
      ]
     },
     "execution_count": 16,
     "metadata": {},
     "output_type": "execute_result"
    }
   ],
   "source": [
    "{k: v for k, v in d.items() if v > 90}"
   ]
  },
  {
   "cell_type": "code",
   "execution_count": 17,
   "metadata": {},
   "outputs": [
    {
     "data": {
      "text/plain": [
       "[5, -10, 7, -2, -4, 9, -4, -5, -7, -10]"
      ]
     },
     "execution_count": 17,
     "metadata": {},
     "output_type": "execute_result"
    }
   ],
   "source": [
    "data"
   ]
  },
  {
   "cell_type": "code",
   "execution_count": 18,
   "metadata": {},
   "outputs": [
    {
     "data": {
      "text/plain": [
       "{-10, -7, -5, -4, -2, 5, 7, 9}"
      ]
     },
     "execution_count": 18,
     "metadata": {},
     "output_type": "execute_result"
    }
   ],
   "source": [
    "s = set(data)\n",
    "s"
   ]
  },
  {
   "cell_type": "code",
   "execution_count": 19,
   "metadata": {},
   "outputs": [
    {
     "data": {
      "text/plain": [
       "{9}"
      ]
     },
     "execution_count": 19,
     "metadata": {},
     "output_type": "execute_result"
    }
   ],
   "source": [
    "{x for x in s if x % 3 == 0}"
   ]
  },
  {
   "cell_type": "markdown",
   "metadata": {},
   "source": [
    "## <span id='2'>2 如何为元组中的每个元素命名，提高程序的可读性？</span>\n",
    "- 定义类似与其他语言的枚举类型，也就是定义一系列数值常量\n",
    "- 使用标准库中collections.namedtuple替代内置tuple"
   ]
  },
  {
   "cell_type": "code",
   "execution_count": 21,
   "metadata": {},
   "outputs": [
    {
     "data": {
      "text/plain": [
       "('Jim', 16, 'male', 'jim8721@gmail.com')"
      ]
     },
     "execution_count": 21,
     "metadata": {},
     "output_type": "execute_result"
    }
   ],
   "source": [
    "student = ('Jim', 16, 'male', 'jim8721@gmail.com')\n",
    "student"
   ]
  },
  {
   "cell_type": "code",
   "execution_count": 22,
   "metadata": {},
   "outputs": [
    {
     "data": {
      "text/plain": [
       "'Jim'"
      ]
     },
     "execution_count": 22,
     "metadata": {},
     "output_type": "execute_result"
    }
   ],
   "source": [
    "student[0]"
   ]
  },
  {
   "cell_type": "markdown",
   "metadata": {},
   "source": [
    "要引用元组中的元素，需要大量的数字索引，降低了可读性。\n",
    "#### 采用方法一，定义一系列数值常量"
   ]
  },
  {
   "cell_type": "code",
   "execution_count": 23,
   "metadata": {},
   "outputs": [
    {
     "data": {
      "text/plain": [
       "'Jim'"
      ]
     },
     "execution_count": 23,
     "metadata": {},
     "output_type": "execute_result"
    }
   ],
   "source": [
    "NAME, AGE, SEX, EMAIL = range(4)\n",
    "student[NAME]"
   ]
  },
  {
   "cell_type": "markdown",
   "metadata": {},
   "source": [
    "**采用方法二，使用标准库中collections.namedtuple替代内置tuple**"
   ]
  },
  {
   "cell_type": "code",
   "execution_count": 24,
   "metadata": {},
   "outputs": [
    {
     "data": {
      "text/plain": [
       "Student(name='Jim', age=16, sex='male', email='jim8721@gmail.com')"
      ]
     },
     "execution_count": 24,
     "metadata": {},
     "output_type": "execute_result"
    }
   ],
   "source": [
    "from collections import namedtuple\n",
    "Student = namedtuple('Student', ['name', 'age', 'sex', 'email'])\n",
    "s = Student('Jim', 16, 'male', 'jim8721@gmail.com')\n",
    "s"
   ]
  },
  {
   "cell_type": "code",
   "execution_count": 26,
   "metadata": {},
   "outputs": [
    {
     "data": {
      "text/plain": [
       "Student(name='Jim', age=16, sex='male', email='jim8721@gmail.com')"
      ]
     },
     "execution_count": 26,
     "metadata": {},
     "output_type": "execute_result"
    }
   ],
   "source": [
    "s = Student(name='Jim', age=16, sex='male', email='jim8721@gmail.com')\n",
    "s"
   ]
  },
  {
   "cell_type": "code",
   "execution_count": 27,
   "metadata": {},
   "outputs": [
    {
     "data": {
      "text/plain": [
       "'Jim'"
      ]
     },
     "execution_count": 27,
     "metadata": {},
     "output_type": "execute_result"
    }
   ],
   "source": [
    "s.name"
   ]
  },
  {
   "cell_type": "code",
   "execution_count": 28,
   "metadata": {},
   "outputs": [
    {
     "data": {
      "text/plain": [
       "16"
      ]
     },
     "execution_count": 28,
     "metadata": {},
     "output_type": "execute_result"
    }
   ],
   "source": [
    "s.age"
   ]
  },
  {
   "cell_type": "code",
   "execution_count": 29,
   "metadata": {},
   "outputs": [
    {
     "data": {
      "text/plain": [
       "True"
      ]
     },
     "execution_count": 29,
     "metadata": {},
     "output_type": "execute_result"
    }
   ],
   "source": [
    "isinstance(s, tuple)"
   ]
  },
  {
   "cell_type": "markdown",
   "metadata": {},
   "source": [
    "## <span id='3'>3 如何统计序列中元素的出现频率？ </span>\n",
    "- 随机序列中元素频率统计\n",
    "- 词频统计：找出出现次数最高的10个单词，及出现次数 "
   ]
  },
  {
   "cell_type": "code",
   "execution_count": 30,
   "metadata": {},
   "outputs": [],
   "source": [
    "from random import randint"
   ]
  },
  {
   "cell_type": "code",
   "execution_count": 32,
   "metadata": {},
   "outputs": [
    {
     "data": {
      "text/plain": [
       "[18,\n",
       " 4,\n",
       " 9,\n",
       " 18,\n",
       " 7,\n",
       " 15,\n",
       " 0,\n",
       " 16,\n",
       " 20,\n",
       " 2,\n",
       " 0,\n",
       " 11,\n",
       " 19,\n",
       " 3,\n",
       " 8,\n",
       " 0,\n",
       " 20,\n",
       " 10,\n",
       " 3,\n",
       " 19,\n",
       " 3,\n",
       " 13,\n",
       " 16,\n",
       " 10,\n",
       " 12,\n",
       " 15,\n",
       " 11,\n",
       " 9,\n",
       " 16,\n",
       " 18]"
      ]
     },
     "execution_count": 32,
     "metadata": {},
     "output_type": "execute_result"
    }
   ],
   "source": [
    "data = [randint(0, 20) for _ in range(30)]\n",
    "data"
   ]
  },
  {
   "cell_type": "code",
   "execution_count": 33,
   "metadata": {},
   "outputs": [
    {
     "data": {
      "text/plain": [
       "{18: 0,\n",
       " 4: 0,\n",
       " 9: 0,\n",
       " 7: 0,\n",
       " 15: 0,\n",
       " 0: 0,\n",
       " 16: 0,\n",
       " 20: 0,\n",
       " 2: 0,\n",
       " 11: 0,\n",
       " 19: 0,\n",
       " 3: 0,\n",
       " 8: 0,\n",
       " 10: 0,\n",
       " 13: 0,\n",
       " 12: 0}"
      ]
     },
     "execution_count": 33,
     "metadata": {},
     "output_type": "execute_result"
    }
   ],
   "source": [
    "c = dict.fromkeys(data, 0)\n",
    "c"
   ]
  },
  {
   "cell_type": "code",
   "execution_count": 34,
   "metadata": {},
   "outputs": [
    {
     "data": {
      "text/plain": [
       "{18: 3,\n",
       " 4: 1,\n",
       " 9: 2,\n",
       " 7: 1,\n",
       " 15: 2,\n",
       " 0: 3,\n",
       " 16: 3,\n",
       " 20: 2,\n",
       " 2: 1,\n",
       " 11: 2,\n",
       " 19: 2,\n",
       " 3: 3,\n",
       " 8: 1,\n",
       " 10: 2,\n",
       " 13: 1,\n",
       " 12: 1}"
      ]
     },
     "execution_count": 34,
     "metadata": {},
     "output_type": "execute_result"
    }
   ],
   "source": [
    "for x in data:\n",
    "    c[x] += 1\n",
    "c"
   ]
  },
  {
   "cell_type": "code",
   "execution_count": 45,
   "metadata": {},
   "outputs": [
    {
     "data": {
      "text/plain": [
       "[(4, 1),\n",
       " (7, 1),\n",
       " (2, 1),\n",
       " (8, 1),\n",
       " (13, 1),\n",
       " (12, 1),\n",
       " (9, 2),\n",
       " (15, 2),\n",
       " (20, 2),\n",
       " (11, 2),\n",
       " (19, 2),\n",
       " (10, 2),\n",
       " (18, 3),\n",
       " (0, 3),\n",
       " (16, 3),\n",
       " (3, 3)]"
      ]
     },
     "execution_count": 45,
     "metadata": {},
     "output_type": "execute_result"
    }
   ],
   "source": [
    "sorted(c.items(), key=lambda c: c[1])"
   ]
  },
  {
   "cell_type": "markdown",
   "metadata": {},
   "source": [
    "以上原生处理方法仍然较麻烦\n",
    "#### 使用collections.Counter对象\n",
    "- 将序列传入Counter构造器，得到Counter对象是元素频度的字典\n",
    "- Counter.most_common(n)方法得到频度最高的n个元素的列表"
   ]
  },
  {
   "cell_type": "code",
   "execution_count": 47,
   "metadata": {
    "scrolled": true
   },
   "outputs": [
    {
     "data": {
      "text/plain": [
       "Counter({18: 3,\n",
       "         4: 1,\n",
       "         9: 2,\n",
       "         7: 1,\n",
       "         15: 2,\n",
       "         0: 3,\n",
       "         16: 3,\n",
       "         20: 2,\n",
       "         2: 1,\n",
       "         11: 2,\n",
       "         19: 2,\n",
       "         3: 3,\n",
       "         8: 1,\n",
       "         10: 2,\n",
       "         13: 1,\n",
       "         12: 1})"
      ]
     },
     "execution_count": 47,
     "metadata": {},
     "output_type": "execute_result"
    }
   ],
   "source": [
    "from collections import Counter\n",
    "c2 = Counter(data)\n",
    "c2"
   ]
  },
  {
   "cell_type": "code",
   "execution_count": 48,
   "metadata": {},
   "outputs": [
    {
     "data": {
      "text/plain": [
       "[(18, 3), (0, 3), (16, 3)]"
      ]
     },
     "execution_count": 48,
     "metadata": {},
     "output_type": "execute_result"
    }
   ],
   "source": [
    "c2.most_common(3)"
   ]
  },
  {
   "cell_type": "markdown",
   "metadata": {},
   "source": [
    "**词频统计**"
   ]
  },
  {
   "cell_type": "code",
   "execution_count": 58,
   "metadata": {},
   "outputs": [
    {
     "data": {
      "text/plain": [
       "'\\nI’m a Civil Engineer who decided to change his career track. For the last years, I’ve been self-learning how to move from Civil Engineering to Machine Learning.\\n\\nHere, I’ll tell you stories about my learning projects. We, humans, learn better from other people. That’s why I believe that, by telling you stories about how I solved a problem, I can help you\\n'"
      ]
     },
     "execution_count": 58,
     "metadata": {},
     "output_type": "execute_result"
    }
   ],
   "source": [
    "import re\n",
    "txt = '''\n",
    "I’m a Civil Engineer who decided to change his career track. For the last years, I’ve been self-learning how to move from Civil Engineering to Machine Learning.\n",
    "\n",
    "Here, I’ll tell you stories about my learning projects. We, humans, learn better from other people. That’s why I believe that, by telling you stories about how I solved a problem, I can help you\n",
    "'''\n",
    "txt"
   ]
  },
  {
   "cell_type": "code",
   "execution_count": 59,
   "metadata": {},
   "outputs": [
    {
     "data": {
      "text/plain": [
       "Counter({'': 2,\n",
       "         'I': 6,\n",
       "         'm': 1,\n",
       "         'a': 2,\n",
       "         'Civil': 2,\n",
       "         'Engineer': 1,\n",
       "         'who': 1,\n",
       "         'decided': 1,\n",
       "         'to': 3,\n",
       "         'change': 1,\n",
       "         'his': 1,\n",
       "         'career': 1,\n",
       "         'track': 1,\n",
       "         'For': 1,\n",
       "         'the': 1,\n",
       "         'last': 1,\n",
       "         'years': 1,\n",
       "         've': 1,\n",
       "         'been': 1,\n",
       "         'self': 1,\n",
       "         'learning': 2,\n",
       "         'how': 2,\n",
       "         'move': 1,\n",
       "         'from': 2,\n",
       "         'Engineering': 1,\n",
       "         'Machine': 1,\n",
       "         'Learning': 1,\n",
       "         'Here': 1,\n",
       "         'll': 1,\n",
       "         'tell': 1,\n",
       "         'you': 3,\n",
       "         'stories': 2,\n",
       "         'about': 2,\n",
       "         'my': 1,\n",
       "         'projects': 1,\n",
       "         'We': 1,\n",
       "         'humans': 1,\n",
       "         'learn': 1,\n",
       "         'better': 1,\n",
       "         'other': 1,\n",
       "         'people': 1,\n",
       "         'That': 1,\n",
       "         's': 1,\n",
       "         'why': 1,\n",
       "         'believe': 1,\n",
       "         'that': 1,\n",
       "         'by': 1,\n",
       "         'telling': 1,\n",
       "         'solved': 1,\n",
       "         'problem': 1,\n",
       "         'can': 1,\n",
       "         'help': 1})"
      ]
     },
     "execution_count": 59,
     "metadata": {},
     "output_type": "execute_result"
    }
   ],
   "source": [
    "c3 = Counter(re.split('\\W+', txt))\n",
    "c3"
   ]
  },
  {
   "cell_type": "code",
   "execution_count": 60,
   "metadata": {},
   "outputs": [
    {
     "data": {
      "text/plain": [
       "[('I', 6),\n",
       " ('to', 3),\n",
       " ('you', 3),\n",
       " ('', 2),\n",
       " ('a', 2),\n",
       " ('Civil', 2),\n",
       " ('learning', 2),\n",
       " ('how', 2),\n",
       " ('from', 2),\n",
       " ('stories', 2)]"
      ]
     },
     "execution_count": 60,
     "metadata": {},
     "output_type": "execute_result"
    }
   ],
   "source": [
    "c3.most_common(10)"
   ]
  },
  {
   "cell_type": "markdown",
   "metadata": {},
   "source": [
    "##  <span id='4'> 4 如何根据字典中值的大小，对字典中的项进行排序 </span>\n",
    "- 利用zip将字典数据转化为元组\n",
    "- 传递sorted函数的key参数 "
   ]
  },
  {
   "cell_type": "code",
   "execution_count": 62,
   "metadata": {},
   "outputs": [
    {
     "data": {
      "text/plain": [
       "{'x': 92, 'y': 92, 'z': 95, 'a': 82, 'b': 94, 'c': 68}"
      ]
     },
     "execution_count": 62,
     "metadata": {},
     "output_type": "execute_result"
    }
   ],
   "source": [
    "d = {x: randint(60, 100) for x in 'xyzabc'}\n",
    "d"
   ]
  },
  {
   "cell_type": "code",
   "execution_count": 63,
   "metadata": {},
   "outputs": [
    {
     "data": {
      "text/plain": [
       "['a', 'b', 'c', 'x', 'y', 'z']"
      ]
     },
     "execution_count": 63,
     "metadata": {},
     "output_type": "execute_result"
    }
   ],
   "source": [
    "sorted(d)"
   ]
  },
  {
   "cell_type": "code",
   "execution_count": 64,
   "metadata": {},
   "outputs": [
    {
     "data": {
      "text/plain": [
       "<dict_keyiterator at 0x106515318>"
      ]
     },
     "execution_count": 64,
     "metadata": {},
     "output_type": "execute_result"
    }
   ],
   "source": [
    "iter(d)"
   ]
  },
  {
   "cell_type": "code",
   "execution_count": 65,
   "metadata": {},
   "outputs": [
    {
     "data": {
      "text/plain": [
       "['x', 'y', 'z', 'a', 'b', 'c']"
      ]
     },
     "execution_count": 65,
     "metadata": {},
     "output_type": "execute_result"
    }
   ],
   "source": [
    "list(iter(d))"
   ]
  },
  {
   "cell_type": "code",
   "execution_count": 66,
   "metadata": {},
   "outputs": [
    {
     "data": {
      "text/plain": [
       "False"
      ]
     },
     "execution_count": 66,
     "metadata": {},
     "output_type": "execute_result"
    }
   ],
   "source": [
    "(92, 'x') > (95, 'z')"
   ]
  },
  {
   "cell_type": "code",
   "execution_count": 67,
   "metadata": {},
   "outputs": [
    {
     "data": {
      "text/plain": [
       "dict_keys(['x', 'y', 'z', 'a', 'b', 'c'])"
      ]
     },
     "execution_count": 67,
     "metadata": {},
     "output_type": "execute_result"
    }
   ],
   "source": [
    "d.keys()"
   ]
  },
  {
   "cell_type": "code",
   "execution_count": 68,
   "metadata": {},
   "outputs": [
    {
     "data": {
      "text/plain": [
       "dict_values([92, 92, 95, 82, 94, 68])"
      ]
     },
     "execution_count": 68,
     "metadata": {},
     "output_type": "execute_result"
    }
   ],
   "source": [
    "d.values()"
   ]
  },
  {
   "cell_type": "code",
   "execution_count": 71,
   "metadata": {},
   "outputs": [
    {
     "data": {
      "text/plain": [
       "<zip at 0x1064fb648>"
      ]
     },
     "execution_count": 71,
     "metadata": {},
     "output_type": "execute_result"
    }
   ],
   "source": [
    "zip(d.values(), d.keys())"
   ]
  },
  {
   "cell_type": "code",
   "execution_count": 72,
   "metadata": {},
   "outputs": [
    {
     "data": {
      "text/plain": [
       "[(92, 'x'), (92, 'y'), (95, 'z'), (82, 'a'), (94, 'b'), (68, 'c')]"
      ]
     },
     "execution_count": 72,
     "metadata": {},
     "output_type": "execute_result"
    }
   ],
   "source": [
    "list(zip(d.values(), d.keys()))"
   ]
  },
  {
   "cell_type": "code",
   "execution_count": 74,
   "metadata": {},
   "outputs": [
    {
     "data": {
      "text/plain": [
       "[(68, 'c'), (82, 'a'), (92, 'x'), (92, 'y'), (94, 'b'), (95, 'z')]"
      ]
     },
     "execution_count": 74,
     "metadata": {},
     "output_type": "execute_result"
    }
   ],
   "source": [
    "sorted(zip(d.values(), d.keys()))"
   ]
  },
  {
   "cell_type": "markdown",
   "metadata": {},
   "source": [
    "方法二：key参数"
   ]
  },
  {
   "cell_type": "code",
   "execution_count": 75,
   "metadata": {},
   "outputs": [
    {
     "data": {
      "text/plain": [
       "dict_items([('x', 92), ('y', 92), ('z', 95), ('a', 82), ('b', 94), ('c', 68)])"
      ]
     },
     "execution_count": 75,
     "metadata": {},
     "output_type": "execute_result"
    }
   ],
   "source": [
    "d.items()"
   ]
  },
  {
   "cell_type": "code",
   "execution_count": 77,
   "metadata": {},
   "outputs": [
    {
     "data": {
      "text/plain": [
       "[('c', 68), ('a', 82), ('x', 92), ('y', 92), ('b', 94), ('z', 95)]"
      ]
     },
     "execution_count": 77,
     "metadata": {},
     "output_type": "execute_result"
    }
   ],
   "source": [
    "sorted(d.items(), key=lambda d: d[1])"
   ]
  },
  {
   "cell_type": "markdown",
   "metadata": {},
   "source": [
    "## <span id='5'> 5 如何快速找到多个字典中的公共键（key）</span>\n",
    "利用集合set()的交集操作\n",
    "- 使用字典的keys()方法，得到一个字典keys的集合\n",
    "- 使用map函数，得到所有字典的keys集合\n",
    "- 使用reduce函数， 取所有字典的keys的集合的交集 "
   ]
  },
  {
   "cell_type": "code",
   "execution_count": 2,
   "metadata": {
    "scrolled": true
   },
   "outputs": [
    {
     "data": {
      "text/plain": [
       "['f', 'a', 'g']"
      ]
     },
     "execution_count": 2,
     "metadata": {},
     "output_type": "execute_result"
    }
   ],
   "source": [
    "from random import randint, sample\n",
    "sample('abcdefg', 3)"
   ]
  },
  {
   "cell_type": "code",
   "execution_count": 3,
   "metadata": {},
   "outputs": [
    {
     "data": {
      "text/plain": [
       "['f', 'c', 'e']"
      ]
     },
     "execution_count": 3,
     "metadata": {},
     "output_type": "execute_result"
    }
   ],
   "source": [
    "sample('abcdefg', randint(3, 6))"
   ]
  },
  {
   "cell_type": "code",
   "execution_count": 4,
   "metadata": {},
   "outputs": [
    {
     "data": {
      "text/plain": [
       "{'d': 4, 'c': 1, 'f': 2, 'b': 1}"
      ]
     },
     "execution_count": 4,
     "metadata": {},
     "output_type": "execute_result"
    }
   ],
   "source": [
    "s1 = {x: randint(1, 4) for x in sample('abcdefg', randint(3, 6))}\n",
    "s1"
   ]
  },
  {
   "cell_type": "code",
   "execution_count": 5,
   "metadata": {},
   "outputs": [
    {
     "name": "stdout",
     "output_type": "stream",
     "text": [
      "{'f': 3, 'b': 2, 'a': 1, 'e': 1, 'c': 4, 'g': 4}\n",
      "{'a': 4, 'd': 2, 'f': 1, 'b': 4, 'e': 1}\n"
     ]
    }
   ],
   "source": [
    "s2 = {x: randint(1, 4) for x in sample('abcdefg', randint(3, 6))}\n",
    "s3 = {x: randint(1, 4) for x in sample('abcdefg', randint(3, 6))}\n",
    "print(s2)\n",
    "print(s3)"
   ]
  },
  {
   "cell_type": "code",
   "execution_count": 6,
   "metadata": {},
   "outputs": [
    {
     "data": {
      "text/plain": [
       "['f', 'b']"
      ]
     },
     "execution_count": 6,
     "metadata": {},
     "output_type": "execute_result"
    }
   ],
   "source": [
    "res = []\n",
    "for k in s1:\n",
    "    if k in s2 and k in s3:\n",
    "        res.append(k)\n",
    "res"
   ]
  },
  {
   "cell_type": "markdown",
   "metadata": {},
   "source": [
    "用 & 取交集（适合数量少）"
   ]
  },
  {
   "cell_type": "code",
   "execution_count": 7,
   "metadata": {},
   "outputs": [
    {
     "data": {
      "text/plain": [
       "dict_keys(['d', 'c', 'f', 'b'])"
      ]
     },
     "execution_count": 7,
     "metadata": {},
     "output_type": "execute_result"
    }
   ],
   "source": [
    "s1.keys()"
   ]
  },
  {
   "cell_type": "code",
   "execution_count": 8,
   "metadata": {},
   "outputs": [
    {
     "data": {
      "text/plain": [
       "dict_keys(['f', 'b', 'a', 'e', 'c', 'g'])"
      ]
     },
     "execution_count": 8,
     "metadata": {},
     "output_type": "execute_result"
    }
   ],
   "source": [
    "s2.keys()"
   ]
  },
  {
   "cell_type": "code",
   "execution_count": 9,
   "metadata": {},
   "outputs": [
    {
     "data": {
      "text/plain": [
       "{'b', 'f'}"
      ]
     },
     "execution_count": 9,
     "metadata": {},
     "output_type": "execute_result"
    }
   ],
   "source": [
    "s1.keys() & s2.keys() & s3.keys()"
   ]
  },
  {
   "cell_type": "markdown",
   "metadata": {},
   "source": [
    "用map, reduce方法（可以对n个集合求交集）"
   ]
  },
  {
   "cell_type": "code",
   "execution_count": 10,
   "metadata": {},
   "outputs": [
    {
     "data": {
      "text/plain": [
       "<map at 0x1065caa20>"
      ]
     },
     "execution_count": 10,
     "metadata": {},
     "output_type": "execute_result"
    }
   ],
   "source": [
    "map(dict.keys, [s1, s2, s3])"
   ]
  },
  {
   "cell_type": "code",
   "execution_count": 11,
   "metadata": {},
   "outputs": [
    {
     "data": {
      "text/plain": [
       "[dict_keys(['d', 'c', 'f', 'b']),\n",
       " dict_keys(['f', 'b', 'a', 'e', 'c', 'g']),\n",
       " dict_keys(['a', 'd', 'f', 'b', 'e'])]"
      ]
     },
     "execution_count": 11,
     "metadata": {},
     "output_type": "execute_result"
    }
   ],
   "source": [
    "list(map(dict.keys, [s1, s2, s3]))"
   ]
  },
  {
   "cell_type": "code",
   "execution_count": 14,
   "metadata": {},
   "outputs": [
    {
     "data": {
      "text/plain": [
       "{'b', 'f'}"
      ]
     },
     "execution_count": 14,
     "metadata": {},
     "output_type": "execute_result"
    }
   ],
   "source": [
    "from functools import reduce\n",
    "reduce(lambda a, b: a & b, map(dict.keys, [s1, s2, s3]))"
   ]
  },
  {
   "cell_type": "markdown",
   "metadata": {},
   "source": [
    "##  <span id='6'>6 如何让字典保持有序 </span>"
   ]
  },
  {
   "cell_type": "code",
   "execution_count": 16,
   "metadata": {},
   "outputs": [
    {
     "data": {
      "text/plain": [
       "{'Jim': (1, 35), 'Leo': (2, 37), 'Bob': (3, 40)}"
      ]
     },
     "execution_count": 16,
     "metadata": {},
     "output_type": "execute_result"
    }
   ],
   "source": [
    "d = {}\n",
    "d['Jim'] = (1, 35)\n",
    "d['Leo'] = (2, 37)\n",
    "d['Bob'] = (3, 40)\n",
    "d"
   ]
  },
  {
   "cell_type": "code",
   "execution_count": 20,
   "metadata": {},
   "outputs": [
    {
     "name": "stdout",
     "output_type": "stream",
     "text": [
      "Jim\n",
      "Leo\n",
      "Bob\n"
     ]
    }
   ],
   "source": [
    "for k in d:\n",
    "    print(k)"
   ]
  },
  {
   "cell_type": "markdown",
   "metadata": {},
   "source": [
    "上述字典实际上是无序的，无法保证其按排名顺序输出"
   ]
  },
  {
   "cell_type": "code",
   "execution_count": 22,
   "metadata": {},
   "outputs": [
    {
     "data": {
      "text/plain": [
       "OrderedDict([('Jim', (1, 35)), ('Leo', (2, 37)), ('Bob', (3, 40))])"
      ]
     },
     "execution_count": 22,
     "metadata": {},
     "output_type": "execute_result"
    }
   ],
   "source": [
    "from collections import OrderedDict\n",
    "d = OrderedDict()\n",
    "d['Jim'] = (1, 35)\n",
    "d['Leo'] = (2, 37)\n",
    "d['Bob'] = (3, 40)\n",
    "d"
   ]
  },
  {
   "cell_type": "code",
   "execution_count": 23,
   "metadata": {},
   "outputs": [
    {
     "name": "stdout",
     "output_type": "stream",
     "text": [
      "Jim\n",
      "Leo\n",
      "Bob\n"
     ]
    }
   ],
   "source": [
    "for k in d:\n",
    "    print(k)"
   ]
  },
  {
   "cell_type": "markdown",
   "metadata": {},
   "source": [
    "**实例：模拟答题时间排序系统**"
   ]
  },
  {
   "cell_type": "code",
   "execution_count": 28,
   "metadata": {},
   "outputs": [
    {
     "name": "stdout",
     "output_type": "stream",
     "text": [
      "\n",
      "1 F 0.9821949005126953\n",
      "\n",
      "2 G 1.7208008766174316\n",
      "\n",
      "3 D 2.0660178661346436\n",
      "\n",
      "4 E 2.3328609466552734\n",
      "\n",
      "5 A 2.6529877185821533\n",
      "\n",
      "6 B 2.968859910964966\n",
      "\n",
      "7 C 3.647524833679199\n",
      "\n",
      "8 H 4.424718856811523\n"
     ]
    }
   ],
   "source": [
    "from time import time\n",
    "from random import randint\n",
    "from collections import OrderedDict\n",
    "\n",
    "d = OrderedDict()\n",
    "players = list('ABCDEFGH')\n",
    "start = time()\n",
    "\n",
    "for i in range(len(players)):\n",
    "    input() #点击一次表示一个选手提交\n",
    "    p = players.pop(randint(0, 7 - i)) #randint是闭区间\n",
    "    end = time()\n",
    "    print(i + 1, p, end - start)\n",
    "    d[p] = (i + 1, end - start)"
   ]
  },
  {
   "cell_type": "code",
   "execution_count": 29,
   "metadata": {},
   "outputs": [
    {
     "data": {
      "text/plain": [
       "OrderedDict([('F', (1, 0.9821949005126953)),\n",
       "             ('G', (2, 1.7208008766174316)),\n",
       "             ('D', (3, 2.0660178661346436)),\n",
       "             ('E', (4, 2.3328609466552734)),\n",
       "             ('A', (5, 2.6529877185821533)),\n",
       "             ('B', (6, 2.968859910964966)),\n",
       "             ('C', (7, 3.647524833679199)),\n",
       "             ('H', (8, 4.424718856811523))])"
      ]
     },
     "execution_count": 29,
     "metadata": {},
     "output_type": "execute_result"
    }
   ],
   "source": [
    "d"
   ]
  },
  {
   "cell_type": "code",
   "execution_count": 30,
   "metadata": {},
   "outputs": [
    {
     "name": "stdout",
     "output_type": "stream",
     "text": [
      "F (1, 0.9821949005126953)\n",
      "G (2, 1.7208008766174316)\n",
      "D (3, 2.0660178661346436)\n",
      "E (4, 2.3328609466552734)\n",
      "A (5, 2.6529877185821533)\n",
      "B (6, 2.968859910964966)\n",
      "C (7, 3.647524833679199)\n",
      "H (8, 4.424718856811523)\n"
     ]
    }
   ],
   "source": [
    "for k in d:\n",
    "    print(k, d[k])"
   ]
  },
  {
   "cell_type": "markdown",
   "metadata": {},
   "source": [
    "## <span id='7'>7 如何实现用户的历史记录功能（最多n条）</span>\n",
    "使用容量为n的队列存储历史记录\n",
    "- 使用标准库collections中的deque，它是一个双端循环队列 \n",
    "- 程序退出前，可以使用pickle将队列对象存入文件，再次运行时将其导入"
   ]
  },
  {
   "cell_type": "markdown",
   "metadata": {},
   "source": [
    "队列介绍"
   ]
  },
  {
   "cell_type": "code",
   "execution_count": 37,
   "metadata": {},
   "outputs": [
    {
     "data": {
      "text/plain": [
       "deque([1])"
      ]
     },
     "execution_count": 37,
     "metadata": {},
     "output_type": "execute_result"
    }
   ],
   "source": [
    "from collections import deque\n",
    "\n",
    "q = deque([], 5)\n",
    "q.append(1)\n",
    "q"
   ]
  },
  {
   "cell_type": "code",
   "execution_count": 38,
   "metadata": {},
   "outputs": [
    {
     "data": {
      "text/plain": [
       "deque([1, 2, 3, 4, 5])"
      ]
     },
     "execution_count": 38,
     "metadata": {},
     "output_type": "execute_result"
    }
   ],
   "source": [
    "q.append(2)\n",
    "q.append(3)\n",
    "q.append(4)\n",
    "q.append(5)\n",
    "q"
   ]
  },
  {
   "cell_type": "code",
   "execution_count": 39,
   "metadata": {},
   "outputs": [
    {
     "data": {
      "text/plain": [
       "deque([2, 3, 4, 5, 6])"
      ]
     },
     "execution_count": 39,
     "metadata": {},
     "output_type": "execute_result"
    }
   ],
   "source": [
    "q.append(6)\n",
    "q"
   ]
  },
  {
   "cell_type": "markdown",
   "metadata": {},
   "source": [
    "**实例：猜数字游戏**"
   ]
  },
  {
   "cell_type": "code",
   "execution_count": 40,
   "metadata": {},
   "outputs": [
    {
     "name": "stdout",
     "output_type": "stream",
     "text": [
      "please input a number5\n",
      "5 is greater than N\n",
      "please input a number3\n",
      "right\n"
     ]
    }
   ],
   "source": [
    "from random import randint\n",
    "\n",
    "N = randint(0, 10)\n",
    "\n",
    "def guess(k):\n",
    "    if k == N:\n",
    "        print('right')\n",
    "        return True\n",
    "    if k < N:\n",
    "        print('%s is less than N' % k)\n",
    "    else:\n",
    "        print('%s is greater than N' % k)\n",
    "    return False\n",
    "\n",
    "while True:\n",
    "    line = input('please input a number') #python3没有raw_input\n",
    "    if line.isdigit():\n",
    "        k = int(line)\n",
    "        if guess(k):\n",
    "            break"
   ]
  },
  {
   "cell_type": "markdown",
   "metadata": {},
   "source": [
    "添加历史记录功能"
   ]
  },
  {
   "cell_type": "code",
   "execution_count": 43,
   "metadata": {},
   "outputs": [
    {
     "name": "stdout",
     "output_type": "stream",
     "text": [
      "please input a number:50\n",
      "50 is greater than N\n",
      "please input a number:25\n",
      "25 is greater than N\n",
      "please input a number:13\n",
      "13 is less than N\n",
      "please input a number:20\n",
      "20 is greater than N\n",
      "please input a number:h?\n",
      "[50, 25, 13, 20]\n",
      "please input a number:16\n",
      "right\n"
     ]
    }
   ],
   "source": [
    "from random import randint\n",
    "from collections import deque\n",
    "\n",
    "N = randint(0, 100)\n",
    "history = deque([], 5)\n",
    "\n",
    "def guess(k):\n",
    "    if k == N:\n",
    "        print('right')\n",
    "        return True\n",
    "    if k < N:\n",
    "        print('%s is less than N' % k)\n",
    "    else:\n",
    "        print('%s is greater than N' % k)\n",
    "    return False\n",
    "\n",
    "while True:\n",
    "    line = input('please input a number:') #python3没有raw_input\n",
    "    if line.isdigit():\n",
    "        k = int(line)\n",
    "        history.append(k)\n",
    "        if guess(k):\n",
    "            break\n",
    "    elif line == 'history' or line == 'h?':\n",
    "        print(list(history))"
   ]
  },
  {
   "cell_type": "markdown",
   "metadata": {},
   "source": [
    "将历史记录存储进文件，而非内存"
   ]
  },
  {
   "cell_type": "code",
   "execution_count": 45,
   "metadata": {},
   "outputs": [
    {
     "data": {
      "text/plain": [
       "deque([2, 3, 4, 5, 6])"
      ]
     },
     "execution_count": 45,
     "metadata": {},
     "output_type": "execute_result"
    }
   ],
   "source": [
    "import pickle\n",
    "q"
   ]
  },
  {
   "cell_type": "code",
   "execution_count": 53,
   "metadata": {},
   "outputs": [
    {
     "data": {
      "text/plain": [
       "<function _pickle.dump(obj, file, protocol=None, *, fix_imports=True)>"
      ]
     },
     "execution_count": 53,
     "metadata": {},
     "output_type": "execute_result"
    }
   ],
   "source": [
    "pickle.dump"
   ]
  },
  {
   "cell_type": "code",
   "execution_count": 58,
   "metadata": {},
   "outputs": [],
   "source": [
    "pickle.dump(q, open('history', 'wb'))"
   ]
  },
  {
   "cell_type": "code",
   "execution_count": 62,
   "metadata": {},
   "outputs": [
    {
     "data": {
      "text/plain": [
       "<function _pickle.load(file, *, fix_imports=True, encoding='ASCII', errors='strict')>"
      ]
     },
     "execution_count": 62,
     "metadata": {},
     "output_type": "execute_result"
    }
   ],
   "source": [
    "pickle.load"
   ]
  },
  {
   "cell_type": "code",
   "execution_count": 69,
   "metadata": {},
   "outputs": [],
   "source": [
    "q2 = pickle.load(open('history', 'rb'))"
   ]
  },
  {
   "cell_type": "code",
   "execution_count": 70,
   "metadata": {},
   "outputs": [
    {
     "data": {
      "text/plain": [
       "deque([2, 3, 4, 5, 6])"
      ]
     },
     "execution_count": 70,
     "metadata": {},
     "output_type": "execute_result"
    }
   ],
   "source": [
    "q2"
   ]
  },
  {
   "cell_type": "markdown",
   "metadata": {},
   "source": [
    "## <span id='8'>8 如何实现可迭代对象和迭代器对象？ </span> "
   ]
  },
  {
   "cell_type": "code",
   "execution_count": 71,
   "metadata": {},
   "outputs": [
    {
     "name": "stdout",
     "output_type": "stream",
     "text": [
      "1\n",
      "2\n",
      "3\n",
      "4\n"
     ]
    }
   ],
   "source": [
    "l = [1, 2, 3, 4]\n",
    "s = 'abcde'\n",
    "for x in l: print(x)"
   ]
  },
  {
   "cell_type": "code",
   "execution_count": 72,
   "metadata": {},
   "outputs": [
    {
     "name": "stdout",
     "output_type": "stream",
     "text": [
      "a\n",
      "b\n",
      "c\n",
      "d\n",
      "e\n"
     ]
    }
   ],
   "source": [
    "for x in s: print(x)"
   ]
  },
  {
   "cell_type": "code",
   "execution_count": 73,
   "metadata": {},
   "outputs": [
    {
     "data": {
      "text/plain": [
       "<list_iterator at 0x10652af98>"
      ]
     },
     "execution_count": 73,
     "metadata": {},
     "output_type": "execute_result"
    }
   ],
   "source": [
    "iter(l)"
   ]
  },
  {
   "cell_type": "code",
   "execution_count": 74,
   "metadata": {},
   "outputs": [
    {
     "data": {
      "text/plain": [
       "<str_iterator at 0x106345518>"
      ]
     },
     "execution_count": 74,
     "metadata": {},
     "output_type": "execute_result"
    }
   ],
   "source": [
    "iter(s)"
   ]
  },
  {
   "cell_type": "code",
   "execution_count": 76,
   "metadata": {},
   "outputs": [
    {
     "name": "stdout",
     "output_type": "stream",
     "text": [
      "Help on built-in function iter in module builtins:\n",
      "\n",
      "iter(...)\n",
      "    iter(iterable) -> iterator\n",
      "    iter(callable, sentinel) -> iterator\n",
      "    \n",
      "    Get an iterator from an object.  In the first form, the argument must\n",
      "    supply its own iterator, or be a sequence.\n",
      "    In the second form, the callable is called until it returns the sentinel.\n",
      "\n"
     ]
    }
   ],
   "source": [
    "help(iter)"
   ]
  },
  {
   "cell_type": "code",
   "execution_count": 96,
   "metadata": {},
   "outputs": [],
   "source": [
    "l.__*? #可迭代对象的方法"
   ]
  },
  {
   "cell_type": "raw",
   "metadata": {},
   "source": [
    "l.__add__\n",
    "l.__class__\n",
    "l.__contains__\n",
    "l.__delattr__\n",
    "l.__delitem__\n",
    "l.__dir__\n",
    "l.__doc__\n",
    "l.__eq__\n",
    "l.__format__\n",
    "l.__ge__\n",
    "l.__getattribute__\n",
    "l.__getitem__\n",
    "l.__gt__\n",
    "l.__hash__\n",
    "l.__iadd__\n",
    "l.__imul__\n",
    "l.__init__\n",
    "l.__init_subclass__\n",
    "l.__iter__\n",
    "l.__le__\n",
    "l.__len__\n",
    "l.__lt__\n",
    "l.__mul__\n",
    "l.__ne__\n",
    "l.__new__\n",
    "l.__reduce__\n",
    "l.__reduce_ex__\n",
    "l.__repr__\n",
    "l.__reversed__\n",
    "l.__rmul__\n",
    "l.__setattr__\n",
    "l.__setitem__\n",
    "l.__sizeof__\n",
    "l.__str__\n",
    "l.__subclasshook__"
   ]
  },
  {
   "cell_type": "markdown",
   "metadata": {},
   "source": [
    "内置函数iter()会先去找变量的\\__iter\\__属性，没有的话再去找\\__getitem\\__"
   ]
  },
  {
   "cell_type": "code",
   "execution_count": 98,
   "metadata": {},
   "outputs": [
    {
     "data": {
      "text/plain": [
       "1"
      ]
     },
     "execution_count": 98,
     "metadata": {},
     "output_type": "execute_result"
    }
   ],
   "source": [
    "t = iter(l)\n",
    "next(t) #迭代器的方法"
   ]
  },
  {
   "cell_type": "code",
   "execution_count": 99,
   "metadata": {},
   "outputs": [
    {
     "data": {
      "text/plain": [
       "2"
      ]
     },
     "execution_count": 99,
     "metadata": {},
     "output_type": "execute_result"
    }
   ],
   "source": [
    "t.__next__()"
   ]
  },
  {
   "cell_type": "code",
   "execution_count": 101,
   "metadata": {},
   "outputs": [
    {
     "ename": "AttributeError",
     "evalue": "'list_iterator' object has no attribute 'next'",
     "output_type": "error",
     "traceback": [
      "\u001b[0;31m---------------------------------------------------------------------------\u001b[0m",
      "\u001b[0;31mAttributeError\u001b[0m                            Traceback (most recent call last)",
      "\u001b[0;32m<ipython-input-101-b765384c6d54>\u001b[0m in \u001b[0;36m<module>\u001b[0;34m()\u001b[0m\n\u001b[0;32m----> 1\u001b[0;31m \u001b[0mt\u001b[0m\u001b[0;34m.\u001b[0m\u001b[0mnext\u001b[0m\u001b[0;34m(\u001b[0m\u001b[0;34m)\u001b[0m \u001b[0;31m#python2的命令，python3不可用\u001b[0m\u001b[0;34m\u001b[0m\u001b[0m\n\u001b[0m",
      "\u001b[0;31mAttributeError\u001b[0m: 'list_iterator' object has no attribute 'next'"
     ]
    }
   ],
   "source": [
    "t.next() #python2的命令，python3不可用"
   ]
  },
  {
   "cell_type": "code",
   "execution_count": 103,
   "metadata": {},
   "outputs": [
    {
     "data": {
      "text/plain": [
       "frozenset({'__next__'})"
      ]
     },
     "execution_count": 103,
     "metadata": {},
     "output_type": "execute_result"
    }
   ],
   "source": [
    "from collections import Iterable, Iterator\n",
    "Iterator.__abstractmethods__"
   ]
  },
  {
   "cell_type": "code",
   "execution_count": 104,
   "metadata": {},
   "outputs": [
    {
     "data": {
      "text/plain": [
       "frozenset({'__iter__'})"
      ]
     },
     "execution_count": 104,
     "metadata": {},
     "output_type": "execute_result"
    }
   ],
   "source": [
    "Iterable.__abstractmethods__"
   ]
  },
  {
   "cell_type": "markdown",
   "metadata": {},
   "source": [
    "**实例：天气信息查询。实现‘用时访问’策略，将所有城市气温封装到一个对象中，可用for进行迭代**"
   ]
  },
  {
   "cell_type": "code",
   "execution_count": 107,
   "metadata": {},
   "outputs": [
    {
     "name": "stdout",
     "output_type": "stream",
     "text": [
      "北京, 低温 25℃, 高温 32℃\n",
      "长春, 低温 25℃, 高温 33℃\n"
     ]
    }
   ],
   "source": [
    "import requests\n",
    "def getWeather(city):\n",
    "    r = requests.get(u'http://wthrcdn.etouch.cn/weather_mini?city=' + city)\n",
    "    data = r.json()['data']['forecast'][0]\n",
    "    return '%s, %s, %s' %(city, data['low'], data['high'])\n",
    "\n",
    "#[u'北京‘，u'上海', u'广州', u‘长春']\n",
    "print(getWeather(u'北京'))\n",
    "print(getWeather(u'长春'))"
   ]
  },
  {
   "cell_type": "code",
   "execution_count": 108,
   "metadata": {},
   "outputs": [],
   "source": [
    "class WeatherIterator(Iterator):\n",
    "    def __init__(self, cities):\n",
    "        self.cities = cities\n",
    "        self.index = 0\n",
    "        \n",
    "    def getWeather(self, city):\n",
    "        r = requests.get(u'http://wthrcdn.etouch.cn/weather_mini?city=' + city)\n",
    "        data = r.json()['data']['forecast'][0]\n",
    "        return '%s, %s, %s' %(city, data['low'], data['high'])\n",
    "    \n",
    "    def __next__(self):\n",
    "        if self.index == len(self.cities):\n",
    "            raise StopIteration\n",
    "        city = self.cities[self.index]\n",
    "        self.index += 1\n",
    "        return self.getWeather(city)\n",
    "    \n",
    "class WeatherIterable(Iterable):\n",
    "    def __init__(self, cities):\n",
    "        self.cities = cities\n",
    "        \n",
    "    def __iter__(self):\n",
    "        return WeatherIterator(self.cities)"
   ]
  },
  {
   "cell_type": "code",
   "execution_count": 111,
   "metadata": {},
   "outputs": [
    {
     "data": {
      "text/plain": [
       "<__main__.WeatherIterable at 0x10e0e0400>"
      ]
     },
     "execution_count": 111,
     "metadata": {},
     "output_type": "execute_result"
    }
   ],
   "source": [
    "cities = [u'北京', u'上海', u'广州', u'长春']\n",
    "WeatherIterable(cities)"
   ]
  },
  {
   "cell_type": "code",
   "execution_count": 112,
   "metadata": {},
   "outputs": [
    {
     "name": "stdout",
     "output_type": "stream",
     "text": [
      "北京, 低温 25℃, 高温 32℃\n",
      "上海, 低温 27℃, 高温 33℃\n",
      "广州, 低温 25℃, 高温 33℃\n",
      "长春, 低温 25℃, 高温 33℃\n"
     ]
    }
   ],
   "source": [
    "for x in WeatherIterable(cities):\n",
    "    print(x)"
   ]
  },
  {
   "cell_type": "code",
   "execution_count": 114,
   "metadata": {},
   "outputs": [
    {
     "data": {
      "text/plain": [
       "<__main__.WeatherIterator at 0x10e0cfc50>"
      ]
     },
     "execution_count": 114,
     "metadata": {},
     "output_type": "execute_result"
    }
   ],
   "source": [
    "weather_info = WeatherIterator(cities)\n",
    "weather_info"
   ]
  },
  {
   "cell_type": "code",
   "execution_count": 115,
   "metadata": {},
   "outputs": [
    {
     "data": {
      "text/plain": [
       "'北京, 低温 25℃, 高温 32℃'"
      ]
     },
     "execution_count": 115,
     "metadata": {},
     "output_type": "execute_result"
    }
   ],
   "source": [
    "next(weather_info)"
   ]
  },
  {
   "cell_type": "code",
   "execution_count": 116,
   "metadata": {},
   "outputs": [
    {
     "data": {
      "text/plain": [
       "'上海, 低温 27℃, 高温 33℃'"
      ]
     },
     "execution_count": 116,
     "metadata": {},
     "output_type": "execute_result"
    }
   ],
   "source": [
    "next(weather_info)"
   ]
  },
  {
   "cell_type": "code",
   "execution_count": 117,
   "metadata": {},
   "outputs": [
    {
     "data": {
      "text/plain": [
       "'广州, 低温 25℃, 高温 33℃'"
      ]
     },
     "execution_count": 117,
     "metadata": {},
     "output_type": "execute_result"
    }
   ],
   "source": [
    "next(weather_info)"
   ]
  },
  {
   "cell_type": "code",
   "execution_count": 118,
   "metadata": {},
   "outputs": [
    {
     "data": {
      "text/plain": [
       "'长春, 低温 25℃, 高温 33℃'"
      ]
     },
     "execution_count": 118,
     "metadata": {},
     "output_type": "execute_result"
    }
   ],
   "source": [
    "next(weather_info)"
   ]
  },
  {
   "cell_type": "code",
   "execution_count": 119,
   "metadata": {},
   "outputs": [
    {
     "ename": "StopIteration",
     "evalue": "",
     "output_type": "error",
     "traceback": [
      "\u001b[0;31m---------------------------------------------------------------------------\u001b[0m",
      "\u001b[0;31mStopIteration\u001b[0m                             Traceback (most recent call last)",
      "\u001b[0;32m<ipython-input-119-7e9a123466b9>\u001b[0m in \u001b[0;36m<module>\u001b[0;34m()\u001b[0m\n\u001b[0;32m----> 1\u001b[0;31m \u001b[0mnext\u001b[0m\u001b[0;34m(\u001b[0m\u001b[0mweather_info\u001b[0m\u001b[0;34m)\u001b[0m\u001b[0;34m\u001b[0m\u001b[0m\n\u001b[0m",
      "\u001b[0;32m<ipython-input-108-9b6efc08d376>\u001b[0m in \u001b[0;36m__next__\u001b[0;34m(self)\u001b[0m\n\u001b[1;32m     11\u001b[0m     \u001b[0;32mdef\u001b[0m \u001b[0m__next__\u001b[0m\u001b[0;34m(\u001b[0m\u001b[0mself\u001b[0m\u001b[0;34m)\u001b[0m\u001b[0;34m:\u001b[0m\u001b[0;34m\u001b[0m\u001b[0m\n\u001b[1;32m     12\u001b[0m         \u001b[0;32mif\u001b[0m \u001b[0mself\u001b[0m\u001b[0;34m.\u001b[0m\u001b[0mindex\u001b[0m \u001b[0;34m==\u001b[0m \u001b[0mlen\u001b[0m\u001b[0;34m(\u001b[0m\u001b[0mself\u001b[0m\u001b[0;34m.\u001b[0m\u001b[0mcities\u001b[0m\u001b[0;34m)\u001b[0m\u001b[0;34m:\u001b[0m\u001b[0;34m\u001b[0m\u001b[0m\n\u001b[0;32m---> 13\u001b[0;31m             \u001b[0;32mraise\u001b[0m \u001b[0mStopIteration\u001b[0m\u001b[0;34m\u001b[0m\u001b[0m\n\u001b[0m\u001b[1;32m     14\u001b[0m         \u001b[0mcity\u001b[0m \u001b[0;34m=\u001b[0m \u001b[0mself\u001b[0m\u001b[0;34m.\u001b[0m\u001b[0mcities\u001b[0m\u001b[0;34m[\u001b[0m\u001b[0mself\u001b[0m\u001b[0;34m.\u001b[0m\u001b[0mindex\u001b[0m\u001b[0;34m]\u001b[0m\u001b[0;34m\u001b[0m\u001b[0m\n\u001b[1;32m     15\u001b[0m         \u001b[0mself\u001b[0m\u001b[0;34m.\u001b[0m\u001b[0mindex\u001b[0m \u001b[0;34m+=\u001b[0m \u001b[0;36m1\u001b[0m\u001b[0;34m\u001b[0m\u001b[0m\n",
      "\u001b[0;31mStopIteration\u001b[0m: "
     ]
    }
   ],
   "source": [
    "next(weather_info)"
   ]
  },
  {
   "cell_type": "markdown",
   "metadata": {},
   "source": [
    "## <span id='9'>9 如何使用生成器函数实现可迭代对象？ </span> "
   ]
  },
  {
   "cell_type": "code",
   "execution_count": 128,
   "metadata": {},
   "outputs": [
    {
     "data": {
      "text/plain": [
       "<generator object f at 0x10e14d7d8>"
      ]
     },
     "execution_count": 128,
     "metadata": {},
     "output_type": "execute_result"
    }
   ],
   "source": [
    "def f():\n",
    "    print('in f(), 1')\n",
    "    yield 1\n",
    "    \n",
    "    print('in f(), 2')\n",
    "    yield 2\n",
    "    \n",
    "    print('in f(), 3')\n",
    "    yield 3\n",
    "    \n",
    "g = f()\n",
    "g"
   ]
  },
  {
   "cell_type": "code",
   "execution_count": 129,
   "metadata": {},
   "outputs": [
    {
     "name": "stdout",
     "output_type": "stream",
     "text": [
      "in f(), 1\n"
     ]
    },
    {
     "data": {
      "text/plain": [
       "1"
      ]
     },
     "execution_count": 129,
     "metadata": {},
     "output_type": "execute_result"
    }
   ],
   "source": [
    "next(g)"
   ]
  },
  {
   "cell_type": "code",
   "execution_count": 130,
   "metadata": {},
   "outputs": [
    {
     "name": "stdout",
     "output_type": "stream",
     "text": [
      "in f(), 2\n",
      "in f(), 3\n"
     ]
    },
    {
     "data": {
      "text/plain": [
       "3"
      ]
     },
     "execution_count": 130,
     "metadata": {},
     "output_type": "execute_result"
    }
   ],
   "source": [
    "next(g)\n",
    "next(g)"
   ]
  },
  {
   "cell_type": "code",
   "execution_count": 131,
   "metadata": {},
   "outputs": [
    {
     "ename": "StopIteration",
     "evalue": "",
     "output_type": "error",
     "traceback": [
      "\u001b[0;31m---------------------------------------------------------------------------\u001b[0m",
      "\u001b[0;31mStopIteration\u001b[0m                             Traceback (most recent call last)",
      "\u001b[0;32m<ipython-input-131-e734f8aca5ac>\u001b[0m in \u001b[0;36m<module>\u001b[0;34m()\u001b[0m\n\u001b[0;32m----> 1\u001b[0;31m \u001b[0mnext\u001b[0m\u001b[0;34m(\u001b[0m\u001b[0mg\u001b[0m\u001b[0;34m)\u001b[0m\u001b[0;34m\u001b[0m\u001b[0m\n\u001b[0m",
      "\u001b[0;31mStopIteration\u001b[0m: "
     ]
    }
   ],
   "source": [
    "next(g)"
   ]
  },
  {
   "cell_type": "code",
   "execution_count": 137,
   "metadata": {},
   "outputs": [
    {
     "name": "stdout",
     "output_type": "stream",
     "text": [
      "in f(), 1\n",
      "1\n",
      "in f(), 2\n",
      "2\n",
      "in f(), 3\n",
      "3\n"
     ]
    }
   ],
   "source": [
    "g = f()\n",
    "for x in g:\n",
    "    print(x)"
   ]
  },
  {
   "cell_type": "code",
   "execution_count": 139,
   "metadata": {},
   "outputs": [
    {
     "data": {
      "text/plain": [
       "<generator object f at 0x10e14d990>"
      ]
     },
     "execution_count": 139,
     "metadata": {},
     "output_type": "execute_result"
    }
   ],
   "source": [
    "g.__iter__()"
   ]
  },
  {
   "cell_type": "code",
   "execution_count": 141,
   "metadata": {},
   "outputs": [
    {
     "data": {
      "text/plain": [
       "True"
      ]
     },
     "execution_count": 141,
     "metadata": {},
     "output_type": "execute_result"
    }
   ],
   "source": [
    "g.__iter__() is g"
   ]
  },
  {
   "cell_type": "markdown",
   "metadata": {},
   "source": [
    "#### 实例：实现一个可迭代对象的类，能迭代出给定范围内的所有素数\n",
    "- 将该类的__iter__方法实现生成器函数，每次yield返回一个素数"
   ]
  },
  {
   "cell_type": "code",
   "execution_count": 144,
   "metadata": {},
   "outputs": [
    {
     "name": "stdout",
     "output_type": "stream",
     "text": [
      "2\n",
      "3\n",
      "4\n",
      "5\n",
      "6\n",
      "7\n",
      "8\n",
      "9\n",
      "11\n",
      "13\n",
      "15\n",
      "17\n",
      "19\n"
     ]
    }
   ],
   "source": [
    "class PrimeNumbers:\n",
    "    def __init__(self, start, end):\n",
    "        self.start = start\n",
    "        self.end = end\n",
    "        \n",
    "    def isPrime(self, k):\n",
    "        if k < 2:\n",
    "            return False\n",
    "        \n",
    "        for i in range(2, int(k**0.5)):\n",
    "            if k % i == 0:\n",
    "                return False\n",
    "        \n",
    "        return True\n",
    "    \n",
    "    def __iter__(self):\n",
    "        for k in range(self.start, self.end+1):\n",
    "            if self.isPrime(k):\n",
    "                yield k\n",
    "                \n",
    "for x in PrimeNumbers(1, 20):\n",
    "    print(x)"
   ]
  },
  {
   "cell_type": "code",
   "execution_count": 148,
   "metadata": {},
   "outputs": [
    {
     "data": {
      "text/plain": [
       "<generator object PrimeNumbers.__iter__ at 0x10e19c678>"
      ]
     },
     "execution_count": 148,
     "metadata": {},
     "output_type": "execute_result"
    }
   ],
   "source": [
    "a = PrimeNumbers(1, 20)\n",
    "a.__iter__()"
   ]
  },
  {
   "cell_type": "code",
   "execution_count": null,
   "metadata": {},
   "outputs": [],
   "source": []
  }
 ],
 "metadata": {
  "kernelspec": {
   "display_name": "Python 3",
   "language": "python",
   "name": "python3"
  },
  "language_info": {
   "codemirror_mode": {
    "name": "ipython",
    "version": 3
   },
   "file_extension": ".py",
   "mimetype": "text/x-python",
   "name": "python",
   "nbconvert_exporter": "python",
   "pygments_lexer": "ipython3",
   "version": "3.6.5"
  }
 },
 "nbformat": 4,
 "nbformat_minor": 2
}
