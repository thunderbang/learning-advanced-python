{
 "cells": [
  {
   "cell_type": "markdown",
   "metadata": {},
   "source": [
    "# Python高效编程技巧2"
   ]
  },
  {
   "cell_type": "markdown",
   "metadata": {},
   "source": [
    "10. [如何进行反向迭代以及如何实现反向迭代？](#10)\n",
    "11. [如何对迭代器做切片操作？](#11)\n",
    "12. [如何在一个for语句中迭代多个可迭代对象？](#12)\n",
    "13. [如何拆分含有多种分隔符的字符串？](#13)\n",
    "14. [如何判断字符串a是否以字符串b开头或结尾？](#14)\n",
    "15. [如何调整字符串中文本的格式？](#15)\n",
    "16. [如何将多个小字符串拼接成一个大字符串？](#16)\n",
    "17. [如何对字符串进行左、右、中对齐？](#17)\n",
    "18. [如何去掉字符串中不需要的字符？](#18)"
   ]
  },
  {
   "cell_type": "markdown",
   "metadata": {},
   "source": [
    "## <span id='10'>10 如何进行反向迭代以及如何实现反向迭代？</span>\n",
    "- 实现反向迭代协议的\\__reversed\\__方法，它返回一个反向迭代器"
   ]
  },
  {
   "cell_type": "code",
   "execution_count": 2,
   "metadata": {},
   "outputs": [
    {
     "data": {
      "text/plain": [
       "[5, 4, 3, 2, 1]"
      ]
     },
     "execution_count": 2,
     "metadata": {},
     "output_type": "execute_result"
    }
   ],
   "source": [
    "l = [1,2,3,4,5]\n",
    "l.reverse()\n",
    "l #改变了原列表，往往是不允许的"
   ]
  },
  {
   "cell_type": "code",
   "execution_count": 4,
   "metadata": {},
   "outputs": [
    {
     "data": {
      "text/plain": [
       "[5, 4, 3, 2, 1]"
      ]
     },
     "execution_count": 4,
     "metadata": {},
     "output_type": "execute_result"
    }
   ],
   "source": [
    "l = [1,2,3,4,5]\n",
    "l[::-1] #得到新列表，某些时候是很浪费的"
   ]
  },
  {
   "cell_type": "code",
   "execution_count": 5,
   "metadata": {},
   "outputs": [
    {
     "data": {
      "text/plain": [
       "<list_reverseiterator at 0x1064483c8>"
      ]
     },
     "execution_count": 5,
     "metadata": {},
     "output_type": "execute_result"
    }
   ],
   "source": [
    "# 列表的反向迭代\n",
    "reversed(l)"
   ]
  },
  {
   "cell_type": "code",
   "execution_count": 6,
   "metadata": {},
   "outputs": [
    {
     "data": {
      "text/plain": [
       "<list_iterator at 0x106448208>"
      ]
     },
     "execution_count": 6,
     "metadata": {},
     "output_type": "execute_result"
    }
   ],
   "source": [
    "# 列表的正向迭代\n",
    "iter(l)"
   ]
  },
  {
   "cell_type": "code",
   "execution_count": 7,
   "metadata": {},
   "outputs": [
    {
     "name": "stdout",
     "output_type": "stream",
     "text": [
      "5\n",
      "4\n",
      "3\n",
      "2\n",
      "1\n"
     ]
    }
   ],
   "source": [
    "for x in reversed(l):\n",
    "    print(x)"
   ]
  },
  {
   "cell_type": "code",
   "execution_count": 9,
   "metadata": {},
   "outputs": [
    {
     "data": {
      "text/plain": [
       "<method-wrapper '__iter__' of list object at 0x106422d08>"
      ]
     },
     "execution_count": 9,
     "metadata": {},
     "output_type": "execute_result"
    }
   ],
   "source": [
    "l.__iter__"
   ]
  },
  {
   "cell_type": "code",
   "execution_count": 12,
   "metadata": {},
   "outputs": [
    {
     "name": "stdout",
     "output_type": "stream",
     "text": [
      "Help on built-in function __reversed__:\n",
      "\n",
      "__reversed__(...) method of builtins.list instance\n",
      "    L.__reversed__() -- return a reverse iterator over the list\n",
      "\n"
     ]
    }
   ],
   "source": [
    "help(l.__reversed__)"
   ]
  },
  {
   "cell_type": "markdown",
   "metadata": {},
   "source": [
    "**实例：实现一个连续浮点数发生器FloatRange，于整数range功能类似**"
   ]
  },
  {
   "cell_type": "code",
   "execution_count": 14,
   "metadata": {},
   "outputs": [
    {
     "name": "stdout",
     "output_type": "stream",
     "text": [
      "1.0\n",
      "1.5\n",
      "2.0\n",
      "2.5\n",
      "3.0\n",
      "3.5\n",
      "4.0\n"
     ]
    }
   ],
   "source": [
    "class FloatRange:\n",
    "    def __init__(self, start, end, step=0.1):\n",
    "        self.start = start\n",
    "        self.end = end\n",
    "        self.step = step\n",
    "    \n",
    "    def __iter__(self):\n",
    "        t = self.start\n",
    "        while t <= self.end:\n",
    "            yield t\n",
    "            t += self.step\n",
    "    \n",
    "    def __reversed__(self):\n",
    "        t = self.end\n",
    "        while t >= self.start:\n",
    "            yield t\n",
    "            t -= self.step\n",
    "\n",
    "for x in FloatRange(1.0, 4.0, 0.5):\n",
    "    print(x)"
   ]
  },
  {
   "cell_type": "code",
   "execution_count": 15,
   "metadata": {},
   "outputs": [
    {
     "name": "stdout",
     "output_type": "stream",
     "text": [
      "4.0\n",
      "3.5\n",
      "3.0\n",
      "2.5\n",
      "2.0\n",
      "1.5\n",
      "1.0\n"
     ]
    }
   ],
   "source": [
    "for x in reversed(FloatRange(1.0, 4.0, 0.5)):\n",
    "    print(x)"
   ]
  },
  {
   "cell_type": "markdown",
   "metadata": {},
   "source": [
    "##  <span id='11'>11 如何对迭代器做切片操作？</span>\n",
    "假设有个文本文件，我们想读取其中某范围内的内容，如100-300行之间的内容。python文本文件是可迭代对象，我们能否可以使用类似列表切片的方法得到100-300行的文件内容的生成器？下面的代码有效吗？\n",
    "```python\n",
    "f = open('/var/log/wifi.log')\n",
    "f[100:300]\n",
    "```"
   ]
  },
  {
   "cell_type": "code",
   "execution_count": 18,
   "metadata": {},
   "outputs": [
    {
     "name": "stdout",
     "output_type": "stream",
     "text": [
      "     1\tJul 23 00:30:00 leipengdeMBP newsyslog[1015]: logfile turned over\r\n",
      "     2\tMon Jul 23 09:00:32.616 ***Starting Up***\r\n",
      "     3\tMon Jul 23 09:00:32.651 <kernel> IO80211Controller::addSubscriptionForThisReporterFetchedOnTimer() Failed to addSubscription for group Interface p2p0 subgroup Data Packets driver 0x419f4e8031888eff - data underrun\r\n",
      "     4\tMon Jul 23 09:00:32.651 <kernel> IO80211InterfaceMonitor::configureSubscriptions() failed to add subscription\r\n",
      "     5\tMon Jul 23 09:00:32.655 <kernel>  Creating all peerManager reporters\r\n",
      "     6\tMon Jul 23 09:00:32.686 <airportd[113]> airportdProcessDLILEvent: en0 attached (up)\r\n",
      "     7\tMon Jul 23 09:00:32.700 <kernel> wl0: setAWDL_PEER_TRAFFIC_REGISTRATION: active 0, roam_off: 0, err 0 roam_start_set 0 forced_roam_set 0\r\n",
      "     8\tMon Jul 23 09:00:33.304 <kernel> Setting BTCoex Profile: band:8\r\n",
      "     9\tMon Jul 23 09:00:33.304 <kernel> Profile[0]: mode:7; desense:0; desense_level:0; chain_power_offset:<kernel> 0,<kernel> 0,<kernel> 0,<kernel> 0,<kernel> \r\n",
      "    10\tMon Jul 23 09:00:33.304 <kernel> Profile[1]: mode:7; desense:0; desense_level:0; chain_power_offset:<kernel> 0,<kernel> 0,<kernel> 0,<kernel> 0,<kernel> \r\n",
      "    11\tMon Jul 23 09:00:33.304 <kernel> Profile[2]: mode:7; desense:0; desense_level:0; chain_power_offset:<kernel> 0,<kernel> 0,<kernel> 0,<kernel> 0,<kernel> \r\n",
      "    12\tMon Jul 23 09:00:33.305 <kernel> Profile[3]: mode:7; desense:0; desense_level:0; chain_power_offset:<kernel> 0,<kernel> 0,<kernel> 0,<kernel> 0,<kernel> \r\n",
      "    13\tMon Jul 23 09:00:33.305 <kernel> Setting BTCoex Profile: band:2\r\n",
      "    14\tMon Jul 23 09:00:33.305 <kernel> Profile[0]: mode:0; desense:0; desense_level:0; chain_power_offset:<kernel> 0,<kernel> 0,<kernel> 0,<kernel> 0,<kernel> \r\n",
      "    15\tMon Jul 23 09:00:33.305 <kernel> Setting BTCoex Config: enable_2G:1, profile_2g:0, enable_5G:1, profile_5G:0\r\n",
      "    16\tMon Jul 23 09:00:33.854 <kernel> parseRSNIE: groupCipherType = 5 pairwiseCipherType = 5 authSel = 2\r\n",
      "    17\tMon Jul 23 09:00:33.855 <kernel> initWithInterfaceAndIE: _myMacAddress 88:e9:fe:67:fe:a5\r\n",
      "    18\tMon Jul 23 09:00:33.855 <kernel> setPMK: PMK SET!\r\n",
      "    19\tMon Jul 23 09:00:34.072 <kernel> Unexpected payload found for message 9, dataLen 0\r\n",
      "    20\tMon Jul 23 09:00:34.182 <kernel> en0: Received EAPOL packet (length = 113)\r\n",
      "    21\tMon Jul 23 09:00:34.207 <kernel> inputEAPOLFrame: 0 extra bytes present in EAPOL frame.\r\n",
      "    22\tMon Jul 23 09:00:34.207 <kernel> inputEAPOLFrame: Received message 1 of 4\r\n",
      "    23\tMon Jul 23 09:00:34.207 <kernel> FULL RSN IE FOUND:\r\n",
      "    24\tMon Jul 23 09:00:34.207 [00000000] 30 14 01 00 00 0F AC 04 01 00 00 0F AC 04 01 00 00 0F AC 02 00 00 \r\n",
      "    25\tMon Jul 23 09:00:34.207 <kernel> storeFullRSNIE: getAP_IE_LIST returned 0\r\n",
      "    26\tMon Jul 23 09:00:34.207 <kernel> PMK:\r\n",
      "    27\tMon Jul 23 09:00:34.207 [00000000] A0 9A 3F CF C9 63 CE 0F FE 67 42 6F 86 DB 0F 95 F4 33 86 92 5A A4 A2 19 50 D7 3A 77 AD 74 \r\n",
      "    28\tMon Jul 23 09:00:34.207 [0000001E] F6 61 \r\n",
      "    29\tMon Jul 23 09:00:34.207 <kernel> TPTK:\r\n",
      "    30\tMon Jul 23 09:00:34.207 [00000000] 0D 5C 77 E9 76 23 32 7B 3B 21 3A 4B C6 85 59 0E 72 D1 D3 CF 88 E0 00 30 A4 FE 56 83 46 83 \r\n",
      "    31\tMon Jul 23 09:00:34.207 [0000001E] 1C DE 63 FC D1 CD E6 04 54 2B ED EA 2D 02 08 6D ED 28 00 00 00 00 00 00 00 00 00 00 00 00 \r\n",
      "    32\tMon Jul 23 09:00:34.207 [0000003C] 00 00 00 00 \r\n",
      "    33\tMon Jul 23 09:00:34.207 <kernel> KEY MIC:\r\n",
      "    34\tMon Jul 23 09:00:34.207 [00000000] 2D 18 0A 1A 88 12 48 BB 08 CC 2E 20 69 1E 4E 2C \r\n",
      "    35\tMon Jul 23 09:00:34.207 <kernel> process1of4: sending replyPacket 135 bytes\r\n",
      "    36\tMon Jul 23 09:00:34.207 <kernel> en0: Received EAPOL packet (length = 169)\r\n",
      "    37\tMon Jul 23 09:00:34.207 <kernel> inputEAPOLFrame: 0 extra bytes present in EAPOL frame.\r\n",
      "    38\tMon Jul 23 09:00:34.207 <kernel> inputEAPOLFrame: decrypting key data\r\n",
      "    39\tMon Jul 23 09:00:34.207 <kernel> inputEAPOLFrame: Received message 3 of 4\r\n",
      "    40\tMon Jul 23 09:00:34.207 <kernel> process3of4: Performing IE check.\r\n",
      "    41\tMon Jul 23 09:00:34.207 <kernel> process3of4: sending replyPacket ( len = 113 ).\r\n",
      "    42\tMon Jul 23 09:00:34.207 <kernel> process3of4: received pairwise GTK\r\n",
      "    43\tMon Jul 23 09:00:34.207 <kernel> ptkThread: Sleeping!\r\n",
      "    44\tMon Jul 23 09:00:34.207 <kernel> ptkThread: Installing PTK!\r\n",
      "    45\tMon Jul 23 09:00:34.207 <kernel> PTK:\r\n",
      "    46\tMon Jul 23 09:00:34.207 [00000000] 63 FC D1 CD E6 04 54 2B ED EA 2D 02 08 6D ED 28 \r\n",
      "    47\tMon Jul 23 09:00:34.207 <kernel> ptkThread: Installing GTK!\r\n",
      "    48\tMon Jul 23 09:00:34.207 <kernel> installGTK: setting cipher key (flags = 0x0)\r\n",
      "    49\tMon Jul 23 09:00:34.208 <kernel> GTK-RSC:\r\n",
      "    50\tMon Jul 23 09:00:34.208 [00000000] 6A 0A 00 00 00 00 \r\n",
      "    51\tMon Jul 23 09:00:34.208 <kernel> GTK:\r\n",
      "    52\tMon Jul 23 09:00:34.208 [00000000] FA 7E EF 35 08 F2 3A 61 AC AB 79 E8 3D 28 23 44 \r\n",
      "    53\tMon Jul 23 09:00:34.208 <kernel> installGTK: GTK installed\r\n",
      "    54\tMon Jul 23 09:00:35.134 <kernel> Setting BTCoex Config: enable_2G:1, profile_2g:0, enable_5G:1, profile_5G:0\r\n",
      "    55\tMon Jul 23 09:00:37.230 <airportd[113]> _processIPv4Changes: ARP/NDP offloads disabled, not programming the offload\r\n",
      "    56\tMon Jul 23 09:00:37.245 <airportd[113]> _processIPv4Changes: ARP/NDP offloads disabled, not programming the offload\r\n",
      "    57\tMon Jul 23 09:00:41.990 <airportd[113]> _processIPv4Changes: ARP/NDP offloads disabled, not programming the offload\r\n",
      "    58\tMon Jul 23 09:00:57.947 <kernel> en0: roam event, sending supplicant link down message.\r\n",
      "    59\tMon Jul 23 09:00:58.370 <kernel> IO80211AssociationJoinSnapshot::captureRequestCallback Problem reported from corecapture\r\n",
      "    60\tMon Jul 23 10:45:12.550 <kernel> IO80211AssociationJoinSnapshot::captureRequestCallback Problem reported from corecapture\r\n",
      "    61\tMon Jul 23 12:06:18.250 <kernel> Setting BTCoex Config: enable_2G:1, profile_2g:0, enable_5G:1, profile_5G:0\r\n",
      "    62\tMon Jul 23 12:06:33.343 <kernel> wl0: setup_keepalive: interval 900, retry_interval 30, retry_count 10\r\n",
      "    63\tMon Jul 23 12:06:33.343 <kernel> wl0: setup_keepalive: Local IP: 192.168.199.196\r\n",
      "    64\tMon Jul 23 12:06:33.343 <kernel> wl0: setup_keepalive: Remote IP: 17.252.236.214\r\n",
      "    65\tMon Jul 23 12:06:33.343 <kernel> wl0: setup_keepalive: Local port: 49152, Remote port: 5223\r\n",
      "    66\tMon Jul 23 12:06:33.343 <kernel> wl0: setup_keepalive: Seq: 3120303685, Ack: 1319319488, Win size: 4096\r\n",
      "    67\tMon Jul 23 12:06:33.343 <kernel> wl0: MDNS: IPV4 Addr: 192.168.199.196\r\n",
      "    68\tMon Jul 23 12:06:33.343 <kernel> wl0: MDNS: IPV6 Addr: fe80:0:0:0:4e4:9cf:e804:fdae\r\n",
      "    69\tMon Jul 23 12:06:33.343 <kernel> wl0: MDNS: 3 SRV Recs, 3 TXT Recs\r\n",
      "    70\tMon Jul 23 12:06:33.343 <kernel> wl0: MDNS: 3 TCP ports:  548  445  49171 \r\n",
      "    71\tMon Jul 23 12:07:57.209 <kernel> IO80211VirtualInterface::controllerWillChangePowerState : Bringing down link\r\n",
      "    72\tMon Jul 23 12:07:57.270 <kernel> IO80211VirtualInterface::handleSIOCSIFFLAGS : Source controllerWillChangePowerState calling peerManager->disable\r\n",
      "    73\tMon Jul 23 12:07:57.270 <kernel> wl0: wl_update_tcpkeep_seq: Original Seq: 3120303685, Ack: 1319319488, Win size: 4096\r\n",
      "    74\tMon Jul 23 12:07:57.270 <kernel> wl0: wl_update_tcpkeep_seq: Updated seq/ack/win from UserClient Seq 3120303738, Ack 1319319557, Win size 293\r\n",
      "    75\tMon Jul 23 12:07:57.270 <kernel> wl0: leaveModulePoweredForOffloads: Wi-Fi will stay on.\r\n",
      "    76\tMon Jul 23 12:07:57.270 <kernel> AirPort_Brcm43xx::platformWoWEnable: WWEN[enable], in_fatal_err[0]\r\n",
      "    77\tMon Jul 23 12:07:57.270 <kernel> AirPort_Brcm43xx::syncPowerState: WWEN[enabled]\r\n",
      "    78\tMon Jul 23 12:07:57.712 <kernel> Setting BTCoex Config: enable_2G:1, profile_2g:0, enable_5G:1, profile_5G:0\r\n",
      "    79\tMon Jul 23 12:07:57.879 <kernel> Setting BTCoex Config: enable_2G:1, profile_2g:0, enable_5G:1, profile_5G:0\r\n",
      "    80\tMon Jul 23 12:07:58.467 <kernel> AirPort_Brcm43xx::platformWoWEnable: WWEN[disable], in_fatal_err[0]\r\n",
      "    81\tMon Jul 23 12:08:00.554 <kernel> en0: Received EAPOL packet (length = 113)\r\n",
      "    82\tMon Jul 23 12:08:00.554 <kernel> inputEAPOLFrame: 0 extra bytes present in EAPOL frame.\r\n",
      "    83\tMon Jul 23 12:08:00.554 <kernel> inputEAPOLFrame: Received message 1 of 4\r\n",
      "    84\tMon Jul 23 12:08:00.554 <kernel> FULL RSN IE FOUND:\r\n",
      "    85\tMon Jul 23 12:08:00.554 [00000000] 30 14 01 00 00 0F AC 04 01 00 00 0F AC 04 01 00 00 0F AC 02 00 00 \r\n",
      "    86\tMon Jul 23 12:08:00.554 <kernel> storeFullRSNIE: getAP_IE_LIST returned 0\r\n",
      "    87\tMon Jul 23 12:08:00.554 <kernel> PMK:\r\n",
      "    88\tMon Jul 23 12:08:00.555 [00000000] A0 9A 3F CF C9 63 CE 0F FE 67 42 6F 86 DB 0F 95 F4 33 86 92 5A A4 A2 19 50 D7 3A 77 AD 74 \r\n",
      "    89\tMon Jul 23 12:08:00.555 [0000001E] F6 61 \r\n",
      "    90\tMon Jul 23 12:08:00.555 <kernel> TPTK:\r\n",
      "    91\tMon Jul 23 12:08:00.555 [00000000] DA FC 26 3F A6 FC 3E 27 1E A0 95 27 83 DD 45 BF 0A D3 3C 83 C5 D1 FF 24 74 E4 6E 93 49 67 \r\n",
      "    92\tMon Jul 23 12:08:00.555 [0000001E] 2A 07 64 2A 85 14 A8 1B D4 BC A3 CF 46 11 2A 18 46 95 00 00 00 00 00 00 00 00 00 00 00 00 \r\n",
      "    93\tMon Jul 23 12:08:00.555 [0000003C] 00 00 00 00 \r\n",
      "    94\tMon Jul 23 12:08:00.555 <kernel> KEY MIC:\r\n",
      "    95\tMon Jul 23 12:08:00.555 [00000000] 8B 64 11 71 16 92 19 FF D9 79 64 D1 6A BD A7 03 \r\n",
      "    96\tMon Jul 23 12:08:00.555 <kernel> process1of4: sending replyPacket 135 bytes\r\n",
      "    97\tMon Jul 23 12:08:00.562 <kernel> en0: Received EAPOL packet (length = 169)\r\n",
      "    98\tMon Jul 23 12:08:00.562 <kernel> inputEAPOLFrame: 0 extra bytes present in EAPOL frame.\r\n",
      "    99\tMon Jul 23 12:08:00.562 <kernel> inputEAPOLFrame: decrypting key data\r\n",
      "   100\tMon Jul 23 12:08:00.562 <kernel> inputEAPOLFrame: Received message 3 of 4\r\n",
      "   101\tMon Jul 23 12:08:00.562 <kernel> process3of4: Performing IE check.\r\n",
      "   102\tMon Jul 23 12:08:00.562 <kernel> process3of4: sending replyPacket ( len = 113 ).\r\n",
      "   103\tMon Jul 23 12:08:00.563 <kernel> process3of4: received pairwise GTK\r\n",
      "   104\tMon Jul 23 12:08:00.563 <kernel> ptkThread: Sleeping!\r\n",
      "   105\tMon Jul 23 12:08:00.563 <kernel> ptkThread: Installing PTK!\r\n",
      "   106\tMon Jul 23 12:08:00.563 <kernel> PTK:\r\n",
      "   107\tMon Jul 23 12:08:00.563 [00000000] 64 2A 85 14 A8 1B D4 BC A3 CF 46 11 2A 18 46 95 \r\n",
      "   108\tMon Jul 23 12:08:00.564 <kernel> ptkThread: Installing GTK!\r\n",
      "   109\tMon Jul 23 12:08:00.564 <kernel> installGTK: setting cipher key (flags = 0x0)\r\n",
      "   110\tMon Jul 23 12:08:00.564 <kernel> GTK-RSC:\r\n",
      "   111\tMon Jul 23 12:08:00.564 [00000000] 22 38 00 00 00 00 \r\n",
      "   112\tMon Jul 23 12:08:00.564 <kernel> GTK:\r\n",
      "   113\tMon Jul 23 12:08:00.564 [00000000] FA 7E EF 35 08 F2 3A 61 AC AB 79 E8 3D 28 23 44 \r\n",
      "   114\tMon Jul 23 12:08:00.564 <kernel> installGTK: GTK installed\r\n",
      "   115\tMon Jul 23 12:08:05.455 <kernel> wl0: setup_keepalive: interval 900, retry_interval 30, retry_count 10\r\n",
      "   116\tMon Jul 23 12:08:05.455 <kernel> wl0: setup_keepalive: Local IP: 192.168.199.196\r\n",
      "   117\tMon Jul 23 12:08:05.455 <kernel> wl0: setup_keepalive: Remote IP: 17.252.236.214\r\n",
      "   118\tMon Jul 23 12:08:05.455 <kernel> wl0: setup_keepalive: Local port: 49152, Remote port: 5223\r\n",
      "   119\tMon Jul 23 12:08:05.455 <kernel> wl0: setup_keepalive: Seq: 3120304051, Ack: 1319319716, Win size: 4096\r\n",
      "   120\tMon Jul 23 12:08:05.455 <kernel> wl0: MDNS: IPV4 Addr: 192.168.199.196\r\n",
      "   121\tMon Jul 23 12:08:05.455 <kernel> wl0: MDNS: IPV6 Addr: fe80:0:0:0:4e4:9cf:e804:fdae\r\n",
      "   122\tMon Jul 23 12:08:05.455 <kernel> wl0: MDNS: 0 SRV Recs, 0 TXT Recs\r\n",
      "   123\tMon Jul 23 12:08:05.455 <kernel> wl0: MDNS: 2 TCP ports:  548  445 \r\n",
      "   124\tMon Jul 23 12:10:48.241 <kernel> IO80211VirtualInterface::controllerWillChangePowerState : Bringing down link\r\n",
      "   125\tMon Jul 23 12:10:48.298 <kernel> IO80211VirtualInterface::handleSIOCSIFFLAGS : Source controllerWillChangePowerState calling peerManager->disable\r\n",
      "   126\tMon Jul 23 12:10:48.298 <kernel> wl0: wl_update_tcpkeep_seq: Original Seq: 3120304051, Ack: 1319319716, Win size: 4096\r\n",
      "   127\tMon Jul 23 12:10:48.298 <kernel> wl0: wl_update_tcpkeep_seq: Updated seq/ack/win from UserClient Seq 3120304051, Ack 1319319716, Win size 323\r\n",
      "   128\tMon Jul 23 12:10:48.298 <kernel> wl0: leaveModulePoweredForOffloads: Wi-Fi will stay on.\r\n",
      "   129\tMon Jul 23 12:10:48.298 <kernel> AirPort_Brcm43xx::platformWoWEnable: WWEN[enable], in_fatal_err[0]\r\n",
      "   130\tMon Jul 23 12:10:48.298 <kernel> AirPort_Brcm43xx::syncPowerState: WWEN[enabled]\r\n",
      "   131\tMon Jul 23 12:10:49.538 <kernel> AirPort_Brcm43xx::platformWoWEnable: WWEN[disable], in_fatal_err[0]\r\n",
      "   132\tMon Jul 23 12:11:00.766 <kernel> en0: link down event, informing supplicant.\r\n",
      "   133\tMon Jul 23 12:11:00.860 <kernel> AirPort_BrcmNIC::getSSIDData(): Get failure: APPLE80211_IOC_SSID: 6\r\n",
      "   134\tMon Jul 23 12:11:02.967 <airportd[113]> _processIPv4Changes: ARP/NDP offloads disabled, not programming the offload\r\n",
      "   135\tMon Jul 23 12:11:02.970 <airportd[113]> _processIPv4Changes: ARP/NDP offloads disabled, not programming the offload\r\n",
      "   136\tMon Jul 23 12:11:03.760 <kernel> en0: Terminating supplicant.\r\n",
      "   137\tMon Jul 23 12:11:03.760 <kernel> RSNSupplicant: Releasing authenticator for d0:ee:07:65:7d:20\r\n",
      "   138\tMon Jul 23 13:01:00.249 <kernel> IO80211VirtualInterface::controllerWillChangePowerState : Bringing down link\r\n",
      "   139\tMon Jul 23 13:01:00.250 <kernel> IO80211VirtualInterface::handleSIOCSIFFLAGS : Source controllerWillChangePowerState calling peerManager->disable\r\n",
      "   140\tMon Jul 23 13:01:00.250 <kernel> wl0: leaveModulePoweredForOffloads: Wi-Fi will stay on.\r\n",
      "   141\tMon Jul 23 13:01:00.250 <kernel> AirPort_Brcm43xx::platformWoWEnable: WWEN[enable], in_fatal_err[0]\r\n",
      "   142\tMon Jul 23 13:01:00.250 <kernel> AirPort_Brcm43xx::syncPowerState: WWEN[enabled]\r\n",
      "   143\tMon Jul 23 13:01:00.768 <kernel> Setting BTCoex Config: enable_2G:1, profile_2g:0, enable_5G:1, profile_5G:0\r\n",
      "   144\tMon Jul 23 13:01:01.606 <kernel> AirPort_Brcm43xx::platformWoWEnable: WWEN[disable], in_fatal_err[0]\r\n",
      "   145\tMon Jul 23 13:01:02.182 <kernel> Unexpected payload found for message 9, dataLen 0\r\n",
      "   146\tMon Jul 23 13:01:06.605 <airportd[113]> _processIPv4Changes: ARP/NDP offloads disabled, not programming the offload\r\n",
      "   147\tMon Jul 23 13:01:23.999 <airportd[113]> _processIPv4Changes: ARP/NDP offloads disabled, not programming the offload\r\n",
      "   148\tMon Jul 23 13:01:30.267 <airportd[113]> _processIPv4Changes: ARP/NDP offloads disabled, not programming the offload\r\n",
      "   149\tMon Jul 23 13:01:30.275 <airportd[113]> _processIPv4Changes: ARP/NDP offloads disabled, not programming the offload\r\n",
      "   150\tMon Jul 23 13:01:33.441 <airportd[113]> _processIPv4Changes: ARP/NDP offloads disabled, not programming the offload\r\n",
      "   151\tMon Jul 23 13:01:34.013 <airportd[113]> _processIPv4Changes: ARP/NDP offloads disabled, not programming the offload\r\n",
      "   152\tMon Jul 23 15:03:11.093 <kernel> wl0: setup_keepalive: interval 900, retry_interval 30, retry_count 10\r\n",
      "   153\tMon Jul 23 15:03:11.094 <kernel> wl0: setup_keepalive: Local IP: 172.18.2.26\r\n",
      "   154\tMon Jul 23 15:03:11.094 <kernel> wl0: setup_keepalive: Remote IP: 17.252.157.18\r\n",
      "   155\tMon Jul 23 15:03:11.094 <kernel> wl0: setup_keepalive: Local port: 51830, Remote port: 5223\r\n",
      "   156\tMon Jul 23 15:03:11.094 <kernel> wl0: setup_keepalive: Seq: 97349437, Ack: 312466087, Win size: 4096\r\n",
      "   157\tMon Jul 23 15:03:11.094 <kernel> wl0: MDNS: IPV4 Addr: 172.18.2.26\r\n",
      "   158\tMon Jul 23 15:03:11.094 <kernel> wl0: MDNS: IPV6 Addr: fe80:0:0:0:4e4:9cf:e804:fdae\r\n",
      "   159\tMon Jul 23 15:03:11.095 <kernel> wl0: MDNS: 0 SRV Recs, 0 TXT Recs\r\n",
      "   160\tMon Jul 23 15:03:11.095 <kernel> wl0: MDNS: 3 TCP ports:  548  445  10000 \r\n",
      "   161\tMon Jul 23 15:03:11.107 <kernel> AirPort_BrcmNIC::getSSIDData(): Get failure: APPLE80211_IOC_SSID: 6\r\n",
      "   162\tMon Jul 23 15:03:24.328 <kernel> IO80211VirtualInterface::controllerWillChangePowerState : Bringing down link\r\n",
      "   163\tMon Jul 23 15:03:24.328 <kernel> IO80211VirtualInterface::handleSIOCSIFFLAGS : Source controllerWillChangePowerState calling peerManager->disable\r\n",
      "   164\tMon Jul 23 15:03:24.328 <kernel> wl0: wl_update_tcpkeep_seq: Original Seq: 97349437, Ack: 312466087, Win size: 4096\r\n",
      "   165\tMon Jul 23 15:03:24.328 <kernel> wl0: wl_update_tcpkeep_seq: Updated seq/ack/win from UserClient Seq 97349506, Ack 312466087, Win size 293\r\n",
      "   166\tMon Jul 23 15:03:24.328 <kernel> wl0: leaveModulePoweredForOffloads: Wi-Fi will stay on.\r\n",
      "   167\tMon Jul 23 15:03:24.328 <kernel> AirPort_Brcm43xx::platformWoWEnable: WWEN[enable], in_fatal_err[0]\r\n",
      "   168\tMon Jul 23 15:03:24.328 <kernel> AirPort_Brcm43xx::syncPowerState: WWEN[enabled]\r\n",
      "   169\tMon Jul 23 15:03:25.675 <kernel> AirPort_Brcm43xx::platformWoWEnable: WWEN[disable], in_fatal_err[0]\r\n",
      "   170\tMon Jul 23 15:03:25.733 <airportd[113]> _processIPv4Changes: ARP/NDP offloads disabled, not programming the offload\r\n",
      "   171\tMon Jul 23 15:03:25.744 <airportd[113]> _processIPv4Changes: ARP/NDP offloads disabled, not programming the offload\r\n",
      "   172\tMon Jul 23 15:03:29.634 <airportd[113]> _processIPv4Changes: ARP/NDP offloads disabled, not programming the offload\r\n",
      "   173\tMon Jul 23 15:03:29.647 <airportd[113]> _processIPv4Changes: ARP/NDP offloads disabled, not programming the offload\r\n",
      "   174\tMon Jul 23 15:03:29.659 <kernel> Unexpected payload found for message 9, dataLen 0\r\n",
      "   175\tMon Jul 23 15:47:11.403 <kernel> IO80211AssociationJoinSnapshot::captureRequestCallback Problem reported from corecapture\r\n",
      "   176\tMon Jul 23 16:40:47.069 <kernel> wl0: setup_keepalive: interval 900, retry_interval 30, retry_count 10\r\n",
      "   177\tMon Jul 23 16:40:47.070 <kernel> wl0: setup_keepalive: Local IP: 172.18.2.26\r\n",
      "   178\tMon Jul 23 16:40:47.070 <kernel> wl0: setup_keepalive: Remote IP: 17.252.236.19\r\n",
      "   179\tMon Jul 23 16:40:47.070 <kernel> wl0: setup_keepalive: Local port: 53106, Remote port: 5223\r\n",
      "   180\tMon Jul 23 16:40:47.070 <kernel> wl0: setup_keepalive: Seq: 2749212493, Ack: 1646276344, Win size: 4096\r\n",
      "   181\tMon Jul 23 16:40:47.070 <kernel> wl0: MDNS: IPV4 Addr: 172.18.2.26\r\n",
      "   182\tMon Jul 23 16:40:47.070 <kernel> wl0: MDNS: IPV6 Addr: fe80:0:0:0:4e4:9cf:e804:fdae\r\n",
      "   183\tMon Jul 23 16:40:47.070 <kernel> wl0: MDNS: 0 SRV Recs, 0 TXT Recs\r\n",
      "   184\tMon Jul 23 16:40:47.070 <kernel> wl0: MDNS: 3 TCP ports:  548  445  10000 \r\n",
      "   185\tMon Jul 23 16:40:47.082 <kernel> AirPort_BrcmNIC::getSSIDData(): Get failure: APPLE80211_IOC_SSID: 6\r\n",
      "   186\tMon Jul 23 16:50:22.471 <kernel> IO80211VirtualInterface::controllerWillChangePowerState : Bringing down link\r\n",
      "   187\tMon Jul 23 16:50:22.549 <kernel> IO80211VirtualInterface::handleSIOCSIFFLAGS : Source controllerWillChangePowerState calling peerManager->disable\r\n",
      "   188\tMon Jul 23 16:50:22.549 <kernel> wl0: wl_update_tcpkeep_seq: Original Seq: 2749212493, Ack: 1646276344, Win size: 4096\r\n",
      "   189\tMon Jul 23 16:50:22.549 <kernel> wl0: wl_update_tcpkeep_seq: Updated seq/ack/win from UserClient Seq 2749212562, Ack 1646276344, Win size 293\r\n",
      "   190\tMon Jul 23 16:50:22.549 <kernel> wl0: leaveModulePoweredForOffloads: Wi-Fi will stay on.\r\n",
      "   191\tMon Jul 23 16:50:22.549 <kernel> AirPort_Brcm43xx::platformWoWEnable: WWEN[enable], in_fatal_err[0]\r\n",
      "   192\tMon Jul 23 16:50:22.549 <kernel> AirPort_Brcm43xx::syncPowerState: WWEN[enabled]\r\n",
      "   193\tMon Jul 23 16:50:23.821 <kernel> AirPort_Brcm43xx::platformWoWEnable: WWEN[disable], in_fatal_err[0]\r\n",
      "   194\tMon Jul 23 16:50:23.876 <airportd[113]> _processIPv4Changes: ARP/NDP offloads disabled, not programming the offload\r\n",
      "   195\tMon Jul 23 16:50:23.882 <airportd[113]> _processIPv4Changes: ARP/NDP offloads disabled, not programming the offload\r\n",
      "   196\tMon Jul 23 16:50:27.733 <airportd[113]> _processIPv4Changes: ARP/NDP offloads disabled, not programming the offload\r\n",
      "   197\tMon Jul 23 16:50:27.744 <airportd[113]> _processIPv4Changes: ARP/NDP offloads disabled, not programming the offload\r\n",
      "   198\tMon Jul 23 16:50:27.794 <kernel> Unexpected payload found for message 9, dataLen 0\r\n"
     ]
    }
   ],
   "source": [
    "cat -n /var/log/wifi.log"
   ]
  },
  {
   "cell_type": "code",
   "execution_count": 24,
   "metadata": {},
   "outputs": [
    {
     "ename": "TypeError",
     "evalue": "'_io.TextIOWrapper' object is not subscriptable",
     "output_type": "error",
     "traceback": [
      "\u001b[0;31m---------------------------------------------------------------------------\u001b[0m",
      "\u001b[0;31mTypeError\u001b[0m                                 Traceback (most recent call last)",
      "\u001b[0;32m<ipython-input-24-860dd2277f0c>\u001b[0m in \u001b[0;36m<module>\u001b[0;34m()\u001b[0m\n\u001b[1;32m      1\u001b[0m \u001b[0mf\u001b[0m \u001b[0;34m=\u001b[0m \u001b[0mopen\u001b[0m\u001b[0;34m(\u001b[0m\u001b[0;34m'/var/log/wifi.log'\u001b[0m\u001b[0;34m)\u001b[0m\u001b[0;34m\u001b[0m\u001b[0m\n\u001b[0;32m----> 2\u001b[0;31m \u001b[0mf\u001b[0m\u001b[0;34m[\u001b[0m\u001b[0;36m50\u001b[0m\u001b[0;34m:\u001b[0m\u001b[0;36m100\u001b[0m\u001b[0;34m]\u001b[0m \u001b[0;31m#可以看到文本对象不能直接切片\u001b[0m\u001b[0;34m\u001b[0m\u001b[0m\n\u001b[0m",
      "\u001b[0;31mTypeError\u001b[0m: '_io.TextIOWrapper' object is not subscriptable"
     ]
    }
   ],
   "source": [
    "f = open('/var/log/wifi.log')\n",
    "f[50:100] #可以看到文本对象不能直接切片"
   ]
  },
  {
   "cell_type": "code",
   "execution_count": 25,
   "metadata": {},
   "outputs": [
    {
     "data": {
      "text/plain": [
       "['Mon Jul 23 09:00:34.208 <kernel> GTK:\\n',\n",
       " 'Mon Jul 23 09:00:34.208 [00000000] FA 7E EF 35 08 F2 3A 61 AC AB 79 E8 3D 28 23 44 \\n',\n",
       " 'Mon Jul 23 09:00:34.208 <kernel> installGTK: GTK installed\\n',\n",
       " 'Mon Jul 23 09:00:35.134 <kernel> Setting BTCoex Config: enable_2G:1, profile_2g:0, enable_5G:1, profile_5G:0\\n',\n",
       " 'Mon Jul 23 09:00:37.230 <airportd[113]> _processIPv4Changes: ARP/NDP offloads disabled, not programming the offload\\n',\n",
       " 'Mon Jul 23 09:00:37.245 <airportd[113]> _processIPv4Changes: ARP/NDP offloads disabled, not programming the offload\\n',\n",
       " 'Mon Jul 23 09:00:41.990 <airportd[113]> _processIPv4Changes: ARP/NDP offloads disabled, not programming the offload\\n',\n",
       " 'Mon Jul 23 09:00:57.947 <kernel> en0: roam event, sending supplicant link down message.\\n',\n",
       " 'Mon Jul 23 09:00:58.370 <kernel> IO80211AssociationJoinSnapshot::captureRequestCallback Problem reported from corecapture\\n',\n",
       " 'Mon Jul 23 10:45:12.550 <kernel> IO80211AssociationJoinSnapshot::captureRequestCallback Problem reported from corecapture\\n']"
      ]
     },
     "execution_count": 25,
     "metadata": {},
     "output_type": "execute_result"
    }
   ],
   "source": [
    "# 那能不能用readlines对象呢？\n",
    "lines = f.readlines()\n",
    "lines[50:60]"
   ]
  },
  {
   "cell_type": "markdown",
   "metadata": {},
   "source": [
    "readlines会一次性将文件全部读入内存当中，有些日志文件可能几个g，what a disaster\n",
    "#### 读取文本最好的方式还是使用迭代协议"
   ]
  },
  {
   "cell_type": "code",
   "execution_count": 26,
   "metadata": {},
   "outputs": [],
   "source": [
    "for line in f:\n",
    "    print(line)"
   ]
  },
  {
   "cell_type": "markdown",
   "metadata": {},
   "source": [
    "可以看到什么也没有输出，因为前面readlines使得文件指针已经在文件结尾处"
   ]
  },
  {
   "cell_type": "code",
   "execution_count": 27,
   "metadata": {},
   "outputs": [
    {
     "name": "stdout",
     "output_type": "stream",
     "text": [
      "Jul 23 00:30:00 leipengdeMBP newsyslog[1015]: logfile turned over\n",
      "\n",
      "Mon Jul 23 09:00:32.616 ***Starting Up***\n",
      "\n",
      "Mon Jul 23 09:00:32.651 <kernel> IO80211Controller::addSubscriptionForThisReporterFetchedOnTimer() Failed to addSubscription for group Interface p2p0 subgroup Data Packets driver 0x419f4e8031888eff - data underrun\n",
      "\n",
      "Mon Jul 23 09:00:32.651 <kernel> IO80211InterfaceMonitor::configureSubscriptions() failed to add subscription\n",
      "\n",
      "Mon Jul 23 09:00:32.655 <kernel>  Creating all peerManager reporters\n",
      "\n",
      "Mon Jul 23 09:00:32.686 <airportd[113]> airportdProcessDLILEvent: en0 attached (up)\n",
      "\n",
      "Mon Jul 23 09:00:32.700 <kernel> wl0: setAWDL_PEER_TRAFFIC_REGISTRATION: active 0, roam_off: 0, err 0 roam_start_set 0 forced_roam_set 0\n",
      "\n",
      "Mon Jul 23 09:00:33.304 <kernel> Setting BTCoex Profile: band:8\n",
      "\n",
      "Mon Jul 23 09:00:33.304 <kernel> Profile[0]: mode:7; desense:0; desense_level:0; chain_power_offset:<kernel> 0,<kernel> 0,<kernel> 0,<kernel> 0,<kernel> \n",
      "\n",
      "Mon Jul 23 09:00:33.304 <kernel> Profile[1]: mode:7; desense:0; desense_level:0; chain_power_offset:<kernel> 0,<kernel> 0,<kernel> 0,<kernel> 0,<kernel> \n",
      "\n",
      "Mon Jul 23 09:00:33.304 <kernel> Profile[2]: mode:7; desense:0; desense_level:0; chain_power_offset:<kernel> 0,<kernel> 0,<kernel> 0,<kernel> 0,<kernel> \n",
      "\n",
      "Mon Jul 23 09:00:33.305 <kernel> Profile[3]: mode:7; desense:0; desense_level:0; chain_power_offset:<kernel> 0,<kernel> 0,<kernel> 0,<kernel> 0,<kernel> \n",
      "\n",
      "Mon Jul 23 09:00:33.305 <kernel> Setting BTCoex Profile: band:2\n",
      "\n",
      "Mon Jul 23 09:00:33.305 <kernel> Profile[0]: mode:0; desense:0; desense_level:0; chain_power_offset:<kernel> 0,<kernel> 0,<kernel> 0,<kernel> 0,<kernel> \n",
      "\n",
      "Mon Jul 23 09:00:33.305 <kernel> Setting BTCoex Config: enable_2G:1, profile_2g:0, enable_5G:1, profile_5G:0\n",
      "\n",
      "Mon Jul 23 09:00:33.854 <kernel> parseRSNIE: groupCipherType = 5 pairwiseCipherType = 5 authSel = 2\n",
      "\n",
      "Mon Jul 23 09:00:33.855 <kernel> initWithInterfaceAndIE: _myMacAddress 88:e9:fe:67:fe:a5\n",
      "\n",
      "Mon Jul 23 09:00:33.855 <kernel> setPMK: PMK SET!\n",
      "\n",
      "Mon Jul 23 09:00:34.072 <kernel> Unexpected payload found for message 9, dataLen 0\n",
      "\n",
      "Mon Jul 23 09:00:34.182 <kernel> en0: Received EAPOL packet (length = 113)\n",
      "\n",
      "Mon Jul 23 09:00:34.207 <kernel> inputEAPOLFrame: 0 extra bytes present in EAPOL frame.\n",
      "\n",
      "Mon Jul 23 09:00:34.207 <kernel> inputEAPOLFrame: Received message 1 of 4\n",
      "\n",
      "Mon Jul 23 09:00:34.207 <kernel> FULL RSN IE FOUND:\n",
      "\n",
      "Mon Jul 23 09:00:34.207 [00000000] 30 14 01 00 00 0F AC 04 01 00 00 0F AC 04 01 00 00 0F AC 02 00 00 \n",
      "\n",
      "Mon Jul 23 09:00:34.207 <kernel> storeFullRSNIE: getAP_IE_LIST returned 0\n",
      "\n",
      "Mon Jul 23 09:00:34.207 <kernel> PMK:\n",
      "\n",
      "Mon Jul 23 09:00:34.207 [00000000] A0 9A 3F CF C9 63 CE 0F FE 67 42 6F 86 DB 0F 95 F4 33 86 92 5A A4 A2 19 50 D7 3A 77 AD 74 \n",
      "\n",
      "Mon Jul 23 09:00:34.207 [0000001E] F6 61 \n",
      "\n",
      "Mon Jul 23 09:00:34.207 <kernel> TPTK:\n",
      "\n",
      "Mon Jul 23 09:00:34.207 [00000000] 0D 5C 77 E9 76 23 32 7B 3B 21 3A 4B C6 85 59 0E 72 D1 D3 CF 88 E0 00 30 A4 FE 56 83 46 83 \n",
      "\n",
      "Mon Jul 23 09:00:34.207 [0000001E] 1C DE 63 FC D1 CD E6 04 54 2B ED EA 2D 02 08 6D ED 28 00 00 00 00 00 00 00 00 00 00 00 00 \n",
      "\n",
      "Mon Jul 23 09:00:34.207 [0000003C] 00 00 00 00 \n",
      "\n",
      "Mon Jul 23 09:00:34.207 <kernel> KEY MIC:\n",
      "\n",
      "Mon Jul 23 09:00:34.207 [00000000] 2D 18 0A 1A 88 12 48 BB 08 CC 2E 20 69 1E 4E 2C \n",
      "\n",
      "Mon Jul 23 09:00:34.207 <kernel> process1of4: sending replyPacket 135 bytes\n",
      "\n",
      "Mon Jul 23 09:00:34.207 <kernel> en0: Received EAPOL packet (length = 169)\n",
      "\n",
      "Mon Jul 23 09:00:34.207 <kernel> inputEAPOLFrame: 0 extra bytes present in EAPOL frame.\n",
      "\n",
      "Mon Jul 23 09:00:34.207 <kernel> inputEAPOLFrame: decrypting key data\n",
      "\n",
      "Mon Jul 23 09:00:34.207 <kernel> inputEAPOLFrame: Received message 3 of 4\n",
      "\n",
      "Mon Jul 23 09:00:34.207 <kernel> process3of4: Performing IE check.\n",
      "\n",
      "Mon Jul 23 09:00:34.207 <kernel> process3of4: sending replyPacket ( len = 113 ).\n",
      "\n",
      "Mon Jul 23 09:00:34.207 <kernel> process3of4: received pairwise GTK\n",
      "\n",
      "Mon Jul 23 09:00:34.207 <kernel> ptkThread: Sleeping!\n",
      "\n",
      "Mon Jul 23 09:00:34.207 <kernel> ptkThread: Installing PTK!\n",
      "\n",
      "Mon Jul 23 09:00:34.207 <kernel> PTK:\n",
      "\n",
      "Mon Jul 23 09:00:34.207 [00000000] 63 FC D1 CD E6 04 54 2B ED EA 2D 02 08 6D ED 28 \n",
      "\n",
      "Mon Jul 23 09:00:34.207 <kernel> ptkThread: Installing GTK!\n",
      "\n",
      "Mon Jul 23 09:00:34.207 <kernel> installGTK: setting cipher key (flags = 0x0)\n",
      "\n",
      "Mon Jul 23 09:00:34.208 <kernel> GTK-RSC:\n",
      "\n",
      "Mon Jul 23 09:00:34.208 [00000000] 6A 0A 00 00 00 00 \n",
      "\n",
      "Mon Jul 23 09:00:34.208 <kernel> GTK:\n",
      "\n",
      "Mon Jul 23 09:00:34.208 [00000000] FA 7E EF 35 08 F2 3A 61 AC AB 79 E8 3D 28 23 44 \n",
      "\n",
      "Mon Jul 23 09:00:34.208 <kernel> installGTK: GTK installed\n",
      "\n",
      "Mon Jul 23 09:00:35.134 <kernel> Setting BTCoex Config: enable_2G:1, profile_2g:0, enable_5G:1, profile_5G:0\n",
      "\n",
      "Mon Jul 23 09:00:37.230 <airportd[113]> _processIPv4Changes: ARP/NDP offloads disabled, not programming the offload\n",
      "\n",
      "Mon Jul 23 09:00:37.245 <airportd[113]> _processIPv4Changes: ARP/NDP offloads disabled, not programming the offload\n",
      "\n",
      "Mon Jul 23 09:00:41.990 <airportd[113]> _processIPv4Changes: ARP/NDP offloads disabled, not programming the offload\n",
      "\n",
      "Mon Jul 23 09:00:57.947 <kernel> en0: roam event, sending supplicant link down message.\n",
      "\n",
      "Mon Jul 23 09:00:58.370 <kernel> IO80211AssociationJoinSnapshot::captureRequestCallback Problem reported from corecapture\n",
      "\n",
      "Mon Jul 23 10:45:12.550 <kernel> IO80211AssociationJoinSnapshot::captureRequestCallback Problem reported from corecapture\n",
      "\n",
      "Mon Jul 23 12:06:18.250 <kernel> Setting BTCoex Config: enable_2G:1, profile_2g:0, enable_5G:1, profile_5G:0\n",
      "\n",
      "Mon Jul 23 12:06:33.343 <kernel> wl0: setup_keepalive: interval 900, retry_interval 30, retry_count 10\n",
      "\n",
      "Mon Jul 23 12:06:33.343 <kernel> wl0: setup_keepalive: Local IP: 192.168.199.196\n",
      "\n",
      "Mon Jul 23 12:06:33.343 <kernel> wl0: setup_keepalive: Remote IP: 17.252.236.214\n",
      "\n",
      "Mon Jul 23 12:06:33.343 <kernel> wl0: setup_keepalive: Local port: 49152, Remote port: 5223\n",
      "\n",
      "Mon Jul 23 12:06:33.343 <kernel> wl0: setup_keepalive: Seq: 3120303685, Ack: 1319319488, Win size: 4096\n",
      "\n",
      "Mon Jul 23 12:06:33.343 <kernel> wl0: MDNS: IPV4 Addr: 192.168.199.196\n",
      "\n",
      "Mon Jul 23 12:06:33.343 <kernel> wl0: MDNS: IPV6 Addr: fe80:0:0:0:4e4:9cf:e804:fdae\n",
      "\n",
      "Mon Jul 23 12:06:33.343 <kernel> wl0: MDNS: 3 SRV Recs, 3 TXT Recs\n",
      "\n",
      "Mon Jul 23 12:06:33.343 <kernel> wl0: MDNS: 3 TCP ports:  548  445  49171 \n",
      "\n",
      "Mon Jul 23 12:07:57.209 <kernel> IO80211VirtualInterface::controllerWillChangePowerState : Bringing down link\n",
      "\n",
      "Mon Jul 23 12:07:57.270 <kernel> IO80211VirtualInterface::handleSIOCSIFFLAGS : Source controllerWillChangePowerState calling peerManager->disable\n",
      "\n",
      "Mon Jul 23 12:07:57.270 <kernel> wl0: wl_update_tcpkeep_seq: Original Seq: 3120303685, Ack: 1319319488, Win size: 4096\n",
      "\n",
      "Mon Jul 23 12:07:57.270 <kernel> wl0: wl_update_tcpkeep_seq: Updated seq/ack/win from UserClient Seq 3120303738, Ack 1319319557, Win size 293\n",
      "\n",
      "Mon Jul 23 12:07:57.270 <kernel> wl0: leaveModulePoweredForOffloads: Wi-Fi will stay on.\n",
      "\n",
      "Mon Jul 23 12:07:57.270 <kernel> AirPort_Brcm43xx::platformWoWEnable: WWEN[enable], in_fatal_err[0]\n",
      "\n",
      "Mon Jul 23 12:07:57.270 <kernel> AirPort_Brcm43xx::syncPowerState: WWEN[enabled]\n",
      "\n",
      "Mon Jul 23 12:07:57.712 <kernel> Setting BTCoex Config: enable_2G:1, profile_2g:0, enable_5G:1, profile_5G:0\n",
      "\n",
      "Mon Jul 23 12:07:57.879 <kernel> Setting BTCoex Config: enable_2G:1, profile_2g:0, enable_5G:1, profile_5G:0\n",
      "\n",
      "Mon Jul 23 12:07:58.467 <kernel> AirPort_Brcm43xx::platformWoWEnable: WWEN[disable], in_fatal_err[0]\n",
      "\n",
      "Mon Jul 23 12:08:00.554 <kernel> en0: Received EAPOL packet (length = 113)\n",
      "\n",
      "Mon Jul 23 12:08:00.554 <kernel> inputEAPOLFrame: 0 extra bytes present in EAPOL frame.\n",
      "\n",
      "Mon Jul 23 12:08:00.554 <kernel> inputEAPOLFrame: Received message 1 of 4\n",
      "\n",
      "Mon Jul 23 12:08:00.554 <kernel> FULL RSN IE FOUND:\n",
      "\n",
      "Mon Jul 23 12:08:00.554 [00000000] 30 14 01 00 00 0F AC 04 01 00 00 0F AC 04 01 00 00 0F AC 02 00 00 \n",
      "\n",
      "Mon Jul 23 12:08:00.554 <kernel> storeFullRSNIE: getAP_IE_LIST returned 0\n",
      "\n",
      "Mon Jul 23 12:08:00.554 <kernel> PMK:\n",
      "\n",
      "Mon Jul 23 12:08:00.555 [00000000] A0 9A 3F CF C9 63 CE 0F FE 67 42 6F 86 DB 0F 95 F4 33 86 92 5A A4 A2 19 50 D7 3A 77 AD 74 \n",
      "\n",
      "Mon Jul 23 12:08:00.555 [0000001E] F6 61 \n",
      "\n",
      "Mon Jul 23 12:08:00.555 <kernel> TPTK:\n",
      "\n",
      "Mon Jul 23 12:08:00.555 [00000000] DA FC 26 3F A6 FC 3E 27 1E A0 95 27 83 DD 45 BF 0A D3 3C 83 C5 D1 FF 24 74 E4 6E 93 49 67 \n",
      "\n",
      "Mon Jul 23 12:08:00.555 [0000001E] 2A 07 64 2A 85 14 A8 1B D4 BC A3 CF 46 11 2A 18 46 95 00 00 00 00 00 00 00 00 00 00 00 00 \n",
      "\n",
      "Mon Jul 23 12:08:00.555 [0000003C] 00 00 00 00 \n",
      "\n",
      "Mon Jul 23 12:08:00.555 <kernel> KEY MIC:\n",
      "\n",
      "Mon Jul 23 12:08:00.555 [00000000] 8B 64 11 71 16 92 19 FF D9 79 64 D1 6A BD A7 03 \n",
      "\n",
      "Mon Jul 23 12:08:00.555 <kernel> process1of4: sending replyPacket 135 bytes\n",
      "\n",
      "Mon Jul 23 12:08:00.562 <kernel> en0: Received EAPOL packet (length = 169)\n",
      "\n",
      "Mon Jul 23 12:08:00.562 <kernel> inputEAPOLFrame: 0 extra bytes present in EAPOL frame.\n",
      "\n",
      "Mon Jul 23 12:08:00.562 <kernel> inputEAPOLFrame: decrypting key data\n",
      "\n",
      "Mon Jul 23 12:08:00.562 <kernel> inputEAPOLFrame: Received message 3 of 4\n",
      "\n",
      "Mon Jul 23 12:08:00.562 <kernel> process3of4: Performing IE check.\n",
      "\n",
      "Mon Jul 23 12:08:00.562 <kernel> process3of4: sending replyPacket ( len = 113 ).\n",
      "\n",
      "Mon Jul 23 12:08:00.563 <kernel> process3of4: received pairwise GTK\n",
      "\n",
      "Mon Jul 23 12:08:00.563 <kernel> ptkThread: Sleeping!\n",
      "\n",
      "Mon Jul 23 12:08:00.563 <kernel> ptkThread: Installing PTK!\n",
      "\n",
      "Mon Jul 23 12:08:00.563 <kernel> PTK:\n",
      "\n",
      "Mon Jul 23 12:08:00.563 [00000000] 64 2A 85 14 A8 1B D4 BC A3 CF 46 11 2A 18 46 95 \n",
      "\n",
      "Mon Jul 23 12:08:00.564 <kernel> ptkThread: Installing GTK!\n",
      "\n",
      "Mon Jul 23 12:08:00.564 <kernel> installGTK: setting cipher key (flags = 0x0)\n",
      "\n",
      "Mon Jul 23 12:08:00.564 <kernel> GTK-RSC:\n",
      "\n",
      "Mon Jul 23 12:08:00.564 [00000000] 22 38 00 00 00 00 \n",
      "\n",
      "Mon Jul 23 12:08:00.564 <kernel> GTK:\n",
      "\n",
      "Mon Jul 23 12:08:00.564 [00000000] FA 7E EF 35 08 F2 3A 61 AC AB 79 E8 3D 28 23 44 \n",
      "\n",
      "Mon Jul 23 12:08:00.564 <kernel> installGTK: GTK installed\n",
      "\n",
      "Mon Jul 23 12:08:05.455 <kernel> wl0: setup_keepalive: interval 900, retry_interval 30, retry_count 10\n",
      "\n",
      "Mon Jul 23 12:08:05.455 <kernel> wl0: setup_keepalive: Local IP: 192.168.199.196\n",
      "\n",
      "Mon Jul 23 12:08:05.455 <kernel> wl0: setup_keepalive: Remote IP: 17.252.236.214\n",
      "\n",
      "Mon Jul 23 12:08:05.455 <kernel> wl0: setup_keepalive: Local port: 49152, Remote port: 5223\n",
      "\n",
      "Mon Jul 23 12:08:05.455 <kernel> wl0: setup_keepalive: Seq: 3120304051, Ack: 1319319716, Win size: 4096\n",
      "\n",
      "Mon Jul 23 12:08:05.455 <kernel> wl0: MDNS: IPV4 Addr: 192.168.199.196\n",
      "\n",
      "Mon Jul 23 12:08:05.455 <kernel> wl0: MDNS: IPV6 Addr: fe80:0:0:0:4e4:9cf:e804:fdae\n",
      "\n",
      "Mon Jul 23 12:08:05.455 <kernel> wl0: MDNS: 0 SRV Recs, 0 TXT Recs\n",
      "\n",
      "Mon Jul 23 12:08:05.455 <kernel> wl0: MDNS: 2 TCP ports:  548  445 \n",
      "\n",
      "Mon Jul 23 12:10:48.241 <kernel> IO80211VirtualInterface::controllerWillChangePowerState : Bringing down link\n",
      "\n",
      "Mon Jul 23 12:10:48.298 <kernel> IO80211VirtualInterface::handleSIOCSIFFLAGS : Source controllerWillChangePowerState calling peerManager->disable\n",
      "\n",
      "Mon Jul 23 12:10:48.298 <kernel> wl0: wl_update_tcpkeep_seq: Original Seq: 3120304051, Ack: 1319319716, Win size: 4096\n",
      "\n",
      "Mon Jul 23 12:10:48.298 <kernel> wl0: wl_update_tcpkeep_seq: Updated seq/ack/win from UserClient Seq 3120304051, Ack 1319319716, Win size 323\n",
      "\n",
      "Mon Jul 23 12:10:48.298 <kernel> wl0: leaveModulePoweredForOffloads: Wi-Fi will stay on.\n",
      "\n",
      "Mon Jul 23 12:10:48.298 <kernel> AirPort_Brcm43xx::platformWoWEnable: WWEN[enable], in_fatal_err[0]\n",
      "\n",
      "Mon Jul 23 12:10:48.298 <kernel> AirPort_Brcm43xx::syncPowerState: WWEN[enabled]\n",
      "\n",
      "Mon Jul 23 12:10:49.538 <kernel> AirPort_Brcm43xx::platformWoWEnable: WWEN[disable], in_fatal_err[0]\n",
      "\n",
      "Mon Jul 23 12:11:00.766 <kernel> en0: link down event, informing supplicant.\n",
      "\n",
      "Mon Jul 23 12:11:00.860 <kernel> AirPort_BrcmNIC::getSSIDData(): Get failure: APPLE80211_IOC_SSID: 6\n",
      "\n",
      "Mon Jul 23 12:11:02.967 <airportd[113]> _processIPv4Changes: ARP/NDP offloads disabled, not programming the offload\n",
      "\n",
      "Mon Jul 23 12:11:02.970 <airportd[113]> _processIPv4Changes: ARP/NDP offloads disabled, not programming the offload\n",
      "\n",
      "Mon Jul 23 12:11:03.760 <kernel> en0: Terminating supplicant.\n",
      "\n",
      "Mon Jul 23 12:11:03.760 <kernel> RSNSupplicant: Releasing authenticator for d0:ee:07:65:7d:20\n",
      "\n",
      "Mon Jul 23 13:01:00.249 <kernel> IO80211VirtualInterface::controllerWillChangePowerState : Bringing down link\n",
      "\n",
      "Mon Jul 23 13:01:00.250 <kernel> IO80211VirtualInterface::handleSIOCSIFFLAGS : Source controllerWillChangePowerState calling peerManager->disable\n",
      "\n",
      "Mon Jul 23 13:01:00.250 <kernel> wl0: leaveModulePoweredForOffloads: Wi-Fi will stay on.\n",
      "\n",
      "Mon Jul 23 13:01:00.250 <kernel> AirPort_Brcm43xx::platformWoWEnable: WWEN[enable], in_fatal_err[0]\n",
      "\n",
      "Mon Jul 23 13:01:00.250 <kernel> AirPort_Brcm43xx::syncPowerState: WWEN[enabled]\n",
      "\n",
      "Mon Jul 23 13:01:00.768 <kernel> Setting BTCoex Config: enable_2G:1, profile_2g:0, enable_5G:1, profile_5G:0\n",
      "\n",
      "Mon Jul 23 13:01:01.606 <kernel> AirPort_Brcm43xx::platformWoWEnable: WWEN[disable], in_fatal_err[0]\n",
      "\n",
      "Mon Jul 23 13:01:02.182 <kernel> Unexpected payload found for message 9, dataLen 0\n",
      "\n",
      "Mon Jul 23 13:01:06.605 <airportd[113]> _processIPv4Changes: ARP/NDP offloads disabled, not programming the offload\n",
      "\n",
      "Mon Jul 23 13:01:23.999 <airportd[113]> _processIPv4Changes: ARP/NDP offloads disabled, not programming the offload\n",
      "\n",
      "Mon Jul 23 13:01:30.267 <airportd[113]> _processIPv4Changes: ARP/NDP offloads disabled, not programming the offload\n",
      "\n",
      "Mon Jul 23 13:01:30.275 <airportd[113]> _processIPv4Changes: ARP/NDP offloads disabled, not programming the offload\n",
      "\n",
      "Mon Jul 23 13:01:33.441 <airportd[113]> _processIPv4Changes: ARP/NDP offloads disabled, not programming the offload\n",
      "\n",
      "Mon Jul 23 13:01:34.013 <airportd[113]> _processIPv4Changes: ARP/NDP offloads disabled, not programming the offload\n",
      "\n",
      "Mon Jul 23 15:03:11.093 <kernel> wl0: setup_keepalive: interval 900, retry_interval 30, retry_count 10\n",
      "\n",
      "Mon Jul 23 15:03:11.094 <kernel> wl0: setup_keepalive: Local IP: 172.18.2.26\n",
      "\n",
      "Mon Jul 23 15:03:11.094 <kernel> wl0: setup_keepalive: Remote IP: 17.252.157.18\n",
      "\n",
      "Mon Jul 23 15:03:11.094 <kernel> wl0: setup_keepalive: Local port: 51830, Remote port: 5223\n",
      "\n",
      "Mon Jul 23 15:03:11.094 <kernel> wl0: setup_keepalive: Seq: 97349437, Ack: 312466087, Win size: 4096\n",
      "\n",
      "Mon Jul 23 15:03:11.094 <kernel> wl0: MDNS: IPV4 Addr: 172.18.2.26\n",
      "\n",
      "Mon Jul 23 15:03:11.094 <kernel> wl0: MDNS: IPV6 Addr: fe80:0:0:0:4e4:9cf:e804:fdae\n",
      "\n",
      "Mon Jul 23 15:03:11.095 <kernel> wl0: MDNS: 0 SRV Recs, 0 TXT Recs\n",
      "\n",
      "Mon Jul 23 15:03:11.095 <kernel> wl0: MDNS: 3 TCP ports:  548  445  10000 \n",
      "\n",
      "Mon Jul 23 15:03:11.107 <kernel> AirPort_BrcmNIC::getSSIDData(): Get failure: APPLE80211_IOC_SSID: 6\n",
      "\n",
      "Mon Jul 23 15:03:24.328 <kernel> IO80211VirtualInterface::controllerWillChangePowerState : Bringing down link\n",
      "\n",
      "Mon Jul 23 15:03:24.328 <kernel> IO80211VirtualInterface::handleSIOCSIFFLAGS : Source controllerWillChangePowerState calling peerManager->disable\n",
      "\n",
      "Mon Jul 23 15:03:24.328 <kernel> wl0: wl_update_tcpkeep_seq: Original Seq: 97349437, Ack: 312466087, Win size: 4096\n",
      "\n",
      "Mon Jul 23 15:03:24.328 <kernel> wl0: wl_update_tcpkeep_seq: Updated seq/ack/win from UserClient Seq 97349506, Ack 312466087, Win size 293\n",
      "\n",
      "Mon Jul 23 15:03:24.328 <kernel> wl0: leaveModulePoweredForOffloads: Wi-Fi will stay on.\n",
      "\n",
      "Mon Jul 23 15:03:24.328 <kernel> AirPort_Brcm43xx::platformWoWEnable: WWEN[enable], in_fatal_err[0]\n",
      "\n",
      "Mon Jul 23 15:03:24.328 <kernel> AirPort_Brcm43xx::syncPowerState: WWEN[enabled]\n",
      "\n",
      "Mon Jul 23 15:03:25.675 <kernel> AirPort_Brcm43xx::platformWoWEnable: WWEN[disable], in_fatal_err[0]\n",
      "\n",
      "Mon Jul 23 15:03:25.733 <airportd[113]> _processIPv4Changes: ARP/NDP offloads disabled, not programming the offload\n",
      "\n",
      "Mon Jul 23 15:03:25.744 <airportd[113]> _processIPv4Changes: ARP/NDP offloads disabled, not programming the offload\n",
      "\n",
      "Mon Jul 23 15:03:29.634 <airportd[113]> _processIPv4Changes: ARP/NDP offloads disabled, not programming the offload\n",
      "\n",
      "Mon Jul 23 15:03:29.647 <airportd[113]> _processIPv4Changes: ARP/NDP offloads disabled, not programming the offload\n",
      "\n",
      "Mon Jul 23 15:03:29.659 <kernel> Unexpected payload found for message 9, dataLen 0\n",
      "\n",
      "Mon Jul 23 15:47:11.403 <kernel> IO80211AssociationJoinSnapshot::captureRequestCallback Problem reported from corecapture\n",
      "\n",
      "Mon Jul 23 16:40:47.069 <kernel> wl0: setup_keepalive: interval 900, retry_interval 30, retry_count 10\n",
      "\n",
      "Mon Jul 23 16:40:47.070 <kernel> wl0: setup_keepalive: Local IP: 172.18.2.26\n",
      "\n",
      "Mon Jul 23 16:40:47.070 <kernel> wl0: setup_keepalive: Remote IP: 17.252.236.19\n",
      "\n",
      "Mon Jul 23 16:40:47.070 <kernel> wl0: setup_keepalive: Local port: 53106, Remote port: 5223\n",
      "\n",
      "Mon Jul 23 16:40:47.070 <kernel> wl0: setup_keepalive: Seq: 2749212493, Ack: 1646276344, Win size: 4096\n",
      "\n",
      "Mon Jul 23 16:40:47.070 <kernel> wl0: MDNS: IPV4 Addr: 172.18.2.26\n",
      "\n",
      "Mon Jul 23 16:40:47.070 <kernel> wl0: MDNS: IPV6 Addr: fe80:0:0:0:4e4:9cf:e804:fdae\n",
      "\n",
      "Mon Jul 23 16:40:47.070 <kernel> wl0: MDNS: 0 SRV Recs, 0 TXT Recs\n",
      "\n",
      "Mon Jul 23 16:40:47.070 <kernel> wl0: MDNS: 3 TCP ports:  548  445  10000 \n",
      "\n",
      "Mon Jul 23 16:40:47.082 <kernel> AirPort_BrcmNIC::getSSIDData(): Get failure: APPLE80211_IOC_SSID: 6\n",
      "\n",
      "Mon Jul 23 16:50:22.471 <kernel> IO80211VirtualInterface::controllerWillChangePowerState : Bringing down link\n",
      "\n",
      "Mon Jul 23 16:50:22.549 <kernel> IO80211VirtualInterface::handleSIOCSIFFLAGS : Source controllerWillChangePowerState calling peerManager->disable\n",
      "\n",
      "Mon Jul 23 16:50:22.549 <kernel> wl0: wl_update_tcpkeep_seq: Original Seq: 2749212493, Ack: 1646276344, Win size: 4096\n",
      "\n",
      "Mon Jul 23 16:50:22.549 <kernel> wl0: wl_update_tcpkeep_seq: Updated seq/ack/win from UserClient Seq 2749212562, Ack 1646276344, Win size 293\n",
      "\n",
      "Mon Jul 23 16:50:22.549 <kernel> wl0: leaveModulePoweredForOffloads: Wi-Fi will stay on.\n",
      "\n",
      "Mon Jul 23 16:50:22.549 <kernel> AirPort_Brcm43xx::platformWoWEnable: WWEN[enable], in_fatal_err[0]\n",
      "\n",
      "Mon Jul 23 16:50:22.549 <kernel> AirPort_Brcm43xx::syncPowerState: WWEN[enabled]\n",
      "\n",
      "Mon Jul 23 16:50:23.821 <kernel> AirPort_Brcm43xx::platformWoWEnable: WWEN[disable], in_fatal_err[0]\n",
      "\n",
      "Mon Jul 23 16:50:23.876 <airportd[113]> _processIPv4Changes: ARP/NDP offloads disabled, not programming the offload\n",
      "\n",
      "Mon Jul 23 16:50:23.882 <airportd[113]> _processIPv4Changes: ARP/NDP offloads disabled, not programming the offload\n",
      "\n",
      "Mon Jul 23 16:50:27.733 <airportd[113]> _processIPv4Changes: ARP/NDP offloads disabled, not programming the offload\n",
      "\n",
      "Mon Jul 23 16:50:27.744 <airportd[113]> _processIPv4Changes: ARP/NDP offloads disabled, not programming the offload\n",
      "\n",
      "Mon Jul 23 16:50:27.794 <kernel> Unexpected payload found for message 9, dataLen 0\n",
      "\n"
     ]
    }
   ],
   "source": [
    "f.seek(0)\n",
    "for line in f:\n",
    "    print(line)"
   ]
  },
  {
   "cell_type": "markdown",
   "metadata": {},
   "source": [
    "**使用标准库中的itertools.islice，它能返回一个迭代对象切片的生成器**"
   ]
  },
  {
   "cell_type": "code",
   "execution_count": 28,
   "metadata": {},
   "outputs": [
    {
     "name": "stdout",
     "output_type": "stream",
     "text": [
      "Help on class islice in module itertools:\n",
      "\n",
      "class islice(builtins.object)\n",
      " |  islice(iterable, stop) --> islice object\n",
      " |  islice(iterable, start, stop[, step]) --> islice object\n",
      " |  \n",
      " |  Return an iterator whose next() method returns selected values from an\n",
      " |  iterable.  If start is specified, will skip all preceding elements;\n",
      " |  otherwise, start defaults to zero.  Step defaults to one.  If\n",
      " |  specified as another value, step determines how many values are \n",
      " |  skipped between successive calls.  Works like a slice() on a list\n",
      " |  but returns an iterator.\n",
      " |  \n",
      " |  Methods defined here:\n",
      " |  \n",
      " |  __getattribute__(self, name, /)\n",
      " |      Return getattr(self, name).\n",
      " |  \n",
      " |  __iter__(self, /)\n",
      " |      Implement iter(self).\n",
      " |  \n",
      " |  __new__(*args, **kwargs) from builtins.type\n",
      " |      Create and return a new object.  See help(type) for accurate signature.\n",
      " |  \n",
      " |  __next__(self, /)\n",
      " |      Implement next(self).\n",
      " |  \n",
      " |  __reduce__(...)\n",
      " |      Return state information for pickling.\n",
      " |  \n",
      " |  __setstate__(...)\n",
      " |      Set state information for unpickling.\n",
      "\n"
     ]
    }
   ],
   "source": [
    "from itertools import islice\n",
    "help(islice)"
   ]
  },
  {
   "cell_type": "code",
   "execution_count": 29,
   "metadata": {},
   "outputs": [
    {
     "data": {
      "text/plain": [
       "<itertools.islice at 0x1064fbc28>"
      ]
     },
     "execution_count": 29,
     "metadata": {},
     "output_type": "execute_result"
    }
   ],
   "source": [
    "islice(f, 50, 100)"
   ]
  },
  {
   "cell_type": "code",
   "execution_count": 32,
   "metadata": {},
   "outputs": [
    {
     "name": "stdout",
     "output_type": "stream",
     "text": [
      "Mon Jul 23 09:00:34.208 <kernel> GTK:\n",
      "\n",
      "Mon Jul 23 09:00:34.208 [00000000] FA 7E EF 35 08 F2 3A 61 AC AB 79 E8 3D 28 23 44 \n",
      "\n",
      "Mon Jul 23 09:00:34.208 <kernel> installGTK: GTK installed\n",
      "\n",
      "Mon Jul 23 09:00:35.134 <kernel> Setting BTCoex Config: enable_2G:1, profile_2g:0, enable_5G:1, profile_5G:0\n",
      "\n",
      "Mon Jul 23 09:00:37.230 <airportd[113]> _processIPv4Changes: ARP/NDP offloads disabled, not programming the offload\n",
      "\n",
      "Mon Jul 23 09:00:37.245 <airportd[113]> _processIPv4Changes: ARP/NDP offloads disabled, not programming the offload\n",
      "\n",
      "Mon Jul 23 09:00:41.990 <airportd[113]> _processIPv4Changes: ARP/NDP offloads disabled, not programming the offload\n",
      "\n",
      "Mon Jul 23 09:00:57.947 <kernel> en0: roam event, sending supplicant link down message.\n",
      "\n",
      "Mon Jul 23 09:00:58.370 <kernel> IO80211AssociationJoinSnapshot::captureRequestCallback Problem reported from corecapture\n",
      "\n",
      "Mon Jul 23 10:45:12.550 <kernel> IO80211AssociationJoinSnapshot::captureRequestCallback Problem reported from corecapture\n",
      "\n",
      "Mon Jul 23 12:06:18.250 <kernel> Setting BTCoex Config: enable_2G:1, profile_2g:0, enable_5G:1, profile_5G:0\n",
      "\n",
      "Mon Jul 23 12:06:33.343 <kernel> wl0: setup_keepalive: interval 900, retry_interval 30, retry_count 10\n",
      "\n",
      "Mon Jul 23 12:06:33.343 <kernel> wl0: setup_keepalive: Local IP: 192.168.199.196\n",
      "\n",
      "Mon Jul 23 12:06:33.343 <kernel> wl0: setup_keepalive: Remote IP: 17.252.236.214\n",
      "\n",
      "Mon Jul 23 12:06:33.343 <kernel> wl0: setup_keepalive: Local port: 49152, Remote port: 5223\n",
      "\n",
      "Mon Jul 23 12:06:33.343 <kernel> wl0: setup_keepalive: Seq: 3120303685, Ack: 1319319488, Win size: 4096\n",
      "\n",
      "Mon Jul 23 12:06:33.343 <kernel> wl0: MDNS: IPV4 Addr: 192.168.199.196\n",
      "\n",
      "Mon Jul 23 12:06:33.343 <kernel> wl0: MDNS: IPV6 Addr: fe80:0:0:0:4e4:9cf:e804:fdae\n",
      "\n",
      "Mon Jul 23 12:06:33.343 <kernel> wl0: MDNS: 3 SRV Recs, 3 TXT Recs\n",
      "\n",
      "Mon Jul 23 12:06:33.343 <kernel> wl0: MDNS: 3 TCP ports:  548  445  49171 \n",
      "\n",
      "Mon Jul 23 12:07:57.209 <kernel> IO80211VirtualInterface::controllerWillChangePowerState : Bringing down link\n",
      "\n",
      "Mon Jul 23 12:07:57.270 <kernel> IO80211VirtualInterface::handleSIOCSIFFLAGS : Source controllerWillChangePowerState calling peerManager->disable\n",
      "\n",
      "Mon Jul 23 12:07:57.270 <kernel> wl0: wl_update_tcpkeep_seq: Original Seq: 3120303685, Ack: 1319319488, Win size: 4096\n",
      "\n",
      "Mon Jul 23 12:07:57.270 <kernel> wl0: wl_update_tcpkeep_seq: Updated seq/ack/win from UserClient Seq 3120303738, Ack 1319319557, Win size 293\n",
      "\n",
      "Mon Jul 23 12:07:57.270 <kernel> wl0: leaveModulePoweredForOffloads: Wi-Fi will stay on.\n",
      "\n",
      "Mon Jul 23 12:07:57.270 <kernel> AirPort_Brcm43xx::platformWoWEnable: WWEN[enable], in_fatal_err[0]\n",
      "\n",
      "Mon Jul 23 12:07:57.270 <kernel> AirPort_Brcm43xx::syncPowerState: WWEN[enabled]\n",
      "\n",
      "Mon Jul 23 12:07:57.712 <kernel> Setting BTCoex Config: enable_2G:1, profile_2g:0, enable_5G:1, profile_5G:0\n",
      "\n",
      "Mon Jul 23 12:07:57.879 <kernel> Setting BTCoex Config: enable_2G:1, profile_2g:0, enable_5G:1, profile_5G:0\n",
      "\n",
      "Mon Jul 23 12:07:58.467 <kernel> AirPort_Brcm43xx::platformWoWEnable: WWEN[disable], in_fatal_err[0]\n",
      "\n",
      "Mon Jul 23 12:08:00.554 <kernel> en0: Received EAPOL packet (length = 113)\n",
      "\n",
      "Mon Jul 23 12:08:00.554 <kernel> inputEAPOLFrame: 0 extra bytes present in EAPOL frame.\n",
      "\n",
      "Mon Jul 23 12:08:00.554 <kernel> inputEAPOLFrame: Received message 1 of 4\n",
      "\n",
      "Mon Jul 23 12:08:00.554 <kernel> FULL RSN IE FOUND:\n",
      "\n",
      "Mon Jul 23 12:08:00.554 [00000000] 30 14 01 00 00 0F AC 04 01 00 00 0F AC 04 01 00 00 0F AC 02 00 00 \n",
      "\n",
      "Mon Jul 23 12:08:00.554 <kernel> storeFullRSNIE: getAP_IE_LIST returned 0\n",
      "\n",
      "Mon Jul 23 12:08:00.554 <kernel> PMK:\n",
      "\n",
      "Mon Jul 23 12:08:00.555 [00000000] A0 9A 3F CF C9 63 CE 0F FE 67 42 6F 86 DB 0F 95 F4 33 86 92 5A A4 A2 19 50 D7 3A 77 AD 74 \n",
      "\n",
      "Mon Jul 23 12:08:00.555 [0000001E] F6 61 \n",
      "\n",
      "Mon Jul 23 12:08:00.555 <kernel> TPTK:\n",
      "\n",
      "Mon Jul 23 12:08:00.555 [00000000] DA FC 26 3F A6 FC 3E 27 1E A0 95 27 83 DD 45 BF 0A D3 3C 83 C5 D1 FF 24 74 E4 6E 93 49 67 \n",
      "\n",
      "Mon Jul 23 12:08:00.555 [0000001E] 2A 07 64 2A 85 14 A8 1B D4 BC A3 CF 46 11 2A 18 46 95 00 00 00 00 00 00 00 00 00 00 00 00 \n",
      "\n",
      "Mon Jul 23 12:08:00.555 [0000003C] 00 00 00 00 \n",
      "\n",
      "Mon Jul 23 12:08:00.555 <kernel> KEY MIC:\n",
      "\n",
      "Mon Jul 23 12:08:00.555 [00000000] 8B 64 11 71 16 92 19 FF D9 79 64 D1 6A BD A7 03 \n",
      "\n",
      "Mon Jul 23 12:08:00.555 <kernel> process1of4: sending replyPacket 135 bytes\n",
      "\n",
      "Mon Jul 23 12:08:00.562 <kernel> en0: Received EAPOL packet (length = 169)\n",
      "\n",
      "Mon Jul 23 12:08:00.562 <kernel> inputEAPOLFrame: 0 extra bytes present in EAPOL frame.\n",
      "\n",
      "Mon Jul 23 12:08:00.562 <kernel> inputEAPOLFrame: decrypting key data\n",
      "\n",
      "Mon Jul 23 12:08:00.562 <kernel> inputEAPOLFrame: Received message 3 of 4\n",
      "\n"
     ]
    }
   ],
   "source": [
    "f.seek(0)\n",
    "for line in islice(f, 50, 100):\n",
    "    print(line)"
   ]
  },
  {
   "cell_type": "code",
   "execution_count": 33,
   "metadata": {},
   "outputs": [
    {
     "data": {
      "text/plain": [
       "<itertools.islice at 0x1064fbbd8>"
      ]
     },
     "execution_count": 33,
     "metadata": {},
     "output_type": "execute_result"
    }
   ],
   "source": [
    "islice(f, 500) #前500行"
   ]
  },
  {
   "cell_type": "code",
   "execution_count": 35,
   "metadata": {},
   "outputs": [
    {
     "data": {
      "text/plain": [
       "<itertools.islice at 0x1064fbd18>"
      ]
     },
     "execution_count": 35,
     "metadata": {},
     "output_type": "execute_result"
    }
   ],
   "source": [
    "islice(f, 100, None) #100行到文末"
   ]
  },
  {
   "cell_type": "code",
   "execution_count": 36,
   "metadata": {},
   "outputs": [
    {
     "ename": "ValueError",
     "evalue": "Indices for islice() must be None or an integer: 0 <= x <= sys.maxsize.",
     "output_type": "error",
     "traceback": [
      "\u001b[0;31m---------------------------------------------------------------------------\u001b[0m",
      "\u001b[0;31mValueError\u001b[0m                                Traceback (most recent call last)",
      "\u001b[0;32m<ipython-input-36-e00a1d65317c>\u001b[0m in \u001b[0;36m<module>\u001b[0;34m()\u001b[0m\n\u001b[0;32m----> 1\u001b[0;31m \u001b[0mislice\u001b[0m\u001b[0;34m(\u001b[0m\u001b[0mf\u001b[0m\u001b[0;34m,\u001b[0m \u001b[0;36m100\u001b[0m\u001b[0;34m,\u001b[0m \u001b[0;34m-\u001b[0m\u001b[0;36m100\u001b[0m\u001b[0;34m)\u001b[0m\u001b[0;34m\u001b[0m\u001b[0m\n\u001b[0m",
      "\u001b[0;31mValueError\u001b[0m: Indices for islice() must be None or an integer: 0 <= x <= sys.maxsize."
     ]
    }
   ],
   "source": [
    "islice(f, 100, -100)"
   ]
  },
  {
   "cell_type": "markdown",
   "metadata": {},
   "source": [
    "**islice会消耗迭代器，具有修改迭代器的行为，用例子理解**"
   ]
  },
  {
   "cell_type": "code",
   "execution_count": 41,
   "metadata": {},
   "outputs": [
    {
     "data": {
      "text/plain": [
       "range(0, 20)"
      ]
     },
     "execution_count": 41,
     "metadata": {},
     "output_type": "execute_result"
    }
   ],
   "source": [
    "l = range(20)\n",
    "l"
   ]
  },
  {
   "cell_type": "code",
   "execution_count": 42,
   "metadata": {},
   "outputs": [],
   "source": [
    "t = iter(l)"
   ]
  },
  {
   "cell_type": "code",
   "execution_count": 43,
   "metadata": {},
   "outputs": [
    {
     "name": "stdout",
     "output_type": "stream",
     "text": [
      "5\n",
      "6\n",
      "7\n",
      "8\n",
      "9\n"
     ]
    }
   ],
   "source": [
    "for x in islice(t, 5, 10): #t从0开始迭代，直到碰到5，抛弃前面的值\n",
    "    print(x)"
   ]
  },
  {
   "cell_type": "code",
   "execution_count": 44,
   "metadata": {},
   "outputs": [
    {
     "name": "stdout",
     "output_type": "stream",
     "text": [
      "10\n",
      "11\n",
      "12\n",
      "13\n",
      "14\n",
      "15\n",
      "16\n",
      "17\n",
      "18\n",
      "19\n"
     ]
    }
   ],
   "source": [
    "for x in t: #t已经被修改了\n",
    "    print(x)"
   ]
  },
  {
   "cell_type": "markdown",
   "metadata": {},
   "source": [
    "所以，要重复使用islice对象，需重新生成迭代对象"
   ]
  },
  {
   "cell_type": "markdown",
   "metadata": {},
   "source": [
    "## <span id='12'>12 如何在一个for语句中迭代多个可迭代对象？</span>\n",
    "- 并行：使用内置函数zip，它能将多个可迭代对象合并，每次迭代返回一个元组\n",
    "- 串行：使用标准库中的itertools.chain, 它能将多个可迭代对象连接"
   ]
  },
  {
   "cell_type": "markdown",
   "metadata": {},
   "source": [
    "#### 并行问题：某班学生期末考试成绩，语数英分别存储中3个列表中，同时迭代三个列表，计算总分"
   ]
  },
  {
   "cell_type": "code",
   "execution_count": 48,
   "metadata": {},
   "outputs": [],
   "source": [
    "# 传统方法\n",
    "from random import randint\n",
    "\n",
    "chinese = [randint(60, 100) for _ in range(20)]\n",
    "math = [randint(60, 100) for _ in range(20)]\n",
    "english = [randint(60, 100) for _ in range(20)]\n",
    "\n",
    "for i in range(len(math)):\n",
    "    chinese[i] + math[i] + english[i]"
   ]
  },
  {
   "cell_type": "markdown",
   "metadata": {},
   "source": [
    "以上方法是可行的，但是有一定的局限性，因为不是所有的可迭代对象都支持这种索引操作。比如生成器。"
   ]
  },
  {
   "cell_type": "code",
   "execution_count": 52,
   "metadata": {},
   "outputs": [
    {
     "data": {
      "text/plain": [
       "<zip at 0x1064e6308>"
      ]
     },
     "execution_count": 52,
     "metadata": {},
     "output_type": "execute_result"
    }
   ],
   "source": [
    "zip([1,2,3,4], ('a', 'b', 'c', 'd'))"
   ]
  },
  {
   "cell_type": "code",
   "execution_count": 53,
   "metadata": {},
   "outputs": [
    {
     "data": {
      "text/plain": [
       "[(1, 'a'), (2, 'b'), (3, 'c'), (4, 'd')]"
      ]
     },
     "execution_count": 53,
     "metadata": {},
     "output_type": "execute_result"
    }
   ],
   "source": [
    "list(zip([1,2,3,4], ('a', 'b', 'c', 'd')))"
   ]
  },
  {
   "cell_type": "code",
   "execution_count": 55,
   "metadata": {},
   "outputs": [
    {
     "data": {
      "text/plain": [
       "[(1, 'a'), (2, 'b'), (3, 'c')]"
      ]
     },
     "execution_count": 55,
     "metadata": {},
     "output_type": "execute_result"
    }
   ],
   "source": [
    "list(zip([1,2,3,4], ('a', 'b', 'c'))) #元素个数不一致也可以"
   ]
  },
  {
   "cell_type": "code",
   "execution_count": 56,
   "metadata": {},
   "outputs": [
    {
     "data": {
      "text/plain": [
       "[246,\n",
       " 221,\n",
       " 226,\n",
       " 282,\n",
       " 218,\n",
       " 243,\n",
       " 223,\n",
       " 250,\n",
       " 214,\n",
       " 209,\n",
       " 214,\n",
       " 219,\n",
       " 244,\n",
       " 230,\n",
       " 204,\n",
       " 246,\n",
       " 219,\n",
       " 230,\n",
       " 204,\n",
       " 249]"
      ]
     },
     "execution_count": 56,
     "metadata": {},
     "output_type": "execute_result"
    }
   ],
   "source": [
    "total = []\n",
    "\n",
    "for c, m, e in zip(chinese, math, english):\n",
    "    total.append(c + m + e)\n",
    "total"
   ]
  },
  {
   "cell_type": "markdown",
   "metadata": {},
   "source": [
    "#### 串行问题：某年级4个班，某次考试每班英语成绩分布存储中4个列表中，依次迭代每个列表，统计全年级成绩高于90分的人数。"
   ]
  },
  {
   "cell_type": "code",
   "execution_count": 61,
   "metadata": {},
   "outputs": [
    {
     "name": "stdout",
     "output_type": "stream",
     "text": [
      "Help on class chain in module itertools:\n",
      "\n",
      "class chain(builtins.object)\n",
      " |  chain(*iterables) --> chain object\n",
      " |  \n",
      " |  Return a chain object whose .__next__() method returns elements from the\n",
      " |  first iterable until it is exhausted, then elements from the next\n",
      " |  iterable, until all of the iterables are exhausted.\n",
      " |  \n",
      " |  Methods defined here:\n",
      " |  \n",
      " |  __getattribute__(self, name, /)\n",
      " |      Return getattr(self, name).\n",
      " |  \n",
      " |  __iter__(self, /)\n",
      " |      Implement iter(self).\n",
      " |  \n",
      " |  __new__(*args, **kwargs) from builtins.type\n",
      " |      Create and return a new object.  See help(type) for accurate signature.\n",
      " |  \n",
      " |  __next__(self, /)\n",
      " |      Implement next(self).\n",
      " |  \n",
      " |  __reduce__(...)\n",
      " |      Return state information for pickling.\n",
      " |  \n",
      " |  __setstate__(...)\n",
      " |      Set state information for unpickling.\n",
      " |  \n",
      " |  from_iterable(...) from builtins.type\n",
      " |      chain.from_iterable(iterable) --> chain object\n",
      " |      \n",
      " |      Alternate chain() constructor taking a single iterable argument\n",
      " |      that evaluates lazily.\n",
      "\n"
     ]
    }
   ],
   "source": [
    "from itertools import chain\n",
    "\n",
    "help(chain)"
   ]
  },
  {
   "cell_type": "code",
   "execution_count": 62,
   "metadata": {},
   "outputs": [
    {
     "name": "stdout",
     "output_type": "stream",
     "text": [
      "1\n",
      "2\n",
      "3\n",
      "a\n",
      "b\n",
      "c\n"
     ]
    }
   ],
   "source": [
    "for x in chain([1, 2, 3], ['a', 'b', 'c']):\n",
    "    print(x)"
   ]
  },
  {
   "cell_type": "code",
   "execution_count": 63,
   "metadata": {},
   "outputs": [
    {
     "data": {
      "text/plain": [
       "25"
      ]
     },
     "execution_count": 63,
     "metadata": {},
     "output_type": "execute_result"
    }
   ],
   "source": [
    "e1 = [randint(60, 100) for _ in range(19)]\n",
    "e2 = [randint(60, 100) for _ in range(21)]\n",
    "e3 = [randint(60, 100) for _ in range(22)]\n",
    "e4 = [randint(60, 100) for _ in range(18)]\n",
    "\n",
    "count = 0\n",
    "for i in chain(e1, e2, e3, e4):\n",
    "    if i >= 90:\n",
    "        count += 1\n",
    "count"
   ]
  },
  {
   "cell_type": "markdown",
   "metadata": {},
   "source": [
    "也可以用+号直接连接列表，使用上更方便，缺点是生成了新列表，占用空间"
   ]
  },
  {
   "cell_type": "code",
   "execution_count": 67,
   "metadata": {},
   "outputs": [
    {
     "data": {
      "text/plain": [
       "[99,\n",
       " 96,\n",
       " 92,\n",
       " 97,\n",
       " 90,\n",
       " 97,\n",
       " 92,\n",
       " 96,\n",
       " 90,\n",
       " 97,\n",
       " 100,\n",
       " 95,\n",
       " 95,\n",
       " 90,\n",
       " 95,\n",
       " 95,\n",
       " 99,\n",
       " 97,\n",
       " 97,\n",
       " 94,\n",
       " 90,\n",
       " 93,\n",
       " 98,\n",
       " 100,\n",
       " 99]"
      ]
     },
     "execution_count": 67,
     "metadata": {},
     "output_type": "execute_result"
    }
   ],
   "source": [
    "e = e1 + e2 + e3 + e4\n",
    "[i for i in e if i >= 90]"
   ]
  },
  {
   "cell_type": "code",
   "execution_count": 68,
   "metadata": {},
   "outputs": [
    {
     "data": {
      "text/plain": [
       "25"
      ]
     },
     "execution_count": 68,
     "metadata": {},
     "output_type": "execute_result"
    }
   ],
   "source": [
    "len([i for i in e if i >= 90])"
   ]
  },
  {
   "cell_type": "code",
   "execution_count": 69,
   "metadata": {},
   "outputs": [],
   "source": [
    "zip?"
   ]
  },
  {
   "cell_type": "markdown",
   "metadata": {},
   "source": [
    "## <span id='13'>13 如何拆分含有多种分隔符的字符串？</span>"
   ]
  },
  {
   "cell_type": "code",
   "execution_count": 70,
   "metadata": {},
   "outputs": [
    {
     "name": "stdout",
     "output_type": "stream",
     "text": [
      "USER               PID  %CPU %MEM      VSZ    RSS   TT  STAT STARTED      TIME COMMAND\r\n",
      "thunderbang        652   4.9  7.6 107350300 635360   ??  Ss   10:14AM  25:09.89 /System/Library/\r\n",
      "_hidd               94   1.8  0.1  4334312  11916   ??  Ss    9:00AM  10:31.24 /usr/libexec/hid\r\n",
      "thunderbang        499   1.1  2.4  6400444 200528   ??  S     9:00AM  20:23.74 /Applications/Sa\r\n",
      "thunderbang        824   1.1  3.6 123546184 305548   ??  Rs    1:02PM  16:00.24 /System/Library/\r\n",
      "_windowserver      151   0.7  1.7  6840796 145620   ??  Ss    9:00AM  32:31.08 /System/Library/\r\n",
      "root                97   0.1  0.0  4305216   2120   ??  Ss    9:00AM   0:15.46 /usr/sbin/notify\r\n",
      "root                56   0.1  0.3  4383536  23360   ??  Ss    9:00AM   0:11.66 /usr/libexec/log\r\n",
      "root                53   0.1  0.1  4331180   9312   ??  Ss    9:00AM   0:25.54 /System/Library/\r\n",
      "thunderbang       1056   0.0  0.3  4338280  24244   ??  S     5:46PM   0:00.22 /System/Library/\r\n",
      "thunderbang       1055   0.0  0.3  4338280  24076   ??  S     5:46PM   0:00.25 /System/Library/\r\n",
      "thunderbang       1054   0.0  0.2  4343232  14064   ??  S     5:46PM   0:00.18 /System/Library/\r\n",
      "thunderbang       1053   0.0  0.3  4338280  24016   ??  S     5:46PM   0:00.16 /System/Library/\r\n",
      "thunderbang       1052   0.0  0.3  4338280  24056   ??  S     5:46PM   0:00.23 /System/Library/\r\n",
      "thunderbang       1051   0.0  0.3  4338280  24196   ??  S     5:46PM   0:00.26 /System/Library/\r\n",
      "_netbios           991   0.0  0.2  4332980  13220   ??  SNs   4:50PM   0:00.32 /usr/sbin/netbio\r\n",
      "thunderbang        990   0.0  0.4  4348120  30940   ??  S     4:50PM   0:00.39 /System/Library/\r\n",
      "thunderbang        976   0.0  0.5   148708  44028   ??  Ss    4:25PM   0:02.25 /Library/Framewo\r\n",
      "thunderbang        938   0.0  2.4 106688020 202252   ??  Ss    3:14PM   0:10.02 /System/Library/\r\n",
      "thunderbang        934   0.0  1.0  4681532  86984   ??  S     3:04PM   0:16.00 /Applications/Pr\r\n",
      "thunderbang        931   0.0  0.5  5441332  38760   ??  Ss    3:03PM   0:01.20 /System/Library/\r\n",
      "thunderbang        908   0.0  2.8  4833448 231836   ??  S     2:59PM   1:14.89 /Applications/Ba\r\n",
      "thunderbang        905   0.0  0.5 122835188  42452   ??  Ss    2:58PM   0:00.79 /System/Library/\r\n",
      "thunderbang        894   0.0  0.5   126132  38552 s001  S+    2:54PM   0:02.02 /Library/Framewo\r\n",
      "thunderbang        888   0.0  0.0  4296240   1664 s001  S     2:54PM   0:00.01 -bash\r\n",
      "root               887   0.0  0.1  4304432   6040 s001  Ss    2:54PM   0:00.03 login -pf thunde\r\n",
      "thunderbang        881   0.0  0.5  5703340  45628   ??  Ss    2:31PM   0:03.78 /System/Library/\r\n",
      "thunderbang        842   0.0  1.8 106585440 149344   ??  Ss    1:15PM   0:12.57 /System/Library/\r\n",
      "root               835   0.0  0.1  4337232   9820   ??  Ss    1:04PM   0:00.05 /System/Library/\r\n",
      "thunderbang        834   0.0  0.2  4344400  17036   ??  Ss    1:04PM   0:00.14 /System/Library/\r\n",
      "thunderbang        828   0.0  0.6   305888  53144   ??  Ss    1:02PM   0:04.52 /Library/Framewo\r\n",
      "thunderbang        825   0.0  0.1  4331728   9344   ??  Ss    1:02PM   0:00.03 /System/Library/\r\n",
      "thunderbang        819   0.0  0.6   260884  53544 s000  S+    1:02PM   0:20.09 /Library/Framewo\r\n",
      "thunderbang        813   0.0  0.0  4296240    896 s000  S     1:02PM   0:00.01 -bash\r\n",
      "root               812   0.0  0.1  4304432   4336 s000  Ss    1:02PM   0:00.02 login -pf thunde\r\n",
      "thunderbang        811   0.0  0.9  4558540  76724   ??  S     1:02PM   0:11.28 /Applications/Ut\r\n",
      "thunderbang        779   0.0  0.1  4304572   9244   ??  S     1:01PM   0:00.04 /System/Library/\r\n",
      "thunderbang        763   0.0  0.2  4358820  14624   ??  S    12:07PM   0:01.05 /System/Library/\r\n",
      "thunderbang        757   0.0  0.1  4334872  10700   ??  Ss   12:02PM   0:00.10 /System/Library/\r\n",
      "root               756   0.0  0.1  4304456   9920   ??  Ss   12:02PM   0:00.04 /System/Library/\r\n",
      "thunderbang        672   0.0  0.1  4305084   5844   ??  S    10:29AM   0:00.02 /System/Library/\r\n",
      "thunderbang        653   0.0  0.1  4304704   7720   ??  Ss   10:14AM   0:00.01 /System/Library/\r\n",
      "thunderbang        639   0.0  2.4 106596672 204896   ??  Ss   10:10AM   3:53.35 /System/Library/\r\n",
      "thunderbang        625   0.0  0.1  4331104   5532   ??  S    10:05AM   0:00.12 /System/Library/\r\n",
      "root               622   0.0  0.1  4295696   4616   ??  Ss   10:05AM   0:00.03 /usr/libexec/tas\r\n",
      "thunderbang        600   0.0  0.1  4338256  10332   ??  Ss    9:54AM   0:00.06 /System/Library/\r\n",
      "thunderbang        593   0.0  2.1 106972912 175864   ??  Ss    9:49AM   0:44.98 /System/Library/\r\n",
      "thunderbang        589   0.0  2.2 107039472 184676   ??  Ss    9:47AM   0:37.47 /System/Library/\r\n",
      "thunderbang        587   0.0  0.1  4304704   7572   ??  Ss    9:45AM   0:00.01 /System/Library/\r\n",
      "thunderbang        586   0.0  3.2 107199376 269916   ??  Ss    9:45AM   2:05.12 /System/Library/\r\n",
      "thunderbang        582   0.0  0.1  4304704   7572   ??  Ss    9:34AM   0:00.01 /System/Library/\r\n",
      "thunderbang        581   0.0  0.5  5701908  39844   ??  Ss    9:34AM   0:07.68 /System/Library/\r\n",
      "thunderbang        580   0.0  3.1 123907612 261072   ??  Ss    9:34AM   1:29.81 /System/Library/\r\n",
      "thunderbang        563   0.0  0.1  4296512   7844   ??  Ss    9:22AM   0:00.01 /System/Library/\r\n",
      "thunderbang        561   0.0  3.2 123888980 271292   ??  Ss    9:21AM   0:52.46 /System/Library/\r\n",
      "thunderbang        557   0.0  0.3  4375060  27436   ??  Ss    9:21AM   0:01.34 /System/Library/\r\n",
      "thunderbang        553   0.0  0.2  4359736  14580   ??  S     9:11AM   0:01.67 /System/Library/\r\n",
      "thunderbang        549   0.0  0.1  4304924   4732   ??  S     9:06AM   0:00.07 /System/Library/\r\n",
      "thunderbang        547   0.0  0.1  4296772   7576   ??  Ss    9:04AM   0:00.03 /System/Library/\r\n",
      "thunderbang        546   0.0  0.1  4332580   6296   ??  S     9:04AM   0:00.19 /System/Library/\r\n",
      "thunderbang        536   0.0  0.4  5682188  36028   ??  Ss    9:03AM   0:03.35 /System/Library/\r\n",
      "thunderbang        535   0.0  0.3  5390696  25192   ??  Ss    9:01AM   0:07.13 /System/Library/\r\n",
      "_spotlight         533   0.0  0.0  4305588   1308   ??  S     9:01AM   0:00.05 /usr/sbin/distno\r\n",
      "_spotlight         532   0.0  0.1  4340608  10028   ??  S     9:01AM   0:00.13 /System/Library/\r\n",
      "_spotlight         529   0.0  0.1  4334316   5696   ??  S     9:01AM   0:00.09 /usr/libexec/tru\r\n",
      "thunderbang        526   0.0  0.2  4381592  17004   ??  S     9:01AM   0:00.34 /System/Library/\r\n",
      "thunderbang        525   0.0  0.2  4377300  13392   ??  S     9:01AM   0:01.14 /System/Library/\r\n",
      "thunderbang        524   0.0  0.1  4307992   8564   ??  S     9:01AM   0:00.03 /System/Library/\r\n",
      "thunderbang        522   0.0  0.3  4304476  21260   ??  S     9:01AM   0:00.05 /System/Library/\r\n",
      "root               521   0.0  0.1  4336428   5900   ??  Ss    9:01AM   0:00.07 /usr/libexec/dpr\r\n",
      "thunderbang        518   0.0  0.1  5392608  11312   ??  Ss    9:00AM   0:01.22 /System/Library/\r\n",
      "thunderbang        517   0.0  0.1  4379224  10440   ??  S     9:00AM   0:02.03 /System/Library/\r\n",
      "thunderbang        515   0.0  0.3  4332044  22124   ??  Ss    9:00AM   0:00.11 /System/Library/\r\n",
      "thunderbang        513   0.0  0.1  4371376   6572   ??  S     9:00AM   0:01.04 /System/Library/\r\n",
      "thunderbang        509   0.0  1.0  5507864  87780   ??  Ss    9:00AM   2:44.92 /System/Library/\r\n",
      "thunderbang        507   0.0  0.2  4331200  17896   ??  Ss    9:00AM   0:00.05 /System/Library/\r\n",
      "thunderbang        506   0.0  0.1  4305732   6200   ??  S     9:00AM   0:00.13 /System/Library/\r\n",
      "thunderbang        505   0.0  0.2  4358448  19228   ??  Ss    9:00AM   0:00.16 /System/Library/\r\n",
      "thunderbang        500   0.0  0.4  4353136  35792   ??  S     9:00AM   0:04.30 /System/Library/\r\n",
      "root               496   0.0  0.1  4373152   6228   ??  Ss    9:00AM   0:01.02 /usr/libexec/rtc\r\n",
      "thunderbang        495   0.0  0.2  4340672  17100   ??  S     9:00AM   0:01.43 /System/Library/\r\n",
      "thunderbang        494   0.0  0.2  4367876  15224   ??  S     9:00AM   0:01.28 /System/Library/\r\n",
      "root               488   0.0  0.1  4332404   5844   ??  Ss    9:00AM   0:00.04 /usr/bin/sysdiag\r\n",
      "_assetcache        486   0.0  0.1  4336156   9656   ??  Ss    9:00AM   0:00.13 /usr/libexec/Ass\r\n",
      "thunderbang        485   0.0  0.2  4332388  12976   ??  S     9:00AM   0:00.10 /System/Library/\r\n",
      "thunderbang        482   0.0  0.1  4305640   9060   ??  S     9:00AM   0:00.05 /System/Library/\r\n",
      "root               481   0.0  0.1  4331088  11192   ??  Ss    9:00AM   0:00.11 /usr/libexec/dmd\r\n",
      "thunderbang        480   0.0  0.2  4357944  18596   ??  Ss    9:00AM   0:00.27 /System/Library/\r\n",
      "thunderbang        478   0.0  0.1  4332980   9812   ??  Ss    9:00AM   0:00.15 /Library/Framewo\r\n",
      "thunderbang        477   0.0  0.1  4305596   4968   ??  S     9:00AM   0:00.03 /usr/libexec/spi\r\n",
      "thunderbang        475   0.0  0.2  4411136  14304   ??  Ss    9:00AM   0:00.12 /System/Library/\r\n",
      "thunderbang        471   0.0  0.2  4304448  15880   ??  S     9:00AM   0:01.25 /System/Library/\r\n",
      "root               470   0.0  0.1  4332068   9624   ??  Ss    9:00AM   0:02.03 /System/Library/\r\n",
      "thunderbang        469   0.0  0.2  4337688  17804   ??  S     9:00AM   0:00.36 /System/Library/\r\n",
      "thunderbang        467   0.0  0.1  4331276   8668   ??  S     9:00AM   0:00.04 /System/Library/\r\n",
      "thunderbang        466   0.0  0.1  4300992   7256   ??  S     9:00AM   0:00.02 SafeEjectGPUAgen\r\n",
      "thunderbang        465   0.0  0.2  4370600  14444   ??  S     9:00AM   0:00.84 /System/Library/\r\n",
      "thunderbang        464   0.0  0.1  4330808   9120   ??  S     9:00AM   0:00.05 /System/Library/\r\n",
      "thunderbang        462   0.0  0.3  4372328  28776   ??  S     9:00AM   0:01.63 /System/Library/\r\n",
      "thunderbang        461   0.0  0.1  4344912   9056   ??  S     9:00AM   0:00.63 /usr/libexec/sil\r\n",
      "thunderbang        460   0.0  0.1  4333652   6224   ??  S     9:00AM   0:00.18 /System/Library/\r\n",
      "thunderbang        459   0.0  0.6  4606312  48344   ??  S     9:00AM   0:03.82 /System/Library/\r\n",
      "thunderbang        458   0.0  0.1  4304936   4880   ??  S     9:00AM   0:00.02 /System/Library/\r\n",
      "thunderbang        457   0.0  0.2  4337916  12708   ??  S     9:00AM   0:01.37 /System/Library/\r\n",
      "root               456   0.0  0.1  4304388   4896   ??  Ss    9:00AM   0:00.02 /System/Library/\r\n",
      "thunderbang        455   0.0  0.1  4332656   8948   ??  S     9:00AM   0:00.07 /usr/libexec/net\r\n",
      "root               454   0.0  0.1  4304704   7568   ??  Ss    9:00AM   0:00.01 /System/Library/\r\n",
      "thunderbang        452   0.0  0.1  4330772   9536   ??  S     9:00AM   0:00.03 /System/Library/\r\n",
      "root               451   0.0  0.3  4412844  24388   ??  Ss    9:00AM   0:00.36 /System/Library/\r\n",
      "thunderbang        448   0.0  0.2  4367260  14136   ??  S     9:00AM   0:02.46 /System/Library/\r\n",
      "root               447   0.0  0.1  4332204   7532   ??  Ss    9:00AM   0:00.24 /usr/libexec/amf\r\n",
      "thunderbang        445   0.0  0.2  4331688  14628   ??  S     9:00AM   0:00.35 /System/Library/\r\n",
      "thunderbang        444   0.0  0.2  4381064  17704   ??  S     9:00AM   0:02.71 /System/Library/\r\n",
      "thunderbang        443   0.0  0.2  4331988  17472   ??  S     9:00AM   0:00.22 /System/Library/\r\n",
      "thunderbang        442   0.0  0.2  4335444  12728   ??  S     9:00AM   0:01.65 /System/Library/\r\n",
      "thunderbang        440   0.0  0.1  4333036  12048   ??  S     9:00AM   0:00.13 /System/Library/\r\n",
      "thunderbang        439   0.0  0.2  4340768  20820   ??  S     9:00AM   0:09.50 /System/Library/\r\n",
      "thunderbang        438   0.0  0.1  4331148  11960   ??  S     9:00AM   0:00.12 /usr/libexec/dmd\r\n",
      "thunderbang        434   0.0  0.2  4370252  13628   ??  S     9:00AM   0:01.08 /usr/sbin/ckkeyr\r\n",
      "thunderbang        433   0.0  0.4  4342788  30768   ??  S     9:00AM   0:01.87 /usr/libexec/rou\r\n",
      "thunderbang        432   0.0  0.1  4305324   9152   ??  S     9:00AM   0:00.08 /System/Library/\r\n",
      "thunderbang        430   0.0  0.1  4304968   4764   ??  S     9:00AM   0:00.27 /System/Library/\r\n",
      "thunderbang        428   0.0  0.1  4333628  10084   ??  Ss    9:00AM   0:00.09 /System/Library/\r\n",
      "thunderbang        427   0.0  0.2  5397296  19524   ??  Ss    9:00AM   0:02.50 /System/Library/\r\n",
      "thunderbang        426   0.0  1.5  5830000 129432   ??  Ss    9:00AM   2:49.69 /System/Library/\r\n",
      "thunderbang        425   0.0  0.1  4333576  10584   ??  S     9:00AM   0:00.96 /System/Library/\r\n",
      "thunderbang        422   0.0  0.1  4330812   8552   ??  S     9:00AM   0:00.03 /System/Library/\r\n",
      "thunderbang        421   0.0  0.2  4353224  12768   ??  S     9:00AM   0:01.48 /System/Library/\r\n",
      "thunderbang        420   0.0  0.1  4304420   4216   ??  Ss    9:00AM   0:00.02 /System/Library/\r\n",
      "thunderbang        419   0.0  0.1  4331408   9436   ??  S     9:00AM   0:06.55 /System/Library/\r\n",
      "thunderbang        415   0.0  0.1  4332084  11120   ??  Ss    9:00AM   0:00.17 /System/Library/\r\n",
      "_applepay          414   0.0  0.1  4331636   6116   ??  Ss    9:00AM   0:00.04 /usr/libexec/nfc\r\n",
      "thunderbang        413   0.0  0.1  4305848  10476   ??  S     9:00AM   0:00.07 /usr/libexec/rap\r\n",
      "thunderbang        412   0.0  0.2  4304464  13640   ??  Ss    9:00AM   0:00.03 /System/Library/\r\n",
      "thunderbang        411   0.0  0.2  4386112  17980   ??  S     9:00AM   0:01.55 /System/Library/\r\n",
      "thunderbang        410   0.0  0.1  4380320  11152   ??  S     9:00AM   0:01.70 /System/Library/\r\n",
      "thunderbang        409   0.0  0.1  4344204  10628   ??  S     9:00AM   0:00.26 /System/Library/\r\n",
      "thunderbang        408   0.0  0.3  4374152  23928   ??  S     9:00AM   0:01.58 /System/Library/\r\n",
      "thunderbang        407   0.0  0.2  4358100  20188   ??  S     9:00AM   0:00.24 /System/Library/\r\n",
      "root               406   0.0  0.1  4331384  10644   ??  Ss    9:00AM   0:00.19 /System/Library/\r\n",
      "root               405   0.0  0.1  4339240  10100   ??  Ss    9:00AM   0:00.38 /usr/sbin/spindu\r\n",
      "thunderbang        403   0.0  0.2  4338780  15604   ??  S     9:00AM   0:00.71 /usr/libexec/kno\r\n",
      "thunderbang        402   0.0  0.2  4305356  14484   ??  S     9:00AM   0:00.13 /System/Library/\r\n",
      "thunderbang        401   0.0  0.2  4332552  20172   ??  S     9:00AM   0:00.27 /System/Library/\r\n",
      "thunderbang        400   0.0  0.2  4331244  14756   ??  S     9:00AM   0:00.04 /System/Library/\r\n",
      "thunderbang        399   0.0  0.3  4351396  27052   ??  S     9:00AM   0:00.40 /System/Library/\r\n",
      "thunderbang        398   0.0  0.1  4335148  11180   ??  S     9:00AM   0:07.07 /usr/libexec/nsu\r\n",
      "thunderbang        397   0.0  0.3  4339480  26796   ??  S     9:00AM   0:00.58 /System/Library/\r\n",
      "root               396   0.0  0.2  4332020  17212   ??  Ss    9:00AM   0:00.20 /usr/sbin/Wirele\r\n",
      "thunderbang        394   0.0  0.2  4332436  17028   ??  S     9:00AM   0:00.12 /usr/libexec/fmf\r\n",
      "thunderbang        393   0.0  0.2  4368648  20876   ??  S     9:00AM   0:01.40 /System/Library/\r\n",
      "thunderbang        391   0.0  1.0  4606288  80520   ??  S     9:00AM   0:06.18 /System/Library/\r\n",
      "thunderbang        390   0.0  0.3  4336292  24708   ??  S     9:00AM   0:08.14 /System/Library/\r\n",
      "thunderbang        389   0.0  0.2  4330740  12872   ??  S     9:00AM   0:00.04 /System/Library/\r\n",
      "thunderbang        388   0.0  0.3  4390268  28100   ??  S     9:00AM   0:02.16 /System/Library/\r\n",
      "thunderbang        387   0.0  0.2  4335580  17040   ??  S     9:00AM   0:00.09 /System/Library/\r\n",
      "thunderbang        386   0.0  0.2  4380184  14244   ??  S     9:00AM   0:01.31 /System/Library/\r\n",
      "thunderbang        385   0.0  0.4  4391224  31420   ??  S     9:00AM   0:02.12 /System/Library/\r\n",
      "thunderbang        384   0.0  0.3  4331640  21584   ??  S     9:00AM   0:08.11 /usr/libexec/Saf\r\n",
      "thunderbang        383   0.0  0.2  4305120  17420   ??  S     9:00AM   0:00.06 /usr/libexec/sir\r\n",
      "thunderbang        381   0.0  0.3  4338892  27816   ??  Ss    9:00AM   0:02.84 /System/Library/\r\n",
      "thunderbang        380   0.0  0.2  4306216  13000   ??  S     9:00AM   0:00.09 /System/Library/\r\n",
      "thunderbang        379   0.0  0.1  4304724  11200   ??  Ss    9:00AM   0:00.24 /System/Library/\r\n",
      "thunderbang        378   0.0  0.2  4304488  15696   ??  S     9:00AM   0:00.55 /System/Library/\r\n",
      "root               377   0.0  0.1  4332288   7136   ??  Ss    9:00AM   0:00.26 /usr/sbin/wirele\r\n",
      "thunderbang        376   0.0  0.3  4341948  23312   ??  S     9:00AM   0:00.75 /System/Library/\r\n",
      "root               375   0.0  0.1  4307844   6288   ??  Ss    9:00AM   0:00.08 /usr/sbin/fileco\r\n",
      "thunderbang        374   0.0  0.8  5313020  68144   ??  S     9:00AM   0:04.95 /System/Library/\r\n",
      "thunderbang        373   0.0  0.4  4352696  36312   ??  S     9:00AM   0:02.73 /usr/libexec/sha\r\n",
      "thunderbang        372   0.0  0.1  4304568   5204   ??  S     9:00AM   0:00.03 /System/Library/\r\n",
      "thunderbang        371   0.0  0.1  4332616  11244   ??  S     9:00AM   0:00.42 /usr/libexec/sec\r\n",
      "thunderbang        370   0.0  0.5  4496496  41204   ??  S     9:00AM   0:03.68 /System/Library/\r\n",
      "thunderbang        369   0.0  0.3  4417504  27032   ??  S     9:00AM   0:03.14 /System/Library/\r\n",
      "thunderbang        366   0.0  0.1  4330712  10372   ??  S     9:00AM   0:00.05 /System/Library/\r\n",
      "thunderbang        365   0.0  0.5  4401280  45544   ??  S     9:00AM   0:09.78 /System/Library/\r\n",
      "thunderbang        364   0.0  0.2  4369448  13304   ??  S     9:00AM   0:00.18 /System/Library/\r\n",
      "thunderbang        363   0.0  0.3  4343964  22220   ??  Ss    9:00AM   0:01.78 /System/Library/\r\n",
      "thunderbang        362   0.0  0.1  4333028  11132   ??  S     9:00AM   0:00.42 /usr/sbin/userno\r\n",
      "thunderbang        361   0.0  0.1  4332980   8808   ??  S     9:00AM   0:02.02 /System/Library/\r\n",
      "thunderbang        360   0.0  0.2  4335116  12600   ??  S     9:00AM   0:00.09 /usr/libexec/key\r\n",
      "thunderbang        359   0.0  0.1  4332772   7584   ??  S     9:00AM   0:00.75 /Applications/iT\r\n",
      "thunderbang        358   0.0  0.1  4306216   8180   ??  S     9:00AM   0:00.03 /System/Library/\r\n",
      "thunderbang        357   0.0  0.1  4305748   8364   ??  S     9:00AM   0:00.03 /System/Library/\r\n",
      "thunderbang        356   0.0  0.1  4305108   5832   ??  S     9:00AM   0:00.10 /System/Library/\r\n",
      "thunderbang        355   0.0  0.1  4304420  10940   ??  S     9:00AM   0:00.04 /System/Library/\r\n",
      "thunderbang        353   0.0  1.0  4593236  83112   ??  S     9:00AM   0:06.37 /System/Library/\r\n",
      "thunderbang        352   0.0  0.4  4340164  36020   ??  S     9:00AM   0:05.99 /System/Library/\r\n",
      "root               351   0.0  0.1  4331916   5812   ??  Ss    9:00AM   0:00.03 /System/Library/\r\n",
      "thunderbang        349   0.0  0.2  4378496  14800   ??  S     9:00AM   0:01.65 /usr/libexec/nsu\r\n",
      "root               347   0.0  0.1  4336408   7120   ??  Ss    9:00AM   0:00.20 /usr/sbin/system\r\n",
      "thunderbang        345   0.0  0.1  4335332  10792   ??  S     9:00AM   0:00.51 /System/Library/\r\n",
      "thunderbang        343   0.0  0.2  4334568  13040   ??  S     9:00AM   0:01.32 /usr/libexec/pkd\r\n",
      "thunderbang        342   0.0  0.1  4332300   8672   ??  S     9:00AM   0:00.47 /System/Library/\r\n",
      "thunderbang        340   0.0  0.1  4306588   6692   ??  S     9:00AM   0:01.78 /usr/libexec/pbo\r\n",
      "thunderbang        338   0.0  0.1  4334152   6796   ??  S     9:00AM   0:00.06 /System/Library/\r\n",
      "thunderbang        336   0.0  0.3  4387056  26180   ??  S     9:00AM   0:03.73 /System/Library/\r\n",
      "thunderbang        334   0.0  0.2  4336156  18284   ??  S     9:00AM   0:00.71 /System/Library/\r\n",
      "thunderbang        333   0.0  0.1  4365444  11604   ??  S     9:00AM   0:04.41 /System/Library/\r\n",
      "thunderbang        332   0.0  0.2  4336008  14780   ??  S     9:00AM   0:01.41 /usr/libexec/sec\r\n",
      "thunderbang        331   0.0  1.6  4755516 136228   ??  S     9:00AM   0:34.03 /System/Library/\r\n",
      "thunderbang        330   0.0  0.4  4383528  31496   ??  S     9:00AM   0:08.90 /System/Library/\r\n",
      "thunderbang        329   0.0  0.2  4378720  14184   ??  S     9:00AM   0:14.06 /usr/libexec/tru\r\n",
      "thunderbang        328   0.0  0.1  4334456   8184   ??  S     9:00AM   0:00.47 /usr/libexec/lsd\r\n",
      "thunderbang        327   0.0  0.4  4502932  32516   ??  S     9:00AM   0:05.90 /System/Library/\r\n",
      "thunderbang        326   0.0  0.2  4338844  13272   ??  S     9:00AM   0:01.70 /System/Library/\r\n",
      "thunderbang        325   0.0  0.3  4343560  27452   ??  S     9:00AM   0:05.99 /System/Library/\r\n",
      "thunderbang        323   0.0  0.1  4310304   6348   ??  S     9:00AM   0:15.02 /usr/sbin/distno\r\n",
      "thunderbang        321   0.0  0.4  4340668  30204   ??  S     9:00AM   0:03.68 /usr/libexec/Use\r\n",
      "thunderbang        320   0.0  0.0  4306764   3844   ??  S     9:00AM   0:04.42 /usr/sbin/cfpref\r\n",
      "root               319   0.0  0.1  4306132   5792   ??  Ss    9:00AM   0:00.07 /usr/libexec/sec\r\n",
      "root               318   0.0  0.1  4304788   9508   ??  Ss    9:00AM   0:00.05 /System/Library/\r\n",
      "root               314   0.0  0.2  4379620  15088   ??  Ss    9:00AM   0:01.05 /System/Library/\r\n",
      "_captiveagent      313   0.0  0.1  4332820   7520   ??  Ss    9:00AM   0:00.35 /usr/libexec/cap\r\n",
      "root               312   0.0  0.1  4306200  12368   ??  Ss    9:00AM   0:00.06 /System/Library/\r\n",
      "root               311   0.0  0.1  4306056   5888   ??  Ss    9:00AM   0:01.17 /System/Library/\r\n",
      "root               310   0.0  0.1  4331944   6252   ??  Ss    9:00AM   0:00.11 /System/Library/\r\n",
      "root               307   0.0  0.1  4305192   4464   ??  Ss    9:00AM   0:00.01 /System/Library/\r\n",
      "root               297   0.0  0.1  4304936   4724   ??  Ss    9:00AM   0:00.02 /System/Library/\r\n",
      "root               295   0.0  0.1  4305716   9812   ??  Ss    9:00AM   0:00.03 /System/Library/\r\n",
      "root               289   0.0  0.1  4305376  10356   ??  Ss    9:00AM   0:00.02 /usr/libexec/boo\r\n",
      "root               286   0.0  0.1  4306068   7212   ??  Ss    9:00AM   0:00.23 /System/Library/\r\n",
      "root               283   0.0  0.1  4305876   5788   ??  Ss    9:00AM   0:00.02 /usr/libexec/col\r\n",
      "root               277   0.0  0.1  4304636   5616   ??  Ss    9:00AM   0:00.04 /usr/libexec/col\r\n",
      "root               276   0.0  0.0  4322300   2652   ??  Ss    9:00AM   0:00.02 /System/Library/\r\n",
      "_coreaudiod        275   0.0  0.1  4296512   8428   ??  Ss    9:00AM   0:00.01 /System/Library/\r\n",
      "root               274   0.0  0.1  4306140   7512   ??  Ss    9:00AM   0:00.03 /System/Library/\r\n",
      "root               240   0.0  0.1  4304696   8776   ??  Ss    9:00AM   0:00.03 /System/Library/\r\n",
      "root               207   0.0  0.0  4296692    800   ??  SNs   9:00AM   0:00.01 /usr/libexec/per\r\n",
      "_softwareupdate    206   0.0  0.1  4332536  11652   ??  Ss    9:00AM   0:00.29 /System/Library/\r\n",
      "root               205   0.0  0.1  4304472  10476   ??  Ss    9:00AM   0:00.02 /usr/libexec/the\r\n",
      "root               204   0.0  1.1  4947076  96328   ??  Ss    9:00AM   0:11.54 /System/Library/\r\n",
      "root               203   0.0  0.1  4297244   4412   ??  Ss    9:00AM   0:00.31 /usr/libexec/wat\r\n"
     ]
    },
    {
     "name": "stdout",
     "output_type": "stream",
     "text": [
      "_locationd         201   0.0  0.1  4335900   8444   ??  S     9:00AM   0:00.28 /usr/libexec/tru\r\n",
      "_locationd         200   0.0  0.0  4304900   1420   ??  S     9:00AM   0:00.08 /usr/sbin/cfpref\r\n",
      "root               199   0.0  0.1  4307204   6016   ??  Ss    9:00AM   0:00.04 /System/Library/\r\n",
      "_fpsd              198   0.0  0.1  4308668   7684   ??  Ss    9:00AM   0:00.21 /System/Library/\r\n",
      "_locationd         197   0.0  0.1  4332616   9924   ??  S     9:00AM   0:00.33 /usr/libexec/sec\r\n",
      "_locationd         196   0.0  0.1  4377884  11368   ??  S     9:00AM   0:01.21 /System/Library/\r\n",
      "root               195   0.0  0.1  4331952   6956   ??  Ss    9:00AM   0:00.07 /System/Library/\r\n",
      "_nsurlstoraged     194   0.0  0.1  4304992   5980   ??  Ss    9:00AM   0:00.20 /usr/libexec/nsu\r\n",
      "root               193   0.0  0.1  4332248   7616   ??  Ss    9:00AM   0:00.30 /usr/libexec/san\r\n",
      "root               187   0.0  0.1  4316556  10436   ??  Ss    9:00AM   0:00.12 /usr/libexec/dis\r\n",
      "root               176   0.0  0.2  4337888  16368   ??  Ss    9:00AM   0:00.40 /usr/libexec/sys\r\n",
      "root               175   0.0  0.2  4337456  16192   ??  Ss    9:00AM   0:05.54 /usr/libexec/mob\r\n",
      "_networkd          170   0.0  0.1  4338616  11464   ??  Ss    9:00AM   0:05.18 /usr/libexec/sym\r\n",
      "_cmiodalassistants   168   0.0  0.1  4305984   8544   ??  Ss    9:00AM   0:00.05 /Library/CoreMed\r\n",
      "root               166   0.0  0.0  4331052   2212   ??  Ss    9:00AM   0:00.01 /System/Library/\r\n",
      "root               163   0.0  0.1  4333448   7536   ??  Ss    9:00AM   0:00.19 /usr/libexec/lsd\r\n",
      "root               162   0.0  0.1  4333388  10096   ??  S     9:00AM   0:00.28 /usr/sbin/system\r\n",
      "root               156   0.0  0.1  4331232   7596   ??  Ss    9:00AM   0:00.51 /usr/libexec/pow\r\n",
      "root               155   0.0  0.1  4331792   8260   ??  Ss    9:00AM   0:00.03 /usr/libexec/usb\r\n",
      "root               154   0.0  0.1  4304408   5096   ??  Ss    9:00AM   0:00.02 /usr/libexec/apf\r\n",
      "root               149   0.0  0.1  4304664   4868   ??  Ss    9:00AM   0:02.22 /usr/libexec/sys\r\n",
      "_nsurlsessiond     148   0.0  0.2  4383512  17888   ??  Ss    9:00AM   0:01.43 /usr/libexec/nsu\r\n",
      "root               147   0.0  0.2  4332528  12676   ??  Ss    9:00AM   0:00.13 /usr/libexec/sec\r\n",
      "root               146   0.0  0.1  4304956   5264   ??  Ss    9:00AM   0:00.69 /System/Library/\r\n",
      "root               145   0.0  0.3  4373952  21112   ??  Ss    9:00AM   0:01.21 /usr/libexec/fin\r\n",
      "root               144   0.0  0.1  4331636   6356   ??  Ss    9:00AM   0:01.47 /usr/sbin/mDNSRe\r\n",
      "_mdnsresponder     143   0.0  0.1  4333412   8700   ??  Ss    9:00AM   0:08.03 /usr/sbin/mDNSRe\r\n",
      "_analyticsd        142   0.0  0.1  4332248  10040   ??  Ss    9:00AM   0:00.41 /System/Library/\r\n",
      "root               141   0.0  0.1  4331832   8272   ??  Ss    9:00AM   0:00.29 /System/Library/\r\n",
      "root               125   0.0  0.1  4334844   8708   ??  Ss    9:00AM   0:00.09 /usr/libexec/neh\r\n",
      "root               124   0.0  0.1  4304984   4540   ??  Ss    9:00AM   0:00.02 aslmanager\r\n",
      "_coreaudiod        123   0.0  0.1  4331092   6748   ??  Ss    9:00AM   0:00.29 /System/Library/\r\n",
      "_ctkd              116   0.0  0.1  4306196   9624   ??  Ss    9:00AM   0:00.03 /System/Library/\r\n",
      "_coreaudiod        115   0.0  0.2  4316124  14912   ??  Ss    9:00AM   1:21.84 /usr/sbin/coreau\r\n",
      "root               113   0.0  0.2  4343452  17440   ??  Ss    9:00AM   0:09.14 /usr/libexec/air\r\n",
      "root               112   0.0  0.2  4338668  13344   ??  Ss    9:00AM   0:03.46 /usr/libexec/tru\r\n",
      "root               109   0.0  0.1  4304992   8268   ??  Ss    9:00AM   0:00.02 /System/Library/\r\n",
      "root               102   0.0  0.1  4347140  10856   ??  Ss    9:00AM   0:01.67 /System/Library/\r\n",
      "root               101   0.0  0.1  4334192   9972   ??  Ss    9:00AM   0:00.31 /System/Library/\r\n",
      "root                99   0.0  0.0  4306496   3480   ??  Ss    9:00AM   0:02.49 /usr/sbin/cfpref\r\n",
      "_distnote           98   0.0  0.0  4305588   3692   ??  Ss    9:00AM   0:00.54 /usr/sbin/distno\r\n",
      "root                96   0.0  0.2  4332856  12868   ??  Ss    9:00AM   0:00.25 /usr/libexec/Air\r\n",
      "root                95   0.0  0.2  4338680  20748   ??  Ss    9:00AM   0:03.05 /usr/libexec/cor\r\n",
      "root                93   0.0  0.1  4335064  11112   ??  Ss    9:00AM   0:26.44 /usr/sbin/blueto\r\n",
      "root                91   0.0  0.1  4304656   4368   ??  Ss    9:00AM   0:00.01 /usr/sbin/Kernel\r\n",
      "root                90   0.0  0.1  4333388   6004   ??  Ss    9:00AM   0:00.08 /System/Library/\r\n",
      "root                89   0.0  0.1  4304496   5852   ??  Ss    9:00AM   0:00.04 /System/Library/\r\n",
      "thunderbang         88   0.0  0.6  4492296  51956   ??  Ss    9:00AM   0:05.84 /System/Library/\r\n",
      "root                85   0.0  0.1  4332608   7920   ??  Ss    9:00AM   0:00.13 /System/Library/\r\n",
      "root                84   0.0  0.1  4335776  11740   ??  Ss    9:00AM   0:03.73 /usr/libexec/das\r\n",
      "_displaypolicyd     83   0.0  0.1  4307292   9600   ??  Ss    9:00AM   0:00.09 /usr/libexec/dis\r\n",
      "root                82   0.0  0.1  4304628   4960   ??  Ss    9:00AM   0:00.01 autofsd\r\n",
      "_locationd          81   0.0  0.2  4383116  17616   ??  Ss    9:00AM   0:11.81 /usr/libexec/loc\r\n",
      "_usbmuxd            79   0.0  0.1  4331244   5888   ??  Ss    9:00AM   0:00.05 /System/Library/\r\n",
      "root                78   0.0  0.1  4333020   9272   ??  Ss    9:00AM   0:01.47 /usr/sbin/securi\r\n",
      "_timed              77   0.0  0.1  4330872   6888   ??  Ss    9:00AM   0:00.34 /usr/libexec/tim\r\n",
      "root                76   0.0  0.1  4332492   9408   ??  Ss    9:00AM   0:04.05 /System/Library/\r\n",
      "root                75   0.0  0.1  4331928   5928   ??  Ss    9:00AM   0:00.11 /System/Library/\r\n",
      "root                74   0.0  0.2  4340020  18660   ??  Ss    9:00AM   0:01.77 /System/Library/\r\n",
      "root                73   0.0  0.2  4351492  17728   ??  Ss    9:00AM   0:08.17 /usr/libexec/ope\r\n",
      "root                70   0.0  0.4  4345560  33844   ??  Ss    9:00AM   0:06.80 /usr/libexec/cor\r\n",
      "root                69   0.0  0.3  4331296  25260   ??  Ss    9:00AM   0:00.21 /System/Library/\r\n",
      "root                66   0.0  0.1  4330644   6460   ??  Ss    9:00AM   0:00.51 /usr/libexec/dis\r\n",
      "root                65   0.0  0.1  4309852   6532   ??  Ss    9:00AM   0:00.07 /System/Library/\r\n",
      "_iconservices       64   0.0  0.1  4335224   7568   ??  Ss    9:00AM   0:00.06 /System/Library/\r\n",
      "root                63   0.0  0.4  4430428  33404   ??  Ss    9:00AM   0:09.90 /System/Library/\r\n",
      "root                62   0.0  0.1  4336592  10864   ??  SNs   9:00AM   0:00.93 /usr/libexec/war\r\n",
      "root                57   0.0  0.1  4305064   4480   ??  Ss    9:00AM   0:00.02 /usr/libexec/key\r\n",
      "root                52   0.0  0.1  4337028  11160   ??  Ss    9:00AM   0:02.63 /usr/libexec/con\r\n",
      "root                50   0.0  0.2  4336400  13588   ??  Ss    9:00AM   0:04.84 /usr/sbin/system\r\n",
      "_appleevents        49   0.0  0.1  4332292   6844   ??  Ss    9:00AM   0:00.46 /System/Library/\r\n",
      "root                47   0.0  0.2  4332692  19428   ??  Ss    9:00AM   0:04.47 /System/Library/\r\n",
      "root                45   0.0  0.1  4317272   8516   ??  Ss    9:00AM   0:07.35 /System/Library/\r\n",
      "root                44   0.0  0.2  4343996  17876   ??  Ss    9:00AM   0:01.76 /usr/libexec/kex\r\n",
      "root                43   0.0  0.1  4296008   8432   ??  Ss    9:00AM   0:01.23 /System/Library/\r\n",
      "root                40   0.0  0.2  4337028  17272   ??  Ss    9:00AM   0:03.76 /usr/libexec/Use\r\n",
      "root                39   0.0  0.0  4305800   1692   ??  Ss    9:00AM   0:01.64 /usr/sbin/syslog\r\n",
      "root              1086   0.0  0.0  4268128   1084 s002  Rs+   6:31PM   0:00.01 ps aux\r\n",
      "root                 1   0.0  0.2  4326984  14504   ??  Ss    9:00AM   0:32.29 /sbin/launchd\r\n",
      "thunderbang       1085   0.0  0.2  4851136  13924   ??  S     6:31PM   0:00.10 /System/Library/\r\n",
      "thunderbang       1073   0.0  0.1  4340688  12560   ??  S     6:09PM   0:00.06 /System/Library/\r\n",
      "thunderbang       1072   0.0  0.3  4349012  23768   ??  S     6:09PM   0:00.17 /System/Library/\r\n",
      "thunderbang       1071   0.0  0.1  4340688  12536   ??  S     6:09PM   0:00.06 /System/Library/\r\n",
      "thunderbang       1059   0.0  0.3  4338280  23992   ??  S     5:46PM   0:00.17 /System/Library/\r\n",
      "thunderbang       1058   0.0  0.3  4338280  24076   ??  S     5:46PM   0:00.16 /System/Library/\r\n",
      "thunderbang       1057   0.0  0.3  4338280  24008   ??  S     5:46PM   0:00.15 /System/Library/\r\n"
     ]
    }
   ],
   "source": [
    "!ps aux"
   ]
  },
  {
   "cell_type": "code",
   "execution_count": 76,
   "metadata": {},
   "outputs": [
    {
     "data": {
      "text/plain": [
       "IPython.utils.text.SList"
      ]
     },
     "execution_count": 76,
     "metadata": {},
     "output_type": "execute_result"
    }
   ],
   "source": [
    "x = !ps aux\n",
    "type(x)"
   ]
  },
  {
   "cell_type": "code",
   "execution_count": 78,
   "metadata": {},
   "outputs": [
    {
     "data": {
      "text/plain": [
       "'thunderbang       1058   0.0  0.3  4338280  24076   ??  S     5:46PM   0:00.16 /System/Library/Frameworks/CoreServices.framework/Frameworks/Metadata.framework/Versions/A/Support/mdworker -s mdworker -c MDSImporterWorker -m com.apple.mdworker.single'"
      ]
     },
     "execution_count": 78,
     "metadata": {},
     "output_type": "execute_result"
    }
   ],
   "source": [
    "s = x[-1]\n",
    "s"
   ]
  },
  {
   "cell_type": "code",
   "execution_count": 79,
   "metadata": {},
   "outputs": [
    {
     "data": {
      "text/plain": [
       "['thunderbang',\n",
       " '1058',\n",
       " '0.0',\n",
       " '0.3',\n",
       " '4338280',\n",
       " '24076',\n",
       " '??',\n",
       " 'S',\n",
       " '5:46PM',\n",
       " '0:00.16',\n",
       " '/System/Library/Frameworks/CoreServices.framework/Frameworks/Metadata.framework/Versions/A/Support/mdworker',\n",
       " '-s',\n",
       " 'mdworker',\n",
       " '-c',\n",
       " 'MDSImporterWorker',\n",
       " '-m',\n",
       " 'com.apple.mdworker.single']"
      ]
     },
     "execution_count": 79,
     "metadata": {},
     "output_type": "execute_result"
    }
   ],
   "source": [
    "s.split() #默认用空格分隔"
   ]
  },
  {
   "cell_type": "code",
   "execution_count": 82,
   "metadata": {},
   "outputs": [],
   "source": [
    "s = 'ab;cd|efg|hi,jkl|mn\\topq;rst,uvw\\txyz'"
   ]
  },
  {
   "cell_type": "code",
   "execution_count": 86,
   "metadata": {},
   "outputs": [
    {
     "data": {
      "text/plain": [
       "['ab', 'cd|efg|hi,jkl|mn\\topq', 'rst,uvw\\txyz']"
      ]
     },
     "execution_count": 86,
     "metadata": {},
     "output_type": "execute_result"
    }
   ],
   "source": [
    "s.split(';') #';|,'不能用此做分隔符，因为被认为一个整体"
   ]
  },
  {
   "cell_type": "code",
   "execution_count": 107,
   "metadata": {},
   "outputs": [],
   "source": [
    "res = s.split(';')"
   ]
  },
  {
   "cell_type": "code",
   "execution_count": 108,
   "metadata": {},
   "outputs": [
    {
     "data": {
      "text/plain": [
       "<map at 0x106906c50>"
      ]
     },
     "execution_count": 108,
     "metadata": {},
     "output_type": "execute_result"
    }
   ],
   "source": [
    "map(lambda x: x.split('|'), res)"
   ]
  },
  {
   "cell_type": "code",
   "execution_count": 109,
   "metadata": {},
   "outputs": [
    {
     "data": {
      "text/plain": [
       "[['ab'], ['cd', 'efg', 'hi,jkl', 'mn\\topq'], ['rst,uvw\\txyz']]"
      ]
     },
     "execution_count": 109,
     "metadata": {},
     "output_type": "execute_result"
    }
   ],
   "source": [
    "list(map(lambda x: x.split('|'), res))"
   ]
  },
  {
   "cell_type": "code",
   "execution_count": 110,
   "metadata": {},
   "outputs": [
    {
     "data": {
      "text/plain": [
       "['ab', 'cd', 'efg', 'hi,jkl', 'mn\\topq', 'rst,uvw\\txyz']"
      ]
     },
     "execution_count": 110,
     "metadata": {},
     "output_type": "execute_result"
    }
   ],
   "source": [
    "t = []\n",
    "list(map(lambda x: t.extend(x.split('|')), res))\n",
    "t"
   ]
  },
  {
   "cell_type": "code",
   "execution_count": 111,
   "metadata": {},
   "outputs": [
    {
     "data": {
      "text/plain": [
       "['ab', 'cd', 'efg', 'hi', 'jkl', 'mn\\topq', 'rst', 'uvw\\txyz']"
      ]
     },
     "execution_count": 111,
     "metadata": {},
     "output_type": "execute_result"
    }
   ],
   "source": [
    "res = t\n",
    "t = []\n",
    "list(map(lambda x: t.extend(x.split(',')), res))\n",
    "t"
   ]
  },
  {
   "cell_type": "code",
   "execution_count": 112,
   "metadata": {},
   "outputs": [
    {
     "data": {
      "text/plain": [
       "['ab', 'cd', 'efg', 'hi', 'jkl', 'mn', 'opq', 'rst', 'uvw', 'xyz']"
      ]
     },
     "execution_count": 112,
     "metadata": {},
     "output_type": "execute_result"
    }
   ],
   "source": [
    "res = t\n",
    "t = []\n",
    "list(map(lambda x: t.extend(x.split('\\t')), res))\n",
    "t"
   ]
  },
  {
   "cell_type": "markdown",
   "metadata": {},
   "source": [
    "**根据以上步骤，我们可以写一个循环实现**"
   ]
  },
  {
   "cell_type": "code",
   "execution_count": 116,
   "metadata": {},
   "outputs": [
    {
     "data": {
      "text/plain": [
       "['ab', 'cd', 'efg', 'hi', 'jkl', 'mn', 'opq', 'rst', 'uvw', 'xyz']"
      ]
     },
     "execution_count": 116,
     "metadata": {},
     "output_type": "execute_result"
    }
   ],
   "source": [
    "def mySplit(s, ds):\n",
    "    res = [s]\n",
    "    for i in ds:\n",
    "        t = []\n",
    "        list(map(lambda x: t.extend(x.split(i)), res))\n",
    "        res = t\n",
    "    return res\n",
    "\n",
    "s = 'ab;cd|efg|hi,jkl|mn\\topq;rst,uvw\\txyz'\n",
    "ds = ';,|\\t'\n",
    "\n",
    "mySplit(s, ds)"
   ]
  },
  {
   "cell_type": "code",
   "execution_count": 119,
   "metadata": {},
   "outputs": [
    {
     "data": {
      "text/plain": [
       "['ab', 'cd', 'efg', 'hi', '', 'jkl', 'mn', 'opq', 'rst', 'uvw', 'xyz']"
      ]
     },
     "execution_count": 119,
     "metadata": {},
     "output_type": "execute_result"
    }
   ],
   "source": [
    "s = 'ab;cd|efg|hi,,jkl|mn\\topq;rst,uvw\\txyz'\n",
    "\n",
    "mySplit(s, ds)"
   ]
  },
  {
   "cell_type": "markdown",
   "metadata": {},
   "source": [
    "因为有两个连续的分隔符，结果中出现了空值，需在mySplit函数的返回值过滤掉"
   ]
  },
  {
   "cell_type": "code",
   "execution_count": 120,
   "metadata": {},
   "outputs": [
    {
     "data": {
      "text/plain": [
       "['ab', 'cd', 'efg', 'hi', 'jkl', 'mn', 'opq', 'rst', 'uvw', 'xyz']"
      ]
     },
     "execution_count": 120,
     "metadata": {},
     "output_type": "execute_result"
    }
   ],
   "source": [
    "def mySplit(s, ds):\n",
    "    res = [s]\n",
    "    for i in ds:\n",
    "        t = []\n",
    "        list(map(lambda x: t.extend(x.split(i)), res))\n",
    "        res = t\n",
    "    return [x for x in res if x]\n",
    "\n",
    "s = 'ab;cd|efg|hi,,jkl|mn\\topq;rst,uvw\\txyz'\n",
    "\n",
    "mySplit(s, ds)"
   ]
  },
  {
   "cell_type": "markdown",
   "metadata": {},
   "source": [
    "**现在我们用re.split神器，一次性解决问题**"
   ]
  },
  {
   "cell_type": "code",
   "execution_count": 122,
   "metadata": {},
   "outputs": [
    {
     "data": {
      "text/plain": [
       "['ab', 'cd', 'efg', 'hi', 'jkl', 'mn', 'opq', 'rst', 'uvw', 'xyz']"
      ]
     },
     "execution_count": 122,
     "metadata": {},
     "output_type": "execute_result"
    }
   ],
   "source": [
    "import re\n",
    "\n",
    "re.split(r'[,;\\t|]+', s)"
   ]
  },
  {
   "cell_type": "markdown",
   "metadata": {},
   "source": [
    "对于单个分隔符，推荐采用str.split()，速度更快。对于多个分隔符，推荐采用re.split()"
   ]
  },
  {
   "cell_type": "markdown",
   "metadata": {},
   "source": [
    "## <span id='14'>14 如何判断字符串a是否以字符串b开头或结尾？</span>\n",
    "案例：判断url是否以https开头；给所有.py文件更改权限；等\n",
    "- str.startswith()\n",
    "- str.endswith()"
   ]
  },
  {
   "cell_type": "markdown",
   "metadata": {},
   "source": [
    "实例：修改目录下以.ipynb或.py结尾的文件权限"
   ]
  },
  {
   "cell_type": "code",
   "execution_count": 124,
   "metadata": {},
   "outputs": [
    {
     "name": "stdout",
     "output_type": "stream",
     "text": [
      "total 352\r\n",
      "-rw-r--r--@ 1 thunderbang  staff      45 Jul 23 14:26 history\r\n",
      "-rw-r--r--  1 thunderbang  staff   54106 Jul 23 16:25 python高效编程技巧1.ipynb\r\n",
      "-rw-r--r--  1 thunderbang  staff  115968 Jul 23 19:34 python高效编程技巧2.ipynb\r\n",
      "-rw-r--r--@ 1 thunderbang  staff       0 Jul 23 19:37 test.py\r\n"
     ]
    }
   ],
   "source": [
    "ls -l"
   ]
  },
  {
   "cell_type": "code",
   "execution_count": 131,
   "metadata": {},
   "outputs": [
    {
     "data": {
      "text/plain": [
       "['.DS_Store',\n",
       " 'test.py',\n",
       " 'history',\n",
       " 'python高效编程技巧1.ipynb',\n",
       " '.ipynb_checkpoints',\n",
       " 'python高效编程技巧2.ipynb']"
      ]
     },
     "execution_count": 131,
     "metadata": {},
     "output_type": "execute_result"
    }
   ],
   "source": [
    "import os, stat\n",
    "\n",
    "os.listdir('.')"
   ]
  },
  {
   "cell_type": "code",
   "execution_count": 132,
   "metadata": {},
   "outputs": [
    {
     "data": {
      "text/plain": [
       "True"
      ]
     },
     "execution_count": 132,
     "metadata": {},
     "output_type": "execute_result"
    }
   ],
   "source": [
    "s = 'test.py'\n",
    "s.endswith('.py')"
   ]
  },
  {
   "cell_type": "code",
   "execution_count": 136,
   "metadata": {},
   "outputs": [
    {
     "data": {
      "text/plain": [
       "True"
      ]
     },
     "execution_count": 136,
     "metadata": {},
     "output_type": "execute_result"
    }
   ],
   "source": [
    "s.endswith(('.py', '.ipynb')) #元组表示满足任意一个即可，不能是列表"
   ]
  },
  {
   "cell_type": "code",
   "execution_count": 138,
   "metadata": {},
   "outputs": [
    {
     "data": {
      "text/plain": [
       "['test.py', 'python高效编程技巧1.ipynb', 'python高效编程技巧2.ipynb']"
      ]
     },
     "execution_count": 138,
     "metadata": {},
     "output_type": "execute_result"
    }
   ],
   "source": [
    "[name for name in os.listdir('.') if name.endswith(('.py', 'ipynb'))]"
   ]
  },
  {
   "cell_type": "code",
   "execution_count": 142,
   "metadata": {},
   "outputs": [
    {
     "data": {
      "text/plain": [
       "os.stat_result(st_mode=33188, st_ino=2973742, st_dev=16777220, st_nlink=1, st_uid=501, st_gid=20, st_size=0, st_atime=1532345862, st_mtime=1532345862, st_ctime=1532345877)"
      ]
     },
     "execution_count": 142,
     "metadata": {},
     "output_type": "execute_result"
    }
   ],
   "source": [
    "os.stat('test.py')"
   ]
  },
  {
   "cell_type": "code",
   "execution_count": 143,
   "metadata": {},
   "outputs": [
    {
     "data": {
      "text/plain": [
       "33188"
      ]
     },
     "execution_count": 143,
     "metadata": {},
     "output_type": "execute_result"
    }
   ],
   "source": [
    "os.stat('test.py').st_mode"
   ]
  },
  {
   "cell_type": "code",
   "execution_count": 144,
   "metadata": {},
   "outputs": [
    {
     "data": {
      "text/plain": [
       "'0o100644'"
      ]
     },
     "execution_count": 144,
     "metadata": {},
     "output_type": "execute_result"
    }
   ],
   "source": [
    "# 改成8进制显示\n",
    "oct(os.stat('test.py').st_mode)"
   ]
  },
  {
   "cell_type": "code",
   "execution_count": 156,
   "metadata": {},
   "outputs": [],
   "source": [
    "stat.S_*?"
   ]
  },
  {
   "cell_type": "markdown",
   "metadata": {},
   "source": [
    "找一个权限掩码与原权限取或，赋给原权限"
   ]
  },
  {
   "cell_type": "code",
   "execution_count": 157,
   "metadata": {},
   "outputs": [],
   "source": [
    "os.chmod('test.py', os.stat('test.py').st_mode | stat.S_IXUSR)"
   ]
  },
  {
   "cell_type": "code",
   "execution_count": 158,
   "metadata": {},
   "outputs": [
    {
     "name": "stdout",
     "output_type": "stream",
     "text": [
      "total 360\r\n",
      "-rw-r--r--@ 1 thunderbang  staff      45 Jul 23 14:26 history\r\n",
      "-rw-r--r--  1 thunderbang  staff   54106 Jul 23 16:25 python高效编程技巧1.ipynb\r\n",
      "-rw-r--r--  1 thunderbang  staff  119273 Jul 23 19:54 python高效编程技巧2.ipynb\r\n",
      "-rwxr--r--@ 1 thunderbang  staff       0 Jul 23 19:37 \u001b[31mtest.py\u001b[m\u001b[m*\r\n"
     ]
    }
   ],
   "source": [
    "ls -l"
   ]
  },
  {
   "cell_type": "markdown",
   "metadata": {},
   "source": [
    "## <span id='15'>15 如何调整字符串中文本的格式？</span>\n",
    "#### 例如，将log文件中的日期由中国日期'yyyy-mm-dd'改为'mm/dd/yyyy'\n",
    "使用正则表达式re.sub()方法做字符串替换，利用正则表达式的捕获组捕获每个部分内容，然后在替换字符串中调整各个捕获组的顺序。"
   ]
  },
  {
   "cell_type": "code",
   "execution_count": 160,
   "metadata": {},
   "outputs": [
    {
     "data": {
      "text/plain": [
       "'2018-07-21 10:00:00 learning python'"
      ]
     },
     "execution_count": 160,
     "metadata": {},
     "output_type": "execute_result"
    }
   ],
   "source": [
    "# 随便定义一个带中国日期的字符串\n",
    "log = '2018-07-21 10:00:00 learning python'\n",
    "log"
   ]
  },
  {
   "cell_type": "code",
   "execution_count": 162,
   "metadata": {},
   "outputs": [
    {
     "data": {
      "text/plain": [
       "'07/21/2018 10:00:00 learning python'"
      ]
     },
     "execution_count": 162,
     "metadata": {},
     "output_type": "execute_result"
    }
   ],
   "source": [
    "import re\n",
    "\n",
    "re.sub('(\\d{4})-(\\d{2})-(\\d{2})', r'\\2/\\3/\\1', log)"
   ]
  },
  {
   "cell_type": "markdown",
   "metadata": {},
   "source": [
    "**正则表达式中括号()为捕获组，可按顺序引用。上述替换符中即用\\2表示捕获组中第二个元素。注意用r‘ ’**"
   ]
  },
  {
   "cell_type": "markdown",
   "metadata": {},
   "source": [
    "正则表达式有更复杂的引用方式，(?P<name\\>xxx)可以对捕获元素命名，\\g<name\\>对捕获元素按名选取。"
   ]
  },
  {
   "cell_type": "code",
   "execution_count": 163,
   "metadata": {},
   "outputs": [
    {
     "data": {
      "text/plain": [
       "'07/21/2018 10:00:00 learning python'"
      ]
     },
     "execution_count": 163,
     "metadata": {},
     "output_type": "execute_result"
    }
   ],
   "source": [
    "re.sub('(?P<year>\\d{4})-(?P<month>\\d{2})-(?P<day>\\d{2})', r'\\g<month>/\\g<day>/\\g<year>', log)"
   ]
  },
  {
   "cell_type": "markdown",
   "metadata": {},
   "source": [
    "##  <span id='16'>16 如何将多个小字符串拼接成一个大字符串？ </span>\n",
    "需求：基于UDP的网络协议，按照固定次序向服务器传递一系列参数。假如中程序中，我们将各个参数按次序收集到列表中，因为UDP协议不能保证按顺序到达，需将各个参数拼接成一个数据包进行发送。\n",
    "- 方法一：迭代列表，使用'+'操作依次拼接每一个字符串\n",
    "- 方法二：使用str.join()方法，更加快速地拼接列表中所有字符串。"
   ]
  },
  {
   "cell_type": "code",
   "execution_count": 166,
   "metadata": {},
   "outputs": [
    {
     "data": {
      "text/plain": [
       "'abcdefg12345'"
      ]
     },
     "execution_count": 166,
     "metadata": {},
     "output_type": "execute_result"
    }
   ],
   "source": [
    "s1 = 'abcdefg'\n",
    "s2 = '12345'\n",
    "s1 + s2 #本质上+号是运算符重载，是利用了下面的方法"
   ]
  },
  {
   "cell_type": "code",
   "execution_count": 167,
   "metadata": {},
   "outputs": [
    {
     "data": {
      "text/plain": [
       "'abcdefg12345'"
      ]
     },
     "execution_count": 167,
     "metadata": {},
     "output_type": "execute_result"
    }
   ],
   "source": [
    "str.__add__(s1, s2)"
   ]
  },
  {
   "cell_type": "code",
   "execution_count": 168,
   "metadata": {},
   "outputs": [
    {
     "data": {
      "text/plain": [
       "'<0112><32><1024x726>1'"
      ]
     },
     "execution_count": 168,
     "metadata": {},
     "output_type": "execute_result"
    }
   ],
   "source": [
    "pl = ['<0112>', '<32>', '<1024x726>', '1']\n",
    "s = ''\n",
    "\n",
    "for p in pl:\n",
    "    s += p\n",
    "s"
   ]
  },
  {
   "cell_type": "code",
   "execution_count": 169,
   "metadata": {},
   "outputs": [
    {
     "name": "stdout",
     "output_type": "stream",
     "text": [
      "<0112>\n",
      "<0112><32>\n",
      "<0112><32><1024x726>\n",
      "<0112><32><1024x726>1\n"
     ]
    }
   ],
   "source": [
    "pl = ['<0112>', '<32>', '<1024x726>', '1']\n",
    "s = ''\n",
    "\n",
    "for p in pl:\n",
    "    s += p\n",
    "    print(s)"
   ]
  },
  {
   "cell_type": "markdown",
   "metadata": {},
   "source": [
    "#### 可以看到，此种方法在拼接字符串很多时，创建了大量临时字符串，用过之后就释放掉了。也就是说，有大量的对象拷贝和释放过程，开销大浪费资源"
   ]
  },
  {
   "cell_type": "code",
   "execution_count": 170,
   "metadata": {},
   "outputs": [
    {
     "name": "stdout",
     "output_type": "stream",
     "text": [
      "Help on method_descriptor:\n",
      "\n",
      "join(...)\n",
      "    S.join(iterable) -> str\n",
      "    \n",
      "    Return a string which is the concatenation of the strings in the\n",
      "    iterable.  The separator between elements is S.\n",
      "\n"
     ]
    }
   ],
   "source": [
    "help(str.join)"
   ]
  },
  {
   "cell_type": "code",
   "execution_count": 171,
   "metadata": {},
   "outputs": [
    {
     "data": {
      "text/plain": [
       "'abc;123;xyz'"
      ]
     },
     "execution_count": 171,
     "metadata": {},
     "output_type": "execute_result"
    }
   ],
   "source": [
    "';'.join(['abc', '123', 'xyz'])"
   ]
  },
  {
   "cell_type": "code",
   "execution_count": 172,
   "metadata": {},
   "outputs": [
    {
     "data": {
      "text/plain": [
       "'abc123xyz'"
      ]
     },
     "execution_count": 172,
     "metadata": {},
     "output_type": "execute_result"
    }
   ],
   "source": [
    "''.join(['abc', '123', 'xyz'])"
   ]
  },
  {
   "cell_type": "code",
   "execution_count": 173,
   "metadata": {},
   "outputs": [
    {
     "data": {
      "text/plain": [
       "'<0112><32><1024x726>1'"
      ]
     },
     "execution_count": 173,
     "metadata": {},
     "output_type": "execute_result"
    }
   ],
   "source": [
    "''.join(pl)"
   ]
  },
  {
   "cell_type": "markdown",
   "metadata": {},
   "source": [
    " 如果列表中不仅有字符串，也有数字，但想拼接成字符串，怎么办？\n",
    " - 可以列表解析（但会生成新列表，占用资源）\n",
    " - 用生成器对象（推荐）"
   ]
  },
  {
   "cell_type": "code",
   "execution_count": 174,
   "metadata": {},
   "outputs": [
    {
     "data": {
      "text/plain": [
       "'abc123xyz'"
      ]
     },
     "execution_count": 174,
     "metadata": {},
     "output_type": "execute_result"
    }
   ],
   "source": [
    "l = ['abc', 123, 'xyz']\n",
    "''.join([str(x) for x in l])"
   ]
  },
  {
   "cell_type": "code",
   "execution_count": 177,
   "metadata": {},
   "outputs": [
    {
     "data": {
      "text/plain": [
       "<generator object <genexpr> at 0x10697ffc0>"
      ]
     },
     "execution_count": 177,
     "metadata": {},
     "output_type": "execute_result"
    }
   ],
   "source": [
    "(str(x) for x in l) #（）形成生成器对象"
   ]
  },
  {
   "cell_type": "code",
   "execution_count": 179,
   "metadata": {},
   "outputs": [
    {
     "data": {
      "text/plain": [
       "'abc123xyz'"
      ]
     },
     "execution_count": 179,
     "metadata": {},
     "output_type": "execute_result"
    }
   ],
   "source": [
    "''.join((str(x) for x in l))"
   ]
  },
  {
   "cell_type": "code",
   "execution_count": 180,
   "metadata": {},
   "outputs": [
    {
     "data": {
      "text/plain": [
       "'abc123xyz'"
      ]
     },
     "execution_count": 180,
     "metadata": {},
     "output_type": "execute_result"
    }
   ],
   "source": [
    "''.join(str(x) for x in l) #括号可以省略"
   ]
  },
  {
   "cell_type": "markdown",
   "metadata": {},
   "source": [
    "## <span id='17'>17 如何对字符串进行左、右、中对齐？</span>\n",
    "- 方法一：使用字符串的str.ljust(), str.rjust(), str.center()进行对齐\n",
    "- 方法二：使用format()方法，传递类似'<20', '>20', '^20'参数"
   ]
  },
  {
   "cell_type": "code",
   "execution_count": 181,
   "metadata": {},
   "outputs": [
    {
     "data": {
      "text/plain": [
       "'abc                 '"
      ]
     },
     "execution_count": 181,
     "metadata": {},
     "output_type": "execute_result"
    }
   ],
   "source": [
    "s = 'abc'\n",
    "s.ljust(20)"
   ]
  },
  {
   "cell_type": "code",
   "execution_count": 182,
   "metadata": {},
   "outputs": [
    {
     "name": "stdout",
     "output_type": "stream",
     "text": [
      "abc=================\n",
      "                 abc\n",
      "        abc         \n"
     ]
    }
   ],
   "source": [
    "print(s.ljust(20, '='))\n",
    "print(s.rjust(20))\n",
    "print(s.center(20))"
   ]
  },
  {
   "cell_type": "code",
   "execution_count": 183,
   "metadata": {},
   "outputs": [
    {
     "data": {
      "text/plain": [
       "'abc                 '"
      ]
     },
     "execution_count": 183,
     "metadata": {},
     "output_type": "execute_result"
    }
   ],
   "source": [
    "s = 'abc'\n",
    "format(s, '<20')"
   ]
  },
  {
   "cell_type": "code",
   "execution_count": 185,
   "metadata": {},
   "outputs": [
    {
     "name": "stdout",
     "output_type": "stream",
     "text": [
      "                 abc\n",
      "        abc         \n"
     ]
    }
   ],
   "source": [
    "print(format(s, '>20'))\n",
    "print(format(s, '^20'))"
   ]
  },
  {
   "cell_type": "markdown",
   "metadata": {},
   "source": [
    "实例：左对齐显示"
   ]
  },
  {
   "cell_type": "code",
   "execution_count": 188,
   "metadata": {},
   "outputs": [],
   "source": [
    "d = {\n",
    "    'Discull': 500.0,\n",
    "    'smallcull': 0.01,\n",
    "    'far': 444,\n",
    "    'large': 40,\n",
    "    'thisislongest': 100\n",
    "}"
   ]
  },
  {
   "cell_type": "code",
   "execution_count": 190,
   "metadata": {},
   "outputs": [
    {
     "data": {
      "text/plain": [
       "dict_keys(['Discull', 'smallcull', 'far', 'large', 'thisislongest'])"
      ]
     },
     "execution_count": 190,
     "metadata": {},
     "output_type": "execute_result"
    }
   ],
   "source": [
    "d.keys()"
   ]
  },
  {
   "cell_type": "code",
   "execution_count": 191,
   "metadata": {},
   "outputs": [
    {
     "data": {
      "text/plain": [
       "<map at 0x10698aa20>"
      ]
     },
     "execution_count": 191,
     "metadata": {},
     "output_type": "execute_result"
    }
   ],
   "source": [
    "map(len, d.keys())"
   ]
  },
  {
   "cell_type": "code",
   "execution_count": 192,
   "metadata": {},
   "outputs": [
    {
     "data": {
      "text/plain": [
       "13"
      ]
     },
     "execution_count": 192,
     "metadata": {},
     "output_type": "execute_result"
    }
   ],
   "source": [
    "max(map(len, d.keys()))"
   ]
  },
  {
   "cell_type": "code",
   "execution_count": 193,
   "metadata": {},
   "outputs": [],
   "source": [
    "w = max(map(len, d.keys()))"
   ]
  },
  {
   "cell_type": "code",
   "execution_count": 194,
   "metadata": {},
   "outputs": [
    {
     "name": "stdout",
     "output_type": "stream",
     "text": [
      "Discull       : 500.0\n",
      "smallcull     : 0.01\n",
      "far           : 444\n",
      "large         : 40\n",
      "thisislongest : 100\n"
     ]
    }
   ],
   "source": [
    "for k in d:\n",
    "    print(k.ljust(w), ':', d[k])"
   ]
  },
  {
   "cell_type": "code",
   "execution_count": 196,
   "metadata": {},
   "outputs": [
    {
     "name": "stdout",
     "output_type": "stream",
     "text": [
      "Discull       : 500.0\n",
      "smallcull     : 0.01\n",
      "far           : 444\n",
      "large         : 40\n",
      "thisislongest : 100\n"
     ]
    }
   ],
   "source": [
    "for k in d:\n",
    "    print(format(k, '<{}'.format(w)), ':', d[k])"
   ]
  },
  {
   "cell_type": "markdown",
   "metadata": {},
   "source": [
    "## <span id='18'> 18 如何去掉字符串中不需要的字符？</span>\n",
    "- 方法一：字符串strip(), lstrip(), rstrip()去掉字符串两端字符\n",
    "- 方法二：删除单个固定位置的字符，可以使用切片+拼接的方式\n",
    "- 方法三：字符串的replace()方法或正则表达式re.sub()删除任意位置字符\n",
    "- 方法四：字符串translate()方法，可以同时删除多种不同字符"
   ]
  },
  {
   "cell_type": "code",
   "execution_count": 198,
   "metadata": {},
   "outputs": [
    {
     "data": {
      "text/plain": [
       "'abc   123'"
      ]
     },
     "execution_count": 198,
     "metadata": {},
     "output_type": "execute_result"
    }
   ],
   "source": [
    "s = '   abc   123   '\n",
    "s.strip()"
   ]
  },
  {
   "cell_type": "code",
   "execution_count": 199,
   "metadata": {},
   "outputs": [
    {
     "data": {
      "text/plain": [
       "'abc   123   '"
      ]
     },
     "execution_count": 199,
     "metadata": {},
     "output_type": "execute_result"
    }
   ],
   "source": [
    "s.lstrip()"
   ]
  },
  {
   "cell_type": "code",
   "execution_count": 200,
   "metadata": {},
   "outputs": [
    {
     "data": {
      "text/plain": [
       "'   abc   123'"
      ]
     },
     "execution_count": 200,
     "metadata": {},
     "output_type": "execute_result"
    }
   ],
   "source": [
    "s.rstrip()"
   ]
  },
  {
   "cell_type": "code",
   "execution_count": 201,
   "metadata": {},
   "outputs": [
    {
     "data": {
      "text/plain": [
       "'abc'"
      ]
     },
     "execution_count": 201,
     "metadata": {},
     "output_type": "execute_result"
    }
   ],
   "source": [
    "s = '---abc+++'\n",
    "s.strip('-+')"
   ]
  },
  {
   "cell_type": "code",
   "execution_count": 202,
   "metadata": {},
   "outputs": [
    {
     "data": {
      "text/plain": [
       "'abc123'"
      ]
     },
     "execution_count": 202,
     "metadata": {},
     "output_type": "execute_result"
    }
   ],
   "source": [
    "# 切片+拼接\n",
    "s = 'abc:123'\n",
    "s[:3] + s[4:]"
   ]
  },
  {
   "cell_type": "code",
   "execution_count": 203,
   "metadata": {},
   "outputs": [
    {
     "data": {
      "text/plain": [
       "'abc123xyz'"
      ]
     },
     "execution_count": 203,
     "metadata": {},
     "output_type": "execute_result"
    }
   ],
   "source": [
    "# replace\n",
    "s = '\\tabc\\t123\\txyz'\n",
    "s.replace('\\t', '')"
   ]
  },
  {
   "cell_type": "code",
   "execution_count": 205,
   "metadata": {},
   "outputs": [
    {
     "data": {
      "text/plain": [
       "'abc123xyzopq'"
      ]
     },
     "execution_count": 205,
     "metadata": {},
     "output_type": "execute_result"
    }
   ],
   "source": [
    "# re.sub\n",
    "s = '\\tabc\\t123\\txyz\\ropq\\r'\n",
    "\n",
    "import re\n",
    "\n",
    "re.sub('[\\t\\r]', '', s)"
   ]
  },
  {
   "cell_type": "code",
   "execution_count": 211,
   "metadata": {},
   "outputs": [
    {
     "name": "stdout",
     "output_type": "stream",
     "text": [
      "Help on method_descriptor:\n",
      "\n",
      "translate(...)\n",
      "    S.translate(table) -> str\n",
      "    \n",
      "    Return a copy of the string S in which each character has been mapped\n",
      "    through the given translation table. The table must implement\n",
      "    lookup/indexing via __getitem__, for instance a dictionary or list,\n",
      "    mapping Unicode ordinals to Unicode ordinals, strings, or None. If\n",
      "    this operation raises LookupError, the character is left untouched.\n",
      "    Characters mapped to None are deleted.\n",
      "\n"
     ]
    }
   ],
   "source": [
    "# translate: str.translate & unicode.translate\n",
    "# unicode.translate在python3中被删除\n",
    "help(str.translate)"
   ]
  },
  {
   "cell_type": "code",
   "execution_count": 212,
   "metadata": {},
   "outputs": [
    {
     "data": {
      "text/plain": [
       "{97: 120, 98: 121, 99: 122, 120: 97, 121: 98, 122: 99}"
      ]
     },
     "execution_count": 212,
     "metadata": {},
     "output_type": "execute_result"
    }
   ],
   "source": [
    "# 将abc转化为xyz，xyz转化为abc，对字符串加密\n",
    "s = 'abc123xyz'\n",
    "\n",
    "str.maketrans('abcxyz', 'xyzabc') #建立映射表, 参数1和2长度必须一致"
   ]
  },
  {
   "cell_type": "code",
   "execution_count": 213,
   "metadata": {},
   "outputs": [
    {
     "data": {
      "text/plain": [
       "'xyz123abc'"
      ]
     },
     "execution_count": 213,
     "metadata": {},
     "output_type": "execute_result"
    }
   ],
   "source": [
    "s.translate(str.maketrans('abcxyz', 'xyzabc'))"
   ]
  },
  {
   "cell_type": "code",
   "execution_count": 221,
   "metadata": {},
   "outputs": [
    {
     "data": {
      "text/plain": [
       "'abc 123 xyz '"
      ]
     },
     "execution_count": 221,
     "metadata": {},
     "output_type": "execute_result"
    }
   ],
   "source": [
    "# s.translate()只有一个参数\n",
    "s = 'abc\\r123\\nxyz\\t'\n",
    "s.translate(str.maketrans('\\r\\n\\t', '   '))"
   ]
  },
  {
   "cell_type": "code",
   "execution_count": 225,
   "metadata": {},
   "outputs": [
    {
     "data": {
      "text/plain": [
       "'ní hǎo'"
      ]
     },
     "execution_count": 225,
     "metadata": {},
     "output_type": "execute_result"
    }
   ],
   "source": [
    "u = 'ni\\u0301 ha\\u030co'\n",
    "u"
   ]
  },
  {
   "cell_type": "code",
   "execution_count": 230,
   "metadata": {},
   "outputs": [
    {
     "data": {
      "text/plain": [
       "b'ni\\xcc\\x81 ha\\xcc\\x8co'"
      ]
     },
     "execution_count": 230,
     "metadata": {},
     "output_type": "execute_result"
    }
   ],
   "source": [
    "u.encode('utf-8')"
   ]
  },
  {
   "cell_type": "code",
   "execution_count": 237,
   "metadata": {},
   "outputs": [
    {
     "ename": "UnicodeEncodeError",
     "evalue": "'ascii' codec can't encode character '\\u0301' in position 2: ordinal not in range(128)",
     "output_type": "error",
     "traceback": [
      "\u001b[0;31m---------------------------------------------------------------------------\u001b[0m",
      "\u001b[0;31mUnicodeEncodeError\u001b[0m                        Traceback (most recent call last)",
      "\u001b[0;32m<ipython-input-237-186a5a4d99f6>\u001b[0m in \u001b[0;36m<module>\u001b[0;34m()\u001b[0m\n\u001b[0;32m----> 1\u001b[0;31m \u001b[0mu\u001b[0m\u001b[0;34m.\u001b[0m\u001b[0mencode\u001b[0m\u001b[0;34m(\u001b[0m\u001b[0;34m'ascii'\u001b[0m\u001b[0;34m)\u001b[0m\u001b[0;34m\u001b[0m\u001b[0m\n\u001b[0m",
      "\u001b[0;31mUnicodeEncodeError\u001b[0m: 'ascii' codec can't encode character '\\u0301' in position 2: ordinal not in range(128)"
     ]
    }
   ],
   "source": [
    "u.encode('ascii')"
   ]
  },
  {
   "cell_type": "code",
   "execution_count": 239,
   "metadata": {},
   "outputs": [
    {
     "data": {
      "text/plain": [
       "'ni hǎo'"
      ]
     },
     "execution_count": 239,
     "metadata": {},
     "output_type": "execute_result"
    }
   ],
   "source": [
    "u.translate({0x0301: None}) #键为ASCII码的数值，也就是16进制值"
   ]
  },
  {
   "cell_type": "code",
   "execution_count": 242,
   "metadata": {},
   "outputs": [
    {
     "data": {
      "text/plain": [
       "'ni hao'"
      ]
     },
     "execution_count": 242,
     "metadata": {},
     "output_type": "execute_result"
    }
   ],
   "source": [
    "u.translate(dict.fromkeys([0x0301, 0x030c])) #因为字典值为None，可以采用fromkeys返回多"
   ]
  },
  {
   "cell_type": "code",
   "execution_count": null,
   "metadata": {},
   "outputs": [],
   "source": []
  }
 ],
 "metadata": {
  "kernelspec": {
   "display_name": "Python 3",
   "language": "python",
   "name": "python3"
  },
  "language_info": {
   "codemirror_mode": {
    "name": "ipython",
    "version": 3
   },
   "file_extension": ".py",
   "mimetype": "text/x-python",
   "name": "python",
   "nbconvert_exporter": "python",
   "pygments_lexer": "ipython3",
   "version": "3.6.5"
  }
 },
 "nbformat": 4,
 "nbformat_minor": 2
}
